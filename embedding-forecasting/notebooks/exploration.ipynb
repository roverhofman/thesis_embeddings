{
 "cells": [
  {
   "cell_type": "code",
   "execution_count": 2,
   "id": "6a068dfa-0ef8-4a3e-b701-69b711d33e12",
   "metadata": {},
   "outputs": [
    {
     "data": {
      "text/html": [
       "<pre style=\"white-space:pre;overflow-x:auto;line-height:normal;font-family:Menlo,'DejaVu Sans Mono',consolas,'Courier New',monospace\"><span style=\"color: #7fbfbf; text-decoration-color: #7fbfbf\">[05/07/25 16:29:05] </span><span style=\"color: #000080; text-decoration-color: #000080\">INFO    </span> Registered line magic <span style=\"color: #008000; text-decoration-color: #008000\">'%reload_kedro'</span>                                   <a href=\"file:///Users/RoverHofman/Desktop/School/thesis/.venv/lib/python3.11/site-packages/kedro/ipython/__init__.py\" target=\"_blank\"><span style=\"color: #7f7f7f; text-decoration-color: #7f7f7f\">__init__.py</span></a><span style=\"color: #7f7f7f; text-decoration-color: #7f7f7f\">:</span><a href=\"file:///Users/RoverHofman/Desktop/School/thesis/.venv/lib/python3.11/site-packages/kedro/ipython/__init__.py#63\" target=\"_blank\"><span style=\"color: #7f7f7f; text-decoration-color: #7f7f7f\">63</span></a>\n",
       "</pre>\n"
      ],
      "text/plain": [
       "\u001b[2;36m[05/07/25 16:29:05]\u001b[0m\u001b[2;36m \u001b[0m\u001b[34mINFO    \u001b[0m Registered line magic \u001b[32m'%reload_kedro'\u001b[0m                                   \u001b]8;id=704521;file:///Users/RoverHofman/Desktop/School/thesis/.venv/lib/python3.11/site-packages/kedro/ipython/__init__.py\u001b\\\u001b[2m__init__.py\u001b[0m\u001b]8;;\u001b\\\u001b[2m:\u001b[0m\u001b]8;id=610556;file:///Users/RoverHofman/Desktop/School/thesis/.venv/lib/python3.11/site-packages/kedro/ipython/__init__.py#63\u001b\\\u001b[2m63\u001b[0m\u001b]8;;\u001b\\\n"
      ]
     },
     "metadata": {},
     "output_type": "display_data"
    },
    {
     "data": {
      "text/html": [
       "<pre style=\"white-space:pre;overflow-x:auto;line-height:normal;font-family:Menlo,'DejaVu Sans Mono',consolas,'Courier New',monospace\"><span style=\"color: #7fbfbf; text-decoration-color: #7fbfbf\">                    </span><span style=\"color: #000080; text-decoration-color: #000080\">INFO    </span> Registered line magic <span style=\"color: #008000; text-decoration-color: #008000\">'%load_node'</span>                                      <a href=\"file:///Users/RoverHofman/Desktop/School/thesis/.venv/lib/python3.11/site-packages/kedro/ipython/__init__.py\" target=\"_blank\"><span style=\"color: #7f7f7f; text-decoration-color: #7f7f7f\">__init__.py</span></a><span style=\"color: #7f7f7f; text-decoration-color: #7f7f7f\">:</span><a href=\"file:///Users/RoverHofman/Desktop/School/thesis/.venv/lib/python3.11/site-packages/kedro/ipython/__init__.py#65\" target=\"_blank\"><span style=\"color: #7f7f7f; text-decoration-color: #7f7f7f\">65</span></a>\n",
       "</pre>\n"
      ],
      "text/plain": [
       "\u001b[2;36m                   \u001b[0m\u001b[2;36m \u001b[0m\u001b[34mINFO    \u001b[0m Registered line magic \u001b[32m'%load_node'\u001b[0m                                      \u001b]8;id=355294;file:///Users/RoverHofman/Desktop/School/thesis/.venv/lib/python3.11/site-packages/kedro/ipython/__init__.py\u001b\\\u001b[2m__init__.py\u001b[0m\u001b]8;;\u001b\\\u001b[2m:\u001b[0m\u001b]8;id=325592;file:///Users/RoverHofman/Desktop/School/thesis/.venv/lib/python3.11/site-packages/kedro/ipython/__init__.py#65\u001b\\\u001b[2m65\u001b[0m\u001b]8;;\u001b\\\n"
      ]
     },
     "metadata": {},
     "output_type": "display_data"
    },
    {
     "data": {
      "text/html": [
       "<pre style=\"white-space:pre;overflow-x:auto;line-height:normal;font-family:Menlo,'DejaVu Sans Mono',consolas,'Courier New',monospace\"><span style=\"color: #7fbfbf; text-decoration-color: #7fbfbf\">                    </span><span style=\"color: #000080; text-decoration-color: #000080\">INFO    </span> Resolved project path as:                                              <a href=\"file:///Users/RoverHofman/Desktop/School/thesis/.venv/lib/python3.11/site-packages/kedro/ipython/__init__.py\" target=\"_blank\"><span style=\"color: #7f7f7f; text-decoration-color: #7f7f7f\">__init__.py</span></a><span style=\"color: #7f7f7f; text-decoration-color: #7f7f7f\">:</span><a href=\"file:///Users/RoverHofman/Desktop/School/thesis/.venv/lib/python3.11/site-packages/kedro/ipython/__init__.py#180\" target=\"_blank\"><span style=\"color: #7f7f7f; text-decoration-color: #7f7f7f\">180</span></a>\n",
       "<span style=\"color: #7fbfbf; text-decoration-color: #7fbfbf\">                    </span>         <span style=\"color: #800080; text-decoration-color: #800080\">/Users/RoverHofman/Desktop/School/thesis/</span><span style=\"color: #ff00ff; text-decoration-color: #ff00ff\">embedding-forecasting.</span>        <span style=\"color: #7f7f7f; text-decoration-color: #7f7f7f\">               </span>\n",
       "<span style=\"color: #7fbfbf; text-decoration-color: #7fbfbf\">                    </span>         To set a different path, run <span style=\"color: #008000; text-decoration-color: #008000\">'%reload_kedro &lt;project_root&gt;'</span>            <span style=\"color: #7f7f7f; text-decoration-color: #7f7f7f\">               </span>\n",
       "</pre>\n"
      ],
      "text/plain": [
       "\u001b[2;36m                   \u001b[0m\u001b[2;36m \u001b[0m\u001b[34mINFO    \u001b[0m Resolved project path as:                                              \u001b]8;id=748359;file:///Users/RoverHofman/Desktop/School/thesis/.venv/lib/python3.11/site-packages/kedro/ipython/__init__.py\u001b\\\u001b[2m__init__.py\u001b[0m\u001b]8;;\u001b\\\u001b[2m:\u001b[0m\u001b]8;id=829857;file:///Users/RoverHofman/Desktop/School/thesis/.venv/lib/python3.11/site-packages/kedro/ipython/__init__.py#180\u001b\\\u001b[2m180\u001b[0m\u001b]8;;\u001b\\\n",
       "\u001b[2;36m                    \u001b[0m         \u001b[35m/Users/RoverHofman/Desktop/School/thesis/\u001b[0m\u001b[95membedding-forecasting.\u001b[0m        \u001b[2m               \u001b[0m\n",
       "\u001b[2;36m                    \u001b[0m         To set a different path, run \u001b[32m'%reload_kedro \u001b[0m\u001b[32m<\u001b[0m\u001b[32mproject_root\u001b[0m\u001b[32m>\u001b[0m\u001b[32m'\u001b[0m            \u001b[2m               \u001b[0m\n"
      ]
     },
     "metadata": {},
     "output_type": "display_data"
    },
    {
     "data": {
      "text/html": [
       "<pre style=\"white-space:pre;overflow-x:auto;line-height:normal;font-family:Menlo,'DejaVu Sans Mono',consolas,'Courier New',monospace\"><span style=\"color: #7fbfbf; text-decoration-color: #7fbfbf\">                    </span><span style=\"color: #808000; text-decoration-color: #808000\">WARNING </span> <span style=\"color: #800080; text-decoration-color: #800080\">/Users/RoverHofman/Desktop/School/thesis/.venv/lib/python3.11/site-pac</span> <a href=\"file:///Library/Frameworks/Python.framework/Versions/3.11/lib/python3.11/warnings.py\" target=\"_blank\"><span style=\"color: #7f7f7f; text-decoration-color: #7f7f7f\">warnings.py</span></a><span style=\"color: #7f7f7f; text-decoration-color: #7f7f7f\">:</span><a href=\"file:///Library/Frameworks/Python.framework/Versions/3.11/lib/python3.11/warnings.py#109\" target=\"_blank\"><span style=\"color: #7f7f7f; text-decoration-color: #7f7f7f\">109</span></a>\n",
       "<span style=\"color: #7fbfbf; text-decoration-color: #7fbfbf\">                    </span>         <span style=\"color: #800080; text-decoration-color: #800080\">kages/kedro/io/</span><span style=\"color: #ff00ff; text-decoration-color: #ff00ff\">data_catalog.py</span>:<span style=\"color: #008080; text-decoration-color: #008080; font-weight: bold\">165</span>: KedroDeprecationWarning:           <span style=\"color: #7f7f7f; text-decoration-color: #7f7f7f\">               </span>\n",
       "<span style=\"color: #7fbfbf; text-decoration-color: #7fbfbf\">                    </span>         `DataCatalog` has been deprecated and will be replaced by              <span style=\"color: #7f7f7f; text-decoration-color: #7f7f7f\">               </span>\n",
       "<span style=\"color: #7fbfbf; text-decoration-color: #7fbfbf\">                    </span>         `KedroDataCatalog`, in Kedro <span style=\"color: #008080; text-decoration-color: #008080; font-weight: bold\">1.0</span>.<span style=\"color: #008080; text-decoration-color: #008080; font-weight: bold\">0.</span>Currently some `KedroDataCatalog`   <span style=\"color: #7f7f7f; text-decoration-color: #7f7f7f\">               </span>\n",
       "<span style=\"color: #7fbfbf; text-decoration-color: #7fbfbf\">                    </span>         APIs have been retained for compatibility with `DataCatalog`,          <span style=\"color: #7f7f7f; text-decoration-color: #7f7f7f\">               </span>\n",
       "<span style=\"color: #7fbfbf; text-decoration-color: #7fbfbf\">                    </span>         including the `datasets` property and the `get_datasets`,              <span style=\"color: #7f7f7f; text-decoration-color: #7f7f7f\">               </span>\n",
       "<span style=\"color: #7fbfbf; text-decoration-color: #7fbfbf\">                    </span>         `_get_datasets`, `add`,` list`, `add_feed_dict`, and `shallow_copy`    <span style=\"color: #7f7f7f; text-decoration-color: #7f7f7f\">               </span>\n",
       "<span style=\"color: #7fbfbf; text-decoration-color: #7fbfbf\">                    </span>         methods. These will be removed or replaced with updated alternatives   <span style=\"color: #7f7f7f; text-decoration-color: #7f7f7f\">               </span>\n",
       "<span style=\"color: #7fbfbf; text-decoration-color: #7fbfbf\">                    </span>         in Kedro <span style=\"color: #008080; text-decoration-color: #008080; font-weight: bold\">1.0</span>.<span style=\"color: #008080; text-decoration-color: #008080; font-weight: bold\">0</span>. For more details, refer to the documentation:          <span style=\"color: #7f7f7f; text-decoration-color: #7f7f7f\">               </span>\n",
       "<span style=\"color: #7fbfbf; text-decoration-color: #7fbfbf\">                    </span>         <span style=\"color: #0000ff; text-decoration-color: #0000ff; text-decoration: underline\">https://docs.kedro.org/en/stable/data/index.html#kedrodatacatalog-expe</span> <span style=\"color: #7f7f7f; text-decoration-color: #7f7f7f\">               </span>\n",
       "<span style=\"color: #7fbfbf; text-decoration-color: #7fbfbf\">                    </span>         <span style=\"color: #0000ff; text-decoration-color: #0000ff; text-decoration: underline\">rimental-feature</span>                                                       <span style=\"color: #7f7f7f; text-decoration-color: #7f7f7f\">               </span>\n",
       "<span style=\"color: #7fbfbf; text-decoration-color: #7fbfbf\">                    </span>           <span style=\"color: #800080; text-decoration-color: #800080; font-weight: bold\">warnings.warn</span><span style=\"font-weight: bold\">(</span>                                                       <span style=\"color: #7f7f7f; text-decoration-color: #7f7f7f\">               </span>\n",
       "<span style=\"color: #7fbfbf; text-decoration-color: #7fbfbf\">                    </span>                                                                                <span style=\"color: #7f7f7f; text-decoration-color: #7f7f7f\">               </span>\n",
       "</pre>\n"
      ],
      "text/plain": [
       "\u001b[2;36m                   \u001b[0m\u001b[2;36m \u001b[0m\u001b[33mWARNING \u001b[0m \u001b[35m/Users/RoverHofman/Desktop/School/thesis/.venv/lib/python3.11/site-pac\u001b[0m \u001b]8;id=946102;file:///Library/Frameworks/Python.framework/Versions/3.11/lib/python3.11/warnings.py\u001b\\\u001b[2mwarnings.py\u001b[0m\u001b]8;;\u001b\\\u001b[2m:\u001b[0m\u001b]8;id=796029;file:///Library/Frameworks/Python.framework/Versions/3.11/lib/python3.11/warnings.py#109\u001b\\\u001b[2m109\u001b[0m\u001b]8;;\u001b\\\n",
       "\u001b[2;36m                    \u001b[0m         \u001b[35mkages/kedro/io/\u001b[0m\u001b[95mdata_catalog.py\u001b[0m:\u001b[1;36m165\u001b[0m: KedroDeprecationWarning:           \u001b[2m               \u001b[0m\n",
       "\u001b[2;36m                    \u001b[0m         `DataCatalog` has been deprecated and will be replaced by              \u001b[2m               \u001b[0m\n",
       "\u001b[2;36m                    \u001b[0m         `KedroDataCatalog`, in Kedro \u001b[1;36m1.0\u001b[0m.\u001b[1;36m0.\u001b[0mCurrently some `KedroDataCatalog`   \u001b[2m               \u001b[0m\n",
       "\u001b[2;36m                    \u001b[0m         APIs have been retained for compatibility with `DataCatalog`,          \u001b[2m               \u001b[0m\n",
       "\u001b[2;36m                    \u001b[0m         including the `datasets` property and the `get_datasets`,              \u001b[2m               \u001b[0m\n",
       "\u001b[2;36m                    \u001b[0m         `_get_datasets`, `add`,` list`, `add_feed_dict`, and `shallow_copy`    \u001b[2m               \u001b[0m\n",
       "\u001b[2;36m                    \u001b[0m         methods. These will be removed or replaced with updated alternatives   \u001b[2m               \u001b[0m\n",
       "\u001b[2;36m                    \u001b[0m         in Kedro \u001b[1;36m1.0\u001b[0m.\u001b[1;36m0\u001b[0m. For more details, refer to the documentation:          \u001b[2m               \u001b[0m\n",
       "\u001b[2;36m                    \u001b[0m         \u001b[4;94mhttps://docs.kedro.org/en/stable/data/index.html#kedrodatacatalog-expe\u001b[0m \u001b[2m               \u001b[0m\n",
       "\u001b[2;36m                    \u001b[0m         \u001b[4;94mrimental-feature\u001b[0m                                                       \u001b[2m               \u001b[0m\n",
       "\u001b[2;36m                    \u001b[0m           \u001b[1;35mwarnings.warn\u001b[0m\u001b[1m(\u001b[0m                                                       \u001b[2m               \u001b[0m\n",
       "\u001b[2;36m                    \u001b[0m                                                                                \u001b[2m               \u001b[0m\n"
      ]
     },
     "metadata": {},
     "output_type": "display_data"
    },
    {
     "name": "stderr",
     "output_type": "stream",
     "text": [
      "25/05/07 16:29:09 WARN Utils: Your hostname, MacBook-Pro.local resolves to a loopback address: 127.0.0.1; using 192.168.178.55 instead (on interface en0)\n",
      "25/05/07 16:29:09 WARN Utils: Set SPARK_LOCAL_IP if you need to bind to another address\n",
      "Setting default log level to \"WARN\".\n",
      "To adjust logging level use sc.setLogLevel(newLevel). For SparkR, use setLogLevel(newLevel).\n",
      "25/05/07 16:29:10 WARN NativeCodeLoader: Unable to load native-hadoop library for your platform... using builtin-java classes where applicable\n"
     ]
    },
    {
     "data": {
      "text/html": [
       "<pre style=\"white-space:pre;overflow-x:auto;line-height:normal;font-family:Menlo,'DejaVu Sans Mono',consolas,'Courier New',monospace\"><span style=\"color: #7fbfbf; text-decoration-color: #7fbfbf\">[05/07/25 16:29:12] </span><span style=\"color: #808000; text-decoration-color: #808000\">WARNING </span> <span style=\"color: #800080; text-decoration-color: #800080\">/Users/RoverHofman/Desktop/School/thesis/.venv/lib/python3.11/site-pac</span> <a href=\"file:///Library/Frameworks/Python.framework/Versions/3.11/lib/python3.11/warnings.py\" target=\"_blank\"><span style=\"color: #7f7f7f; text-decoration-color: #7f7f7f\">warnings.py</span></a><span style=\"color: #7f7f7f; text-decoration-color: #7f7f7f\">:</span><a href=\"file:///Library/Frameworks/Python.framework/Versions/3.11/lib/python3.11/warnings.py#109\" target=\"_blank\"><span style=\"color: #7f7f7f; text-decoration-color: #7f7f7f\">109</span></a>\n",
       "<span style=\"color: #7fbfbf; text-decoration-color: #7fbfbf\">                    </span>         <span style=\"color: #800080; text-decoration-color: #800080\">kages/kedro/io/</span><span style=\"color: #ff00ff; text-decoration-color: #ff00ff\">data_catalog.py</span>:<span style=\"color: #008080; text-decoration-color: #008080; font-weight: bold\">165</span>: KedroDeprecationWarning:           <span style=\"color: #7f7f7f; text-decoration-color: #7f7f7f\">               </span>\n",
       "<span style=\"color: #7fbfbf; text-decoration-color: #7fbfbf\">                    </span>         `DataCatalog` has been deprecated and will be replaced by              <span style=\"color: #7f7f7f; text-decoration-color: #7f7f7f\">               </span>\n",
       "<span style=\"color: #7fbfbf; text-decoration-color: #7fbfbf\">                    </span>         `KedroDataCatalog`, in Kedro <span style=\"color: #008080; text-decoration-color: #008080; font-weight: bold\">1.0</span>.<span style=\"color: #008080; text-decoration-color: #008080; font-weight: bold\">0.</span>Currently some `KedroDataCatalog`   <span style=\"color: #7f7f7f; text-decoration-color: #7f7f7f\">               </span>\n",
       "<span style=\"color: #7fbfbf; text-decoration-color: #7fbfbf\">                    </span>         APIs have been retained for compatibility with `DataCatalog`,          <span style=\"color: #7f7f7f; text-decoration-color: #7f7f7f\">               </span>\n",
       "<span style=\"color: #7fbfbf; text-decoration-color: #7fbfbf\">                    </span>         including the `datasets` property and the `get_datasets`,              <span style=\"color: #7f7f7f; text-decoration-color: #7f7f7f\">               </span>\n",
       "<span style=\"color: #7fbfbf; text-decoration-color: #7fbfbf\">                    </span>         `_get_datasets`, `add`,` list`, `add_feed_dict`, and `shallow_copy`    <span style=\"color: #7f7f7f; text-decoration-color: #7f7f7f\">               </span>\n",
       "<span style=\"color: #7fbfbf; text-decoration-color: #7fbfbf\">                    </span>         methods. These will be removed or replaced with updated alternatives   <span style=\"color: #7f7f7f; text-decoration-color: #7f7f7f\">               </span>\n",
       "<span style=\"color: #7fbfbf; text-decoration-color: #7fbfbf\">                    </span>         in Kedro <span style=\"color: #008080; text-decoration-color: #008080; font-weight: bold\">1.0</span>.<span style=\"color: #008080; text-decoration-color: #008080; font-weight: bold\">0</span>. For more details, refer to the documentation:          <span style=\"color: #7f7f7f; text-decoration-color: #7f7f7f\">               </span>\n",
       "<span style=\"color: #7fbfbf; text-decoration-color: #7fbfbf\">                    </span>         <span style=\"color: #0000ff; text-decoration-color: #0000ff; text-decoration: underline\">https://docs.kedro.org/en/stable/data/index.html#kedrodatacatalog-expe</span> <span style=\"color: #7f7f7f; text-decoration-color: #7f7f7f\">               </span>\n",
       "<span style=\"color: #7fbfbf; text-decoration-color: #7fbfbf\">                    </span>         <span style=\"color: #0000ff; text-decoration-color: #0000ff; text-decoration: underline\">rimental-feature</span>                                                       <span style=\"color: #7f7f7f; text-decoration-color: #7f7f7f\">               </span>\n",
       "<span style=\"color: #7fbfbf; text-decoration-color: #7fbfbf\">                    </span>           <span style=\"color: #800080; text-decoration-color: #800080; font-weight: bold\">warnings.warn</span><span style=\"font-weight: bold\">(</span>                                                       <span style=\"color: #7f7f7f; text-decoration-color: #7f7f7f\">               </span>\n",
       "<span style=\"color: #7fbfbf; text-decoration-color: #7fbfbf\">                    </span>                                                                                <span style=\"color: #7f7f7f; text-decoration-color: #7f7f7f\">               </span>\n",
       "</pre>\n"
      ],
      "text/plain": [
       "\u001b[2;36m[05/07/25 16:29:12]\u001b[0m\u001b[2;36m \u001b[0m\u001b[33mWARNING \u001b[0m \u001b[35m/Users/RoverHofman/Desktop/School/thesis/.venv/lib/python3.11/site-pac\u001b[0m \u001b]8;id=382371;file:///Library/Frameworks/Python.framework/Versions/3.11/lib/python3.11/warnings.py\u001b\\\u001b[2mwarnings.py\u001b[0m\u001b]8;;\u001b\\\u001b[2m:\u001b[0m\u001b]8;id=125395;file:///Library/Frameworks/Python.framework/Versions/3.11/lib/python3.11/warnings.py#109\u001b\\\u001b[2m109\u001b[0m\u001b]8;;\u001b\\\n",
       "\u001b[2;36m                    \u001b[0m         \u001b[35mkages/kedro/io/\u001b[0m\u001b[95mdata_catalog.py\u001b[0m:\u001b[1;36m165\u001b[0m: KedroDeprecationWarning:           \u001b[2m               \u001b[0m\n",
       "\u001b[2;36m                    \u001b[0m         `DataCatalog` has been deprecated and will be replaced by              \u001b[2m               \u001b[0m\n",
       "\u001b[2;36m                    \u001b[0m         `KedroDataCatalog`, in Kedro \u001b[1;36m1.0\u001b[0m.\u001b[1;36m0.\u001b[0mCurrently some `KedroDataCatalog`   \u001b[2m               \u001b[0m\n",
       "\u001b[2;36m                    \u001b[0m         APIs have been retained for compatibility with `DataCatalog`,          \u001b[2m               \u001b[0m\n",
       "\u001b[2;36m                    \u001b[0m         including the `datasets` property and the `get_datasets`,              \u001b[2m               \u001b[0m\n",
       "\u001b[2;36m                    \u001b[0m         `_get_datasets`, `add`,` list`, `add_feed_dict`, and `shallow_copy`    \u001b[2m               \u001b[0m\n",
       "\u001b[2;36m                    \u001b[0m         methods. These will be removed or replaced with updated alternatives   \u001b[2m               \u001b[0m\n",
       "\u001b[2;36m                    \u001b[0m         in Kedro \u001b[1;36m1.0\u001b[0m.\u001b[1;36m0\u001b[0m. For more details, refer to the documentation:          \u001b[2m               \u001b[0m\n",
       "\u001b[2;36m                    \u001b[0m         \u001b[4;94mhttps://docs.kedro.org/en/stable/data/index.html#kedrodatacatalog-expe\u001b[0m \u001b[2m               \u001b[0m\n",
       "\u001b[2;36m                    \u001b[0m         \u001b[4;94mrimental-feature\u001b[0m                                                       \u001b[2m               \u001b[0m\n",
       "\u001b[2;36m                    \u001b[0m           \u001b[1;35mwarnings.warn\u001b[0m\u001b[1m(\u001b[0m                                                       \u001b[2m               \u001b[0m\n",
       "\u001b[2;36m                    \u001b[0m                                                                                \u001b[2m               \u001b[0m\n"
      ]
     },
     "metadata": {},
     "output_type": "display_data"
    },
    {
     "data": {
      "text/html": [
       "<pre style=\"white-space:pre;overflow-x:auto;line-height:normal;font-family:Menlo,'DejaVu Sans Mono',consolas,'Courier New',monospace\"><span style=\"color: #7fbfbf; text-decoration-color: #7fbfbf\">                    </span><span style=\"color: #000080; text-decoration-color: #000080\">INFO    </span> Kedro is sending anonymous usage data with the sole purpose of improving <a href=\"file:///Users/RoverHofman/Desktop/School/thesis/.venv/lib/python3.11/site-packages/kedro_telemetry/plugin.py\" target=\"_blank\"><span style=\"color: #7f7f7f; text-decoration-color: #7f7f7f\">plugin.py</span></a><span style=\"color: #7f7f7f; text-decoration-color: #7f7f7f\">:</span><a href=\"file:///Users/RoverHofman/Desktop/School/thesis/.venv/lib/python3.11/site-packages/kedro_telemetry/plugin.py#233\" target=\"_blank\"><span style=\"color: #7f7f7f; text-decoration-color: #7f7f7f\">233</span></a>\n",
       "<span style=\"color: #7fbfbf; text-decoration-color: #7fbfbf\">                    </span>         the product. No personal data or IP addresses are stored on our side. If <span style=\"color: #7f7f7f; text-decoration-color: #7f7f7f\">             </span>\n",
       "<span style=\"color: #7fbfbf; text-decoration-color: #7fbfbf\">                    </span>         you want to opt out, set the `KEDRO_DISABLE_TELEMETRY` or `DO_NOT_TRACK` <span style=\"color: #7f7f7f; text-decoration-color: #7f7f7f\">             </span>\n",
       "<span style=\"color: #7fbfbf; text-decoration-color: #7fbfbf\">                    </span>         environment variables, or create a `.telemetry` file in the current      <span style=\"color: #7f7f7f; text-decoration-color: #7f7f7f\">             </span>\n",
       "<span style=\"color: #7fbfbf; text-decoration-color: #7fbfbf\">                    </span>         working directory with the contents `consent: false`. Read more at       <span style=\"color: #7f7f7f; text-decoration-color: #7f7f7f\">             </span>\n",
       "<span style=\"color: #7fbfbf; text-decoration-color: #7fbfbf\">                    </span>         <span style=\"color: #0000ff; text-decoration-color: #0000ff; text-decoration: underline\">https://docs.kedro.org/en/stable/configuration/telemetry.html</span>            <span style=\"color: #7f7f7f; text-decoration-color: #7f7f7f\">             </span>\n",
       "</pre>\n"
      ],
      "text/plain": [
       "\u001b[2;36m                   \u001b[0m\u001b[2;36m \u001b[0m\u001b[34mINFO    \u001b[0m Kedro is sending anonymous usage data with the sole purpose of improving \u001b]8;id=178489;file:///Users/RoverHofman/Desktop/School/thesis/.venv/lib/python3.11/site-packages/kedro_telemetry/plugin.py\u001b\\\u001b[2mplugin.py\u001b[0m\u001b]8;;\u001b\\\u001b[2m:\u001b[0m\u001b]8;id=677937;file:///Users/RoverHofman/Desktop/School/thesis/.venv/lib/python3.11/site-packages/kedro_telemetry/plugin.py#233\u001b\\\u001b[2m233\u001b[0m\u001b]8;;\u001b\\\n",
       "\u001b[2;36m                    \u001b[0m         the product. No personal data or IP addresses are stored on our side. If \u001b[2m             \u001b[0m\n",
       "\u001b[2;36m                    \u001b[0m         you want to opt out, set the `KEDRO_DISABLE_TELEMETRY` or `DO_NOT_TRACK` \u001b[2m             \u001b[0m\n",
       "\u001b[2;36m                    \u001b[0m         environment variables, or create a `.telemetry` file in the current      \u001b[2m             \u001b[0m\n",
       "\u001b[2;36m                    \u001b[0m         working directory with the contents `consent: false`. Read more at       \u001b[2m             \u001b[0m\n",
       "\u001b[2;36m                    \u001b[0m         \u001b[4;94mhttps://docs.kedro.org/en/stable/configuration/telemetry.html\u001b[0m            \u001b[2m             \u001b[0m\n"
      ]
     },
     "metadata": {},
     "output_type": "display_data"
    },
    {
     "data": {
      "text/html": [
       "<pre style=\"white-space:pre;overflow-x:auto;line-height:normal;font-family:Menlo,'DejaVu Sans Mono',consolas,'Courier New',monospace\"><span style=\"color: #7fbfbf; text-decoration-color: #7fbfbf\">                    </span><span style=\"color: #000080; text-decoration-color: #000080\">INFO    </span> Kedro project embedding_forecasting                                    <a href=\"file:///Users/RoverHofman/Desktop/School/thesis/.venv/lib/python3.11/site-packages/kedro/ipython/__init__.py\" target=\"_blank\"><span style=\"color: #7f7f7f; text-decoration-color: #7f7f7f\">__init__.py</span></a><span style=\"color: #7f7f7f; text-decoration-color: #7f7f7f\">:</span><a href=\"file:///Users/RoverHofman/Desktop/School/thesis/.venv/lib/python3.11/site-packages/kedro/ipython/__init__.py#146\" target=\"_blank\"><span style=\"color: #7f7f7f; text-decoration-color: #7f7f7f\">146</span></a>\n",
       "</pre>\n"
      ],
      "text/plain": [
       "\u001b[2;36m                   \u001b[0m\u001b[2;36m \u001b[0m\u001b[34mINFO    \u001b[0m Kedro project embedding_forecasting                                    \u001b]8;id=217329;file:///Users/RoverHofman/Desktop/School/thesis/.venv/lib/python3.11/site-packages/kedro/ipython/__init__.py\u001b\\\u001b[2m__init__.py\u001b[0m\u001b]8;;\u001b\\\u001b[2m:\u001b[0m\u001b]8;id=134750;file:///Users/RoverHofman/Desktop/School/thesis/.venv/lib/python3.11/site-packages/kedro/ipython/__init__.py#146\u001b\\\u001b[2m146\u001b[0m\u001b]8;;\u001b\\\n"
      ]
     },
     "metadata": {},
     "output_type": "display_data"
    },
    {
     "data": {
      "text/html": [
       "<pre style=\"white-space:pre;overflow-x:auto;line-height:normal;font-family:Menlo,'DejaVu Sans Mono',consolas,'Courier New',monospace\"><span style=\"color: #7fbfbf; text-decoration-color: #7fbfbf\">                    </span><span style=\"color: #000080; text-decoration-color: #000080\">INFO    </span> Defined global variable <span style=\"color: #008000; text-decoration-color: #008000\">'context'</span>, <span style=\"color: #008000; text-decoration-color: #008000\">'session'</span>, <span style=\"color: #008000; text-decoration-color: #008000\">'catalog'</span> and            <a href=\"file:///Users/RoverHofman/Desktop/School/thesis/.venv/lib/python3.11/site-packages/kedro/ipython/__init__.py\" target=\"_blank\"><span style=\"color: #7f7f7f; text-decoration-color: #7f7f7f\">__init__.py</span></a><span style=\"color: #7f7f7f; text-decoration-color: #7f7f7f\">:</span><a href=\"file:///Users/RoverHofman/Desktop/School/thesis/.venv/lib/python3.11/site-packages/kedro/ipython/__init__.py#147\" target=\"_blank\"><span style=\"color: #7f7f7f; text-decoration-color: #7f7f7f\">147</span></a>\n",
       "<span style=\"color: #7fbfbf; text-decoration-color: #7fbfbf\">                    </span>         <span style=\"color: #008000; text-decoration-color: #008000\">'pipelines'</span>                                                            <span style=\"color: #7f7f7f; text-decoration-color: #7f7f7f\">               </span>\n",
       "</pre>\n"
      ],
      "text/plain": [
       "\u001b[2;36m                   \u001b[0m\u001b[2;36m \u001b[0m\u001b[34mINFO    \u001b[0m Defined global variable \u001b[32m'context'\u001b[0m, \u001b[32m'session'\u001b[0m, \u001b[32m'catalog'\u001b[0m and            \u001b]8;id=498204;file:///Users/RoverHofman/Desktop/School/thesis/.venv/lib/python3.11/site-packages/kedro/ipython/__init__.py\u001b\\\u001b[2m__init__.py\u001b[0m\u001b]8;;\u001b\\\u001b[2m:\u001b[0m\u001b]8;id=416463;file:///Users/RoverHofman/Desktop/School/thesis/.venv/lib/python3.11/site-packages/kedro/ipython/__init__.py#147\u001b\\\u001b[2m147\u001b[0m\u001b]8;;\u001b\\\n",
       "\u001b[2;36m                    \u001b[0m         \u001b[32m'pipelines'\u001b[0m                                                            \u001b[2m               \u001b[0m\n"
      ]
     },
     "metadata": {},
     "output_type": "display_data"
    }
   ],
   "source": []
  },
  {
   "cell_type": "code",
   "execution_count": 3,
   "id": "ffb9b50f-eb51-411e-b034-4ef471216b4f",
   "metadata": {},
   "outputs": [
    {
     "data": {
      "text/html": [
       "<pre style=\"white-space:pre;overflow-x:auto;line-height:normal;font-family:Menlo,'DejaVu Sans Mono',consolas,'Courier New',monospace\"></pre>\n"
      ],
      "text/plain": []
     },
     "metadata": {},
     "output_type": "display_data"
    },
    {
     "data": {
      "text/plain": [
       "\n",
       "\u001b[1;35mKedroContext\u001b[0m\u001b[1m(\u001b[0m\n",
       "    \u001b[33mproject_path\u001b[0m=\u001b[1;35mPosixPath\u001b[0m\u001b[1m(\u001b[0m\u001b[32m'/Users/RoverHofman/Desktop/School/thesis/embedding-forecasting'\u001b[0m\u001b[1m)\u001b[0m,\n",
       "    \u001b[33mconfig_loader\u001b[0m=\u001b[1;35mOmegaConfigLoader\u001b[0m\u001b[1m(\u001b[0m\u001b[33mconf_source\u001b[0m=\u001b[35m/Users/RoverHofman/Desktop/School/thesis/embedding-forecasting/\u001b[0m\u001b[95mconf\u001b[0m, \u001b[33menv\u001b[0m=\u001b[3;35mNone\u001b[0m, \u001b[33mruntime_params\u001b[0m=\u001b[1m{\u001b[0m\u001b[1m}\u001b[0m, \u001b[33mconfig_patterns\u001b[0m=\u001b[1m{\u001b[0m\u001b[32m'catalog'\u001b[0m: \u001b[1m[\u001b[0m\u001b[32m'catalog*'\u001b[0m, \u001b[32m'catalog*/**'\u001b[0m, \u001b[32m'**/catalog*'\u001b[0m\u001b[1m]\u001b[0m, \u001b[32m'parameters'\u001b[0m: \u001b[1m[\u001b[0m\u001b[32m'parameters*'\u001b[0m, \u001b[32m'parameters*/**'\u001b[0m, \u001b[32m'**/parameters*'\u001b[0m\u001b[1m]\u001b[0m, \u001b[32m'credentials'\u001b[0m: \u001b[1m[\u001b[0m\u001b[32m'credentials*'\u001b[0m, \u001b[32m'credentials*/**'\u001b[0m, \u001b[32m'**/credentials*'\u001b[0m\u001b[1m]\u001b[0m, \u001b[32m'globals'\u001b[0m: \u001b[1m[\u001b[0m\u001b[32m'globals.yml'\u001b[0m\u001b[1m]\u001b[0m, \u001b[32m'spark'\u001b[0m: \u001b[1m<\u001b[0m\u001b[1;95mBoxList:\u001b[0m\u001b[39m \u001b[0m\u001b[1;39m[\u001b[0m\u001b[32m'spark*'\u001b[0m\u001b[39m, \u001b[0m\u001b[32m'spark*/**'\u001b[0m\u001b[1;39m]\u001b[0m\u001b[39m>\u001b[0m\u001b[1;39m}\u001b[0m\u001b[39m, \u001b[0m\u001b[33mbase_env\u001b[0m\u001b[39m=\u001b[0m\u001b[35mbase\u001b[0m\u001b[1;39m)\u001b[0m\u001b[39m, \u001b[0m\u001b[33mdefault_run_env\u001b[0m\u001b[39m=\u001b[0m\u001b[35mlocal\u001b[0m\u001b[1;39m)\u001b[0m\u001b[39m, \u001b[0m\u001b[33mcustom_resolvers\u001b[0m\u001b[39m=\u001b[0m\u001b[3;35mNone\u001b[0m\u001b[1;39m)\u001b[0m\u001b[39m, \u001b[0m\u001b[33mmerge_strategy\u001b[0m\u001b[39m=\u001b[0m\u001b[1;39m{\u001b[0m\u001b[1;39m}\u001b[0m\u001b[1;39m)\u001b[0m\u001b[39m,\u001b[0m\n",
       "\u001b[39m    \u001b[0m\u001b[33menv\u001b[0m\u001b[39m=\u001b[0m\u001b[3;35mNone\u001b[0m\u001b[39m,\u001b[0m\n",
       "\u001b[39m    \u001b[0m\u001b[33m_package_name\u001b[0m\u001b[39m=\u001b[0m\u001b[3;35mNone\u001b[0m\u001b[39m,\u001b[0m\n",
       "\u001b[39m    \u001b[0m\u001b[33m_hook_manager\u001b[0m\u001b[39m=<pluggy._manager.PluginManager object at \u001b[0m\u001b[1;36m0x111d79e90\u001b[0m\u001b[1m>\u001b[0m,\n",
       "    \u001b[33m_extra_params\u001b[0m=\u001b[3;35mNone\u001b[0m\n",
       "\u001b[1m)\u001b[0m"
      ]
     },
     "execution_count": 3,
     "metadata": {},
     "output_type": "execute_result"
    }
   ],
   "source": [
    "catalog.load "
   ]
  },
  {
   "cell_type": "code",
   "execution_count": 4,
   "id": "58077e64-d80e-4614-98c4-4b138d4dd087",
   "metadata": {},
   "outputs": [
    {
     "data": {
      "text/html": [
       "<pre style=\"white-space:pre;overflow-x:auto;line-height:normal;font-family:Menlo,'DejaVu Sans Mono',consolas,'Courier New',monospace\"></pre>\n"
      ],
      "text/plain": []
     },
     "metadata": {},
     "output_type": "display_data"
    },
    {
     "data": {
      "text/plain": [
       "\u001b[1m<\u001b[0m\u001b[1;95mkedro.framework.session.session.KedroSession\u001b[0m\u001b[39m object at \u001b[0m\u001b[1;36m0x111fd3910\u001b[0m\u001b[1m>\u001b[0m"
      ]
     },
     "execution_count": 4,
     "metadata": {},
     "output_type": "execute_result"
    }
   ],
   "source": [
    "session"
   ]
  },
  {
   "cell_type": "code",
   "execution_count": 5,
   "id": "4a4d1c56-f044-44a6-bb67-7bc83bd4b6d8",
   "metadata": {},
   "outputs": [
    {
     "data": {
      "text/html": [
       "<pre style=\"white-space:pre;overflow-x:auto;line-height:normal;font-family:Menlo,'DejaVu Sans Mono',consolas,'Courier New',monospace\"></pre>\n"
      ],
      "text/plain": []
     },
     "metadata": {},
     "output_type": "display_data"
    },
    {
     "data": {
      "text/plain": [
       "\u001b[1m{\u001b[0m\u001b[32m'parameters'\u001b[0m: \u001b[32m\"kedro.io.memory_dataset.MemoryDataset\u001b[0m\u001b[32m(\u001b[0m\u001b[32mdata\u001b[0m\u001b[32m='\u001b[0m\u001b[32m<\u001b[0m\u001b[32mdict\u001b[0m\u001b[32m>\u001b[0m\u001b[32m'\u001b[0m\u001b[32m)\u001b[0m\u001b[32m\"\u001b[0m\u001b[1m}\u001b[0m"
      ]
     },
     "execution_count": 5,
     "metadata": {},
     "output_type": "execute_result"
    }
   ],
   "source": [
    "catalog"
   ]
  },
  {
   "cell_type": "code",
   "execution_count": 6,
   "id": "ee86d002-f997-4482-a805-d930be35e538",
   "metadata": {},
   "outputs": [
    {
     "data": {
      "text/html": [
       "<pre style=\"white-space:pre;overflow-x:auto;line-height:normal;font-family:Menlo,'DejaVu Sans Mono',consolas,'Courier New',monospace\"></pre>\n"
      ],
      "text/plain": []
     },
     "metadata": {},
     "output_type": "display_data"
    },
    {
     "data": {
      "text/plain": [
       "\u001b[1m{\u001b[0m\u001b[32m'__default__'\u001b[0m: \u001b[1;35mPipeline\u001b[0m\u001b[1m(\u001b[0m\u001b[1m[\u001b[0m\u001b[1m]\u001b[0m\u001b[1m)\u001b[0m\u001b[1m}\u001b[0m"
      ]
     },
     "execution_count": 6,
     "metadata": {},
     "output_type": "execute_result"
    }
   ],
   "source": [
    "pipelines"
   ]
  },
  {
   "cell_type": "code",
   "execution_count": 5,
   "id": "c8741a55-e612-42af-a27f-5140a56be7b7",
   "metadata": {},
   "outputs": [
    {
     "data": {
      "text/html": [
       "<pre style=\"white-space:pre;overflow-x:auto;line-height:normal;font-family:Menlo,'DejaVu Sans Mono',consolas,'Courier New',monospace\"><span style=\"color: #7fbfbf; text-decoration-color: #7fbfbf\">[05/29/25 10:56:25] </span><span style=\"color: #000080; text-decoration-color: #000080\">INFO    </span> Registered line magic <span style=\"color: #008000; text-decoration-color: #008000\">'%reload_kedro'</span>                                   <a href=\"file:///Users/RoverHofman/Desktop/School/thesis/embedding-forecasting/.venv/lib/python3.11/site-packages/kedro/ipython/__init__.py\" target=\"_blank\"><span style=\"color: #7f7f7f; text-decoration-color: #7f7f7f\">__init__.py</span></a><span style=\"color: #7f7f7f; text-decoration-color: #7f7f7f\">:</span><a href=\"file:///Users/RoverHofman/Desktop/School/thesis/embedding-forecasting/.venv/lib/python3.11/site-packages/kedro/ipython/__init__.py#63\" target=\"_blank\"><span style=\"color: #7f7f7f; text-decoration-color: #7f7f7f\">63</span></a>\n",
       "</pre>\n"
      ],
      "text/plain": [
       "\u001b[2;36m[05/29/25 10:56:25]\u001b[0m\u001b[2;36m \u001b[0m\u001b[34mINFO    \u001b[0m Registered line magic \u001b[32m'%reload_kedro'\u001b[0m                                   \u001b]8;id=403806;file:///Users/RoverHofman/Desktop/School/thesis/embedding-forecasting/.venv/lib/python3.11/site-packages/kedro/ipython/__init__.py\u001b\\\u001b[2m__init__.py\u001b[0m\u001b]8;;\u001b\\\u001b[2m:\u001b[0m\u001b]8;id=491657;file:///Users/RoverHofman/Desktop/School/thesis/embedding-forecasting/.venv/lib/python3.11/site-packages/kedro/ipython/__init__.py#63\u001b\\\u001b[2m63\u001b[0m\u001b]8;;\u001b\\\n"
      ]
     },
     "metadata": {},
     "output_type": "display_data"
    },
    {
     "data": {
      "text/html": [
       "<pre style=\"white-space:pre;overflow-x:auto;line-height:normal;font-family:Menlo,'DejaVu Sans Mono',consolas,'Courier New',monospace\"><span style=\"color: #7fbfbf; text-decoration-color: #7fbfbf\">                    </span><span style=\"color: #000080; text-decoration-color: #000080\">INFO    </span> Registered line magic <span style=\"color: #008000; text-decoration-color: #008000\">'%load_node'</span>                                      <a href=\"file:///Users/RoverHofman/Desktop/School/thesis/embedding-forecasting/.venv/lib/python3.11/site-packages/kedro/ipython/__init__.py\" target=\"_blank\"><span style=\"color: #7f7f7f; text-decoration-color: #7f7f7f\">__init__.py</span></a><span style=\"color: #7f7f7f; text-decoration-color: #7f7f7f\">:</span><a href=\"file:///Users/RoverHofman/Desktop/School/thesis/embedding-forecasting/.venv/lib/python3.11/site-packages/kedro/ipython/__init__.py#65\" target=\"_blank\"><span style=\"color: #7f7f7f; text-decoration-color: #7f7f7f\">65</span></a>\n",
       "</pre>\n"
      ],
      "text/plain": [
       "\u001b[2;36m                   \u001b[0m\u001b[2;36m \u001b[0m\u001b[34mINFO    \u001b[0m Registered line magic \u001b[32m'%load_node'\u001b[0m                                      \u001b]8;id=1319;file:///Users/RoverHofman/Desktop/School/thesis/embedding-forecasting/.venv/lib/python3.11/site-packages/kedro/ipython/__init__.py\u001b\\\u001b[2m__init__.py\u001b[0m\u001b]8;;\u001b\\\u001b[2m:\u001b[0m\u001b]8;id=148125;file:///Users/RoverHofman/Desktop/School/thesis/embedding-forecasting/.venv/lib/python3.11/site-packages/kedro/ipython/__init__.py#65\u001b\\\u001b[2m65\u001b[0m\u001b]8;;\u001b\\\n"
      ]
     },
     "metadata": {},
     "output_type": "display_data"
    },
    {
     "data": {
      "text/html": [
       "<pre style=\"white-space:pre;overflow-x:auto;line-height:normal;font-family:Menlo,'DejaVu Sans Mono',consolas,'Courier New',monospace\"><span style=\"color: #7fbfbf; text-decoration-color: #7fbfbf\">                    </span><span style=\"color: #000080; text-decoration-color: #000080\">INFO    </span> Resolved project path as:                                              <a href=\"file:///Users/RoverHofman/Desktop/School/thesis/embedding-forecasting/.venv/lib/python3.11/site-packages/kedro/ipython/__init__.py\" target=\"_blank\"><span style=\"color: #7f7f7f; text-decoration-color: #7f7f7f\">__init__.py</span></a><span style=\"color: #7f7f7f; text-decoration-color: #7f7f7f\">:</span><a href=\"file:///Users/RoverHofman/Desktop/School/thesis/embedding-forecasting/.venv/lib/python3.11/site-packages/kedro/ipython/__init__.py#180\" target=\"_blank\"><span style=\"color: #7f7f7f; text-decoration-color: #7f7f7f\">180</span></a>\n",
       "<span style=\"color: #7fbfbf; text-decoration-color: #7fbfbf\">                    </span>         <span style=\"color: #800080; text-decoration-color: #800080\">/Users/RoverHofman/Desktop/School/thesis/</span><span style=\"color: #ff00ff; text-decoration-color: #ff00ff\">embedding-forecasting.</span>        <span style=\"color: #7f7f7f; text-decoration-color: #7f7f7f\">               </span>\n",
       "<span style=\"color: #7fbfbf; text-decoration-color: #7fbfbf\">                    </span>         To set a different path, run <span style=\"color: #008000; text-decoration-color: #008000\">'%reload_kedro &lt;project_root&gt;'</span>            <span style=\"color: #7f7f7f; text-decoration-color: #7f7f7f\">               </span>\n",
       "</pre>\n"
      ],
      "text/plain": [
       "\u001b[2;36m                   \u001b[0m\u001b[2;36m \u001b[0m\u001b[34mINFO    \u001b[0m Resolved project path as:                                              \u001b]8;id=838362;file:///Users/RoverHofman/Desktop/School/thesis/embedding-forecasting/.venv/lib/python3.11/site-packages/kedro/ipython/__init__.py\u001b\\\u001b[2m__init__.py\u001b[0m\u001b]8;;\u001b\\\u001b[2m:\u001b[0m\u001b]8;id=132082;file:///Users/RoverHofman/Desktop/School/thesis/embedding-forecasting/.venv/lib/python3.11/site-packages/kedro/ipython/__init__.py#180\u001b\\\u001b[2m180\u001b[0m\u001b]8;;\u001b\\\n",
       "\u001b[2;36m                    \u001b[0m         \u001b[35m/Users/RoverHofman/Desktop/School/thesis/\u001b[0m\u001b[95membedding-forecasting.\u001b[0m        \u001b[2m               \u001b[0m\n",
       "\u001b[2;36m                    \u001b[0m         To set a different path, run \u001b[32m'%reload_kedro \u001b[0m\u001b[32m<\u001b[0m\u001b[32mproject_root\u001b[0m\u001b[32m>\u001b[0m\u001b[32m'\u001b[0m            \u001b[2m               \u001b[0m\n"
      ]
     },
     "metadata": {},
     "output_type": "display_data"
    },
    {
     "data": {
      "text/html": [
       "<pre style=\"white-space:pre;overflow-x:auto;line-height:normal;font-family:Menlo,'DejaVu Sans Mono',consolas,'Courier New',monospace\"><span style=\"color: #7fbfbf; text-decoration-color: #7fbfbf\">[05/29/25 10:56:26] </span><span style=\"color: #808000; text-decoration-color: #808000\">WARNING </span> <span style=\"color: #800080; text-decoration-color: #800080\">/Users/RoverHofman/Desktop/School/thesis/embedding-forecasting/.venv/l</span> <a href=\"file:///Library/Frameworks/Python.framework/Versions/3.11/lib/python3.11/warnings.py\" target=\"_blank\"><span style=\"color: #7f7f7f; text-decoration-color: #7f7f7f\">warnings.py</span></a><span style=\"color: #7f7f7f; text-decoration-color: #7f7f7f\">:</span><a href=\"file:///Library/Frameworks/Python.framework/Versions/3.11/lib/python3.11/warnings.py#109\" target=\"_blank\"><span style=\"color: #7f7f7f; text-decoration-color: #7f7f7f\">109</span></a>\n",
       "<span style=\"color: #7fbfbf; text-decoration-color: #7fbfbf\">                    </span>         <span style=\"color: #800080; text-decoration-color: #800080\">ib/python3.11/site-packages/kedro/io/</span><span style=\"color: #ff00ff; text-decoration-color: #ff00ff\">data_catalog.py</span>:<span style=\"color: #008080; text-decoration-color: #008080; font-weight: bold\">165</span>:              <span style=\"color: #7f7f7f; text-decoration-color: #7f7f7f\">               </span>\n",
       "<span style=\"color: #7fbfbf; text-decoration-color: #7fbfbf\">                    </span>         KedroDeprecationWarning: `DataCatalog` has been deprecated and will be <span style=\"color: #7f7f7f; text-decoration-color: #7f7f7f\">               </span>\n",
       "<span style=\"color: #7fbfbf; text-decoration-color: #7fbfbf\">                    </span>         replaced by `KedroDataCatalog`, in Kedro <span style=\"color: #008080; text-decoration-color: #008080; font-weight: bold\">1.0</span>.<span style=\"color: #008080; text-decoration-color: #008080; font-weight: bold\">0.</span>Currently some          <span style=\"color: #7f7f7f; text-decoration-color: #7f7f7f\">               </span>\n",
       "<span style=\"color: #7fbfbf; text-decoration-color: #7fbfbf\">                    </span>         `KedroDataCatalog` APIs have been retained for compatibility with      <span style=\"color: #7f7f7f; text-decoration-color: #7f7f7f\">               </span>\n",
       "<span style=\"color: #7fbfbf; text-decoration-color: #7fbfbf\">                    </span>         `DataCatalog`, including the `datasets` property and the               <span style=\"color: #7f7f7f; text-decoration-color: #7f7f7f\">               </span>\n",
       "<span style=\"color: #7fbfbf; text-decoration-color: #7fbfbf\">                    </span>         `get_datasets`, `_get_datasets`, `add`,` list`, `add_feed_dict`, and   <span style=\"color: #7f7f7f; text-decoration-color: #7f7f7f\">               </span>\n",
       "<span style=\"color: #7fbfbf; text-decoration-color: #7fbfbf\">                    </span>         `shallow_copy` methods. These will be removed or replaced with updated <span style=\"color: #7f7f7f; text-decoration-color: #7f7f7f\">               </span>\n",
       "<span style=\"color: #7fbfbf; text-decoration-color: #7fbfbf\">                    </span>         alternatives in Kedro <span style=\"color: #008080; text-decoration-color: #008080; font-weight: bold\">1.0</span>.<span style=\"color: #008080; text-decoration-color: #008080; font-weight: bold\">0</span>. For more details, refer to the            <span style=\"color: #7f7f7f; text-decoration-color: #7f7f7f\">               </span>\n",
       "<span style=\"color: #7fbfbf; text-decoration-color: #7fbfbf\">                    </span>         documentation:                                                         <span style=\"color: #7f7f7f; text-decoration-color: #7f7f7f\">               </span>\n",
       "<span style=\"color: #7fbfbf; text-decoration-color: #7fbfbf\">                    </span>         <span style=\"color: #0000ff; text-decoration-color: #0000ff; text-decoration: underline\">https://docs.kedro.org/en/stable/data/index.html#kedrodatacatalog-expe</span> <span style=\"color: #7f7f7f; text-decoration-color: #7f7f7f\">               </span>\n",
       "<span style=\"color: #7fbfbf; text-decoration-color: #7fbfbf\">                    </span>         <span style=\"color: #0000ff; text-decoration-color: #0000ff; text-decoration: underline\">rimental-feature</span>                                                       <span style=\"color: #7f7f7f; text-decoration-color: #7f7f7f\">               </span>\n",
       "<span style=\"color: #7fbfbf; text-decoration-color: #7fbfbf\">                    </span>           <span style=\"color: #800080; text-decoration-color: #800080; font-weight: bold\">warnings.warn</span><span style=\"font-weight: bold\">(</span>                                                       <span style=\"color: #7f7f7f; text-decoration-color: #7f7f7f\">               </span>\n",
       "<span style=\"color: #7fbfbf; text-decoration-color: #7fbfbf\">                    </span>                                                                                <span style=\"color: #7f7f7f; text-decoration-color: #7f7f7f\">               </span>\n",
       "</pre>\n"
      ],
      "text/plain": [
       "\u001b[2;36m[05/29/25 10:56:26]\u001b[0m\u001b[2;36m \u001b[0m\u001b[33mWARNING \u001b[0m \u001b[35m/Users/RoverHofman/Desktop/School/thesis/embedding-forecasting/.venv/l\u001b[0m \u001b]8;id=466637;file:///Library/Frameworks/Python.framework/Versions/3.11/lib/python3.11/warnings.py\u001b\\\u001b[2mwarnings.py\u001b[0m\u001b]8;;\u001b\\\u001b[2m:\u001b[0m\u001b]8;id=130814;file:///Library/Frameworks/Python.framework/Versions/3.11/lib/python3.11/warnings.py#109\u001b\\\u001b[2m109\u001b[0m\u001b]8;;\u001b\\\n",
       "\u001b[2;36m                    \u001b[0m         \u001b[35mib/python3.11/site-packages/kedro/io/\u001b[0m\u001b[95mdata_catalog.py\u001b[0m:\u001b[1;36m165\u001b[0m:              \u001b[2m               \u001b[0m\n",
       "\u001b[2;36m                    \u001b[0m         KedroDeprecationWarning: `DataCatalog` has been deprecated and will be \u001b[2m               \u001b[0m\n",
       "\u001b[2;36m                    \u001b[0m         replaced by `KedroDataCatalog`, in Kedro \u001b[1;36m1.0\u001b[0m.\u001b[1;36m0.\u001b[0mCurrently some          \u001b[2m               \u001b[0m\n",
       "\u001b[2;36m                    \u001b[0m         `KedroDataCatalog` APIs have been retained for compatibility with      \u001b[2m               \u001b[0m\n",
       "\u001b[2;36m                    \u001b[0m         `DataCatalog`, including the `datasets` property and the               \u001b[2m               \u001b[0m\n",
       "\u001b[2;36m                    \u001b[0m         `get_datasets`, `_get_datasets`, `add`,` list`, `add_feed_dict`, and   \u001b[2m               \u001b[0m\n",
       "\u001b[2;36m                    \u001b[0m         `shallow_copy` methods. These will be removed or replaced with updated \u001b[2m               \u001b[0m\n",
       "\u001b[2;36m                    \u001b[0m         alternatives in Kedro \u001b[1;36m1.0\u001b[0m.\u001b[1;36m0\u001b[0m. For more details, refer to the            \u001b[2m               \u001b[0m\n",
       "\u001b[2;36m                    \u001b[0m         documentation:                                                         \u001b[2m               \u001b[0m\n",
       "\u001b[2;36m                    \u001b[0m         \u001b[4;94mhttps://docs.kedro.org/en/stable/data/index.html#kedrodatacatalog-expe\u001b[0m \u001b[2m               \u001b[0m\n",
       "\u001b[2;36m                    \u001b[0m         \u001b[4;94mrimental-feature\u001b[0m                                                       \u001b[2m               \u001b[0m\n",
       "\u001b[2;36m                    \u001b[0m           \u001b[1;35mwarnings.warn\u001b[0m\u001b[1m(\u001b[0m                                                       \u001b[2m               \u001b[0m\n",
       "\u001b[2;36m                    \u001b[0m                                                                                \u001b[2m               \u001b[0m\n"
      ]
     },
     "metadata": {},
     "output_type": "display_data"
    },
    {
     "data": {
      "text/html": [
       "<pre style=\"white-space:pre;overflow-x:auto;line-height:normal;font-family:Menlo,'DejaVu Sans Mono',consolas,'Courier New',monospace\"><span style=\"color: #7fbfbf; text-decoration-color: #7fbfbf\">                    </span><span style=\"color: #808000; text-decoration-color: #808000\">WARNING </span> <span style=\"color: #800080; text-decoration-color: #800080\">/Users/RoverHofman/Desktop/School/thesis/embedding-forecasting/.venv/l</span> <a href=\"file:///Library/Frameworks/Python.framework/Versions/3.11/lib/python3.11/warnings.py\" target=\"_blank\"><span style=\"color: #7f7f7f; text-decoration-color: #7f7f7f\">warnings.py</span></a><span style=\"color: #7f7f7f; text-decoration-color: #7f7f7f\">:</span><a href=\"file:///Library/Frameworks/Python.framework/Versions/3.11/lib/python3.11/warnings.py#109\" target=\"_blank\"><span style=\"color: #7f7f7f; text-decoration-color: #7f7f7f\">109</span></a>\n",
       "<span style=\"color: #7fbfbf; text-decoration-color: #7fbfbf\">                    </span>         <span style=\"color: #800080; text-decoration-color: #800080\">ib/python3.11/site-packages/kedro/io/</span><span style=\"color: #ff00ff; text-decoration-color: #ff00ff\">core.py</span>:<span style=\"color: #008080; text-decoration-color: #008080; font-weight: bold\">355</span>:                      <span style=\"color: #7f7f7f; text-decoration-color: #7f7f7f\">               </span>\n",
       "<span style=\"color: #7fbfbf; text-decoration-color: #7fbfbf\">                    </span>         KedroDeprecationWarning: The MatplotlibWriter class has been renamed   <span style=\"color: #7f7f7f; text-decoration-color: #7f7f7f\">               </span>\n",
       "<span style=\"color: #7fbfbf; text-decoration-color: #7fbfbf\">                    </span>         to MatplotlibDataset. The MatplotlibWriter name is deprecated and will <span style=\"color: #7f7f7f; text-decoration-color: #7f7f7f\">               </span>\n",
       "<span style=\"color: #7fbfbf; text-decoration-color: #7fbfbf\">                    </span>         be removed in a future release.                                        <span style=\"color: #7f7f7f; text-decoration-color: #7f7f7f\">               </span>\n",
       "<span style=\"color: #7fbfbf; text-decoration-color: #7fbfbf\">                    </span>           <span style=\"color: #800080; text-decoration-color: #800080; font-weight: bold\">init_func</span><span style=\"font-weight: bold\">(</span>self, *args, **kwargs<span style=\"font-weight: bold\">)</span>                                     <span style=\"color: #7f7f7f; text-decoration-color: #7f7f7f\">               </span>\n",
       "<span style=\"color: #7fbfbf; text-decoration-color: #7fbfbf\">                    </span>                                                                                <span style=\"color: #7f7f7f; text-decoration-color: #7f7f7f\">               </span>\n",
       "</pre>\n"
      ],
      "text/plain": [
       "\u001b[2;36m                   \u001b[0m\u001b[2;36m \u001b[0m\u001b[33mWARNING \u001b[0m \u001b[35m/Users/RoverHofman/Desktop/School/thesis/embedding-forecasting/.venv/l\u001b[0m \u001b]8;id=102627;file:///Library/Frameworks/Python.framework/Versions/3.11/lib/python3.11/warnings.py\u001b\\\u001b[2mwarnings.py\u001b[0m\u001b]8;;\u001b\\\u001b[2m:\u001b[0m\u001b]8;id=35542;file:///Library/Frameworks/Python.framework/Versions/3.11/lib/python3.11/warnings.py#109\u001b\\\u001b[2m109\u001b[0m\u001b]8;;\u001b\\\n",
       "\u001b[2;36m                    \u001b[0m         \u001b[35mib/python3.11/site-packages/kedro/io/\u001b[0m\u001b[95mcore.py\u001b[0m:\u001b[1;36m355\u001b[0m:                      \u001b[2m               \u001b[0m\n",
       "\u001b[2;36m                    \u001b[0m         KedroDeprecationWarning: The MatplotlibWriter class has been renamed   \u001b[2m               \u001b[0m\n",
       "\u001b[2;36m                    \u001b[0m         to MatplotlibDataset. The MatplotlibWriter name is deprecated and will \u001b[2m               \u001b[0m\n",
       "\u001b[2;36m                    \u001b[0m         be removed in a future release.                                        \u001b[2m               \u001b[0m\n",
       "\u001b[2;36m                    \u001b[0m           \u001b[1;35minit_func\u001b[0m\u001b[1m(\u001b[0mself, *args, **kwargs\u001b[1m)\u001b[0m                                     \u001b[2m               \u001b[0m\n",
       "\u001b[2;36m                    \u001b[0m                                                                                \u001b[2m               \u001b[0m\n"
      ]
     },
     "metadata": {},
     "output_type": "display_data"
    },
    {
     "data": {
      "text/html": [
       "<pre style=\"white-space:pre;overflow-x:auto;line-height:normal;font-family:Menlo,'DejaVu Sans Mono',consolas,'Courier New',monospace\"><span style=\"color: #7fbfbf; text-decoration-color: #7fbfbf\">                    </span><span style=\"color: #808000; text-decoration-color: #808000\">WARNING </span> <span style=\"color: #800080; text-decoration-color: #800080\">/Users/RoverHofman/Desktop/School/thesis/embedding-forecasting/.venv/l</span> <a href=\"file:///Library/Frameworks/Python.framework/Versions/3.11/lib/python3.11/warnings.py\" target=\"_blank\"><span style=\"color: #7f7f7f; text-decoration-color: #7f7f7f\">warnings.py</span></a><span style=\"color: #7f7f7f; text-decoration-color: #7f7f7f\">:</span><a href=\"file:///Library/Frameworks/Python.framework/Versions/3.11/lib/python3.11/warnings.py#109\" target=\"_blank\"><span style=\"color: #7f7f7f; text-decoration-color: #7f7f7f\">109</span></a>\n",
       "<span style=\"color: #7fbfbf; text-decoration-color: #7fbfbf\">                    </span>         <span style=\"color: #800080; text-decoration-color: #800080\">ib/python3.11/site-packages/kedro/io/</span><span style=\"color: #ff00ff; text-decoration-color: #ff00ff\">data_catalog.py</span>:<span style=\"color: #008080; text-decoration-color: #008080; font-weight: bold\">165</span>:              <span style=\"color: #7f7f7f; text-decoration-color: #7f7f7f\">               </span>\n",
       "<span style=\"color: #7fbfbf; text-decoration-color: #7fbfbf\">                    </span>         KedroDeprecationWarning: `DataCatalog` has been deprecated and will be <span style=\"color: #7f7f7f; text-decoration-color: #7f7f7f\">               </span>\n",
       "<span style=\"color: #7fbfbf; text-decoration-color: #7fbfbf\">                    </span>         replaced by `KedroDataCatalog`, in Kedro <span style=\"color: #008080; text-decoration-color: #008080; font-weight: bold\">1.0</span>.<span style=\"color: #008080; text-decoration-color: #008080; font-weight: bold\">0.</span>Currently some          <span style=\"color: #7f7f7f; text-decoration-color: #7f7f7f\">               </span>\n",
       "<span style=\"color: #7fbfbf; text-decoration-color: #7fbfbf\">                    </span>         `KedroDataCatalog` APIs have been retained for compatibility with      <span style=\"color: #7f7f7f; text-decoration-color: #7f7f7f\">               </span>\n",
       "<span style=\"color: #7fbfbf; text-decoration-color: #7fbfbf\">                    </span>         `DataCatalog`, including the `datasets` property and the               <span style=\"color: #7f7f7f; text-decoration-color: #7f7f7f\">               </span>\n",
       "<span style=\"color: #7fbfbf; text-decoration-color: #7fbfbf\">                    </span>         `get_datasets`, `_get_datasets`, `add`,` list`, `add_feed_dict`, and   <span style=\"color: #7f7f7f; text-decoration-color: #7f7f7f\">               </span>\n",
       "<span style=\"color: #7fbfbf; text-decoration-color: #7fbfbf\">                    </span>         `shallow_copy` methods. These will be removed or replaced with updated <span style=\"color: #7f7f7f; text-decoration-color: #7f7f7f\">               </span>\n",
       "<span style=\"color: #7fbfbf; text-decoration-color: #7fbfbf\">                    </span>         alternatives in Kedro <span style=\"color: #008080; text-decoration-color: #008080; font-weight: bold\">1.0</span>.<span style=\"color: #008080; text-decoration-color: #008080; font-weight: bold\">0</span>. For more details, refer to the            <span style=\"color: #7f7f7f; text-decoration-color: #7f7f7f\">               </span>\n",
       "<span style=\"color: #7fbfbf; text-decoration-color: #7fbfbf\">                    </span>         documentation:                                                         <span style=\"color: #7f7f7f; text-decoration-color: #7f7f7f\">               </span>\n",
       "<span style=\"color: #7fbfbf; text-decoration-color: #7fbfbf\">                    </span>         <span style=\"color: #0000ff; text-decoration-color: #0000ff; text-decoration: underline\">https://docs.kedro.org/en/stable/data/index.html#kedrodatacatalog-expe</span> <span style=\"color: #7f7f7f; text-decoration-color: #7f7f7f\">               </span>\n",
       "<span style=\"color: #7fbfbf; text-decoration-color: #7fbfbf\">                    </span>         <span style=\"color: #0000ff; text-decoration-color: #0000ff; text-decoration: underline\">rimental-feature</span>                                                       <span style=\"color: #7f7f7f; text-decoration-color: #7f7f7f\">               </span>\n",
       "<span style=\"color: #7fbfbf; text-decoration-color: #7fbfbf\">                    </span>           <span style=\"color: #800080; text-decoration-color: #800080; font-weight: bold\">warnings.warn</span><span style=\"font-weight: bold\">(</span>                                                       <span style=\"color: #7f7f7f; text-decoration-color: #7f7f7f\">               </span>\n",
       "<span style=\"color: #7fbfbf; text-decoration-color: #7fbfbf\">                    </span>                                                                                <span style=\"color: #7f7f7f; text-decoration-color: #7f7f7f\">               </span>\n",
       "</pre>\n"
      ],
      "text/plain": [
       "\u001b[2;36m                   \u001b[0m\u001b[2;36m \u001b[0m\u001b[33mWARNING \u001b[0m \u001b[35m/Users/RoverHofman/Desktop/School/thesis/embedding-forecasting/.venv/l\u001b[0m \u001b]8;id=954204;file:///Library/Frameworks/Python.framework/Versions/3.11/lib/python3.11/warnings.py\u001b\\\u001b[2mwarnings.py\u001b[0m\u001b]8;;\u001b\\\u001b[2m:\u001b[0m\u001b]8;id=156503;file:///Library/Frameworks/Python.framework/Versions/3.11/lib/python3.11/warnings.py#109\u001b\\\u001b[2m109\u001b[0m\u001b]8;;\u001b\\\n",
       "\u001b[2;36m                    \u001b[0m         \u001b[35mib/python3.11/site-packages/kedro/io/\u001b[0m\u001b[95mdata_catalog.py\u001b[0m:\u001b[1;36m165\u001b[0m:              \u001b[2m               \u001b[0m\n",
       "\u001b[2;36m                    \u001b[0m         KedroDeprecationWarning: `DataCatalog` has been deprecated and will be \u001b[2m               \u001b[0m\n",
       "\u001b[2;36m                    \u001b[0m         replaced by `KedroDataCatalog`, in Kedro \u001b[1;36m1.0\u001b[0m.\u001b[1;36m0.\u001b[0mCurrently some          \u001b[2m               \u001b[0m\n",
       "\u001b[2;36m                    \u001b[0m         `KedroDataCatalog` APIs have been retained for compatibility with      \u001b[2m               \u001b[0m\n",
       "\u001b[2;36m                    \u001b[0m         `DataCatalog`, including the `datasets` property and the               \u001b[2m               \u001b[0m\n",
       "\u001b[2;36m                    \u001b[0m         `get_datasets`, `_get_datasets`, `add`,` list`, `add_feed_dict`, and   \u001b[2m               \u001b[0m\n",
       "\u001b[2;36m                    \u001b[0m         `shallow_copy` methods. These will be removed or replaced with updated \u001b[2m               \u001b[0m\n",
       "\u001b[2;36m                    \u001b[0m         alternatives in Kedro \u001b[1;36m1.0\u001b[0m.\u001b[1;36m0\u001b[0m. For more details, refer to the            \u001b[2m               \u001b[0m\n",
       "\u001b[2;36m                    \u001b[0m         documentation:                                                         \u001b[2m               \u001b[0m\n",
       "\u001b[2;36m                    \u001b[0m         \u001b[4;94mhttps://docs.kedro.org/en/stable/data/index.html#kedrodatacatalog-expe\u001b[0m \u001b[2m               \u001b[0m\n",
       "\u001b[2;36m                    \u001b[0m         \u001b[4;94mrimental-feature\u001b[0m                                                       \u001b[2m               \u001b[0m\n",
       "\u001b[2;36m                    \u001b[0m           \u001b[1;35mwarnings.warn\u001b[0m\u001b[1m(\u001b[0m                                                       \u001b[2m               \u001b[0m\n",
       "\u001b[2;36m                    \u001b[0m                                                                                \u001b[2m               \u001b[0m\n"
      ]
     },
     "metadata": {},
     "output_type": "display_data"
    },
    {
     "data": {
      "text/html": [
       "<pre style=\"white-space:pre;overflow-x:auto;line-height:normal;font-family:Menlo,'DejaVu Sans Mono',consolas,'Courier New',monospace\"><span style=\"color: #7fbfbf; text-decoration-color: #7fbfbf\">[05/29/25 10:56:30] </span><span style=\"color: #000080; text-decoration-color: #000080\">INFO    </span> Data processing kwargs: <span style=\"font-weight: bold\">{</span><span style=\"color: #008000; text-decoration-color: #008000\">'model_options'</span>: <span style=\"font-weight: bold\">{</span><span style=\"color: #008000; text-decoration-color: #008000\">'embed_dim'</span>: <span style=\"color: #008080; text-decoration-color: #008080; font-weight: bold\">10</span>,              <a href=\"file:///Users/RoverHofman/Desktop/School/thesis/embedding-forecasting/src/embedding_forecasting/pipelines/data_processing/pipeline.py\" target=\"_blank\"><span style=\"color: #7f7f7f; text-decoration-color: #7f7f7f\">pipeline.py</span></a><span style=\"color: #7f7f7f; text-decoration-color: #7f7f7f\">:</span><a href=\"file:///Users/RoverHofman/Desktop/School/thesis/embedding-forecasting/src/embedding_forecasting/pipelines/data_processing/pipeline.py#9\" target=\"_blank\"><span style=\"color: #7f7f7f; text-decoration-color: #7f7f7f\">9</span></a>\n",
       "<span style=\"color: #7fbfbf; text-decoration-color: #7fbfbf\">                    </span>         <span style=\"color: #008000; text-decoration-color: #008000\">'window_size'</span>: <span style=\"color: #008080; text-decoration-color: #008080; font-weight: bold\">90</span>, <span style=\"color: #008000; text-decoration-color: #008000\">'random_state'</span>: <span style=\"color: #008080; text-decoration-color: #008080; font-weight: bold\">1</span>, <span style=\"color: #008000; text-decoration-color: #008000\">'epochs'</span>: <span style=\"color: #008080; text-decoration-color: #008080; font-weight: bold\">50</span>, <span style=\"color: #008000; text-decoration-color: #008000\">'batch_size'</span>: <span style=\"color: #008080; text-decoration-color: #008080; font-weight: bold\">32</span><span style=\"font-weight: bold\">}</span>,   <span style=\"color: #7f7f7f; text-decoration-color: #7f7f7f\">             </span>\n",
       "<span style=\"color: #7fbfbf; text-decoration-color: #7fbfbf\">                    </span>         <span style=\"color: #008000; text-decoration-color: #008000\">'window_size'</span>: <span style=\"color: #008080; text-decoration-color: #008080; font-weight: bold\">90</span>, <span style=\"color: #008000; text-decoration-color: #008000\">'validation_fraction'</span>: <span style=\"color: #008080; text-decoration-color: #008080; font-weight: bold\">0.1</span>, <span style=\"color: #008000; text-decoration-color: #008000\">'test_fraction'</span>: <span style=\"color: #008080; text-decoration-color: #008080; font-weight: bold\">0.1</span>,     <span style=\"color: #7f7f7f; text-decoration-color: #7f7f7f\">             </span>\n",
       "<span style=\"color: #7fbfbf; text-decoration-color: #7fbfbf\">                    </span>         <span style=\"color: #008000; text-decoration-color: #008000\">'lle_parameters'</span>: <span style=\"font-weight: bold\">{</span><span style=\"color: #008000; text-decoration-color: #008000\">'n_neighbors'</span>: <span style=\"color: #008080; text-decoration-color: #008080; font-weight: bold\">10</span>, <span style=\"color: #008000; text-decoration-color: #008000\">'n_components'</span>: <span style=\"color: #008080; text-decoration-color: #008080; font-weight: bold\">10</span>,                <span style=\"color: #7f7f7f; text-decoration-color: #7f7f7f\">             </span>\n",
       "<span style=\"color: #7fbfbf; text-decoration-color: #7fbfbf\">                    </span>         <span style=\"color: #008000; text-decoration-color: #008000\">'random_state'</span>: <span style=\"color: #008080; text-decoration-color: #008080; font-weight: bold\">42</span><span style=\"font-weight: bold\">}</span>, <span style=\"color: #008000; text-decoration-color: #008000\">'wavelet_parameters'</span>: <span style=\"font-weight: bold\">{</span><span style=\"color: #008000; text-decoration-color: #008000\">'wavelet'</span>: <span style=\"color: #008000; text-decoration-color: #008000\">'db1'</span>, <span style=\"color: #008000; text-decoration-color: #008000\">'level'</span>:   <span style=\"color: #7f7f7f; text-decoration-color: #7f7f7f\">             </span>\n",
       "<span style=\"color: #7fbfbf; text-decoration-color: #7fbfbf\">                    </span>         <span style=\"color: #008080; text-decoration-color: #008080; font-weight: bold\">1</span><span style=\"font-weight: bold\">}</span>, <span style=\"color: #008000; text-decoration-color: #008000\">'n_components'</span>: <span style=\"color: #008080; text-decoration-color: #008080; font-weight: bold\">10</span><span style=\"font-weight: bold\">}</span>                                                  <span style=\"color: #7f7f7f; text-decoration-color: #7f7f7f\">             </span>\n",
       "</pre>\n"
      ],
      "text/plain": [
       "\u001b[2;36m[05/29/25 10:56:30]\u001b[0m\u001b[2;36m \u001b[0m\u001b[34mINFO    \u001b[0m Data processing kwargs: \u001b[1m{\u001b[0m\u001b[32m'model_options'\u001b[0m: \u001b[1m{\u001b[0m\u001b[32m'embed_dim'\u001b[0m: \u001b[1;36m10\u001b[0m,              \u001b]8;id=432599;file:///Users/RoverHofman/Desktop/School/thesis/embedding-forecasting/src/embedding_forecasting/pipelines/data_processing/pipeline.py\u001b\\\u001b[2mpipeline.py\u001b[0m\u001b]8;;\u001b\\\u001b[2m:\u001b[0m\u001b]8;id=524436;file:///Users/RoverHofman/Desktop/School/thesis/embedding-forecasting/src/embedding_forecasting/pipelines/data_processing/pipeline.py#9\u001b\\\u001b[2m9\u001b[0m\u001b]8;;\u001b\\\n",
       "\u001b[2;36m                    \u001b[0m         \u001b[32m'window_size'\u001b[0m: \u001b[1;36m90\u001b[0m, \u001b[32m'random_state'\u001b[0m: \u001b[1;36m1\u001b[0m, \u001b[32m'epochs'\u001b[0m: \u001b[1;36m50\u001b[0m, \u001b[32m'batch_size'\u001b[0m: \u001b[1;36m32\u001b[0m\u001b[1m}\u001b[0m,   \u001b[2m             \u001b[0m\n",
       "\u001b[2;36m                    \u001b[0m         \u001b[32m'window_size'\u001b[0m: \u001b[1;36m90\u001b[0m, \u001b[32m'validation_fraction'\u001b[0m: \u001b[1;36m0.1\u001b[0m, \u001b[32m'test_fraction'\u001b[0m: \u001b[1;36m0.1\u001b[0m,     \u001b[2m             \u001b[0m\n",
       "\u001b[2;36m                    \u001b[0m         \u001b[32m'lle_parameters'\u001b[0m: \u001b[1m{\u001b[0m\u001b[32m'n_neighbors'\u001b[0m: \u001b[1;36m10\u001b[0m, \u001b[32m'n_components'\u001b[0m: \u001b[1;36m10\u001b[0m,                \u001b[2m             \u001b[0m\n",
       "\u001b[2;36m                    \u001b[0m         \u001b[32m'random_state'\u001b[0m: \u001b[1;36m42\u001b[0m\u001b[1m}\u001b[0m, \u001b[32m'wavelet_parameters'\u001b[0m: \u001b[1m{\u001b[0m\u001b[32m'wavelet'\u001b[0m: \u001b[32m'db1'\u001b[0m, \u001b[32m'level'\u001b[0m:   \u001b[2m             \u001b[0m\n",
       "\u001b[2;36m                    \u001b[0m         \u001b[1;36m1\u001b[0m\u001b[1m}\u001b[0m, \u001b[32m'n_components'\u001b[0m: \u001b[1;36m10\u001b[0m\u001b[1m}\u001b[0m                                                  \u001b[2m             \u001b[0m\n"
      ]
     },
     "metadata": {},
     "output_type": "display_data"
    },
    {
     "data": {
      "text/html": [
       "<pre style=\"white-space:pre;overflow-x:auto;line-height:normal;font-family:Menlo,'DejaVu Sans Mono',consolas,'Courier New',monospace\"><span style=\"color: #7fbfbf; text-decoration-color: #7fbfbf\">                    </span><span style=\"color: #000080; text-decoration-color: #000080\">INFO    </span> Embedding pipeline kwargs: <span style=\"font-weight: bold\">{</span><span style=\"color: #008000; text-decoration-color: #008000\">'model_options'</span>: <span style=\"font-weight: bold\">{</span><span style=\"color: #008000; text-decoration-color: #008000\">'embed_dim'</span>: <span style=\"color: #008080; text-decoration-color: #008080; font-weight: bold\">10</span>,           <a href=\"file:///Users/RoverHofman/Desktop/School/thesis/embedding-forecasting/src/embedding_forecasting/pipelines/pca_embedding/pipeline.py\" target=\"_blank\"><span style=\"color: #7f7f7f; text-decoration-color: #7f7f7f\">pipeline.py</span></a><span style=\"color: #7f7f7f; text-decoration-color: #7f7f7f\">:</span><a href=\"file:///Users/RoverHofman/Desktop/School/thesis/embedding-forecasting/src/embedding_forecasting/pipelines/pca_embedding/pipeline.py#8\" target=\"_blank\"><span style=\"color: #7f7f7f; text-decoration-color: #7f7f7f\">8</span></a>\n",
       "<span style=\"color: #7fbfbf; text-decoration-color: #7fbfbf\">                    </span>         <span style=\"color: #008000; text-decoration-color: #008000\">'window_size'</span>: <span style=\"color: #008080; text-decoration-color: #008080; font-weight: bold\">90</span>, <span style=\"color: #008000; text-decoration-color: #008000\">'random_state'</span>: <span style=\"color: #008080; text-decoration-color: #008080; font-weight: bold\">1</span>, <span style=\"color: #008000; text-decoration-color: #008000\">'epochs'</span>: <span style=\"color: #008080; text-decoration-color: #008080; font-weight: bold\">50</span>, <span style=\"color: #008000; text-decoration-color: #008000\">'batch_size'</span>: <span style=\"color: #008080; text-decoration-color: #008080; font-weight: bold\">32</span><span style=\"font-weight: bold\">}</span>,   <span style=\"color: #7f7f7f; text-decoration-color: #7f7f7f\">             </span>\n",
       "<span style=\"color: #7fbfbf; text-decoration-color: #7fbfbf\">                    </span>         <span style=\"color: #008000; text-decoration-color: #008000\">'window_size'</span>: <span style=\"color: #008080; text-decoration-color: #008080; font-weight: bold\">90</span>, <span style=\"color: #008000; text-decoration-color: #008000\">'validation_fraction'</span>: <span style=\"color: #008080; text-decoration-color: #008080; font-weight: bold\">0.1</span>, <span style=\"color: #008000; text-decoration-color: #008000\">'test_fraction'</span>: <span style=\"color: #008080; text-decoration-color: #008080; font-weight: bold\">0.1</span>,     <span style=\"color: #7f7f7f; text-decoration-color: #7f7f7f\">             </span>\n",
       "<span style=\"color: #7fbfbf; text-decoration-color: #7fbfbf\">                    </span>         <span style=\"color: #008000; text-decoration-color: #008000\">'lle_parameters'</span>: <span style=\"font-weight: bold\">{</span><span style=\"color: #008000; text-decoration-color: #008000\">'n_neighbors'</span>: <span style=\"color: #008080; text-decoration-color: #008080; font-weight: bold\">10</span>, <span style=\"color: #008000; text-decoration-color: #008000\">'n_components'</span>: <span style=\"color: #008080; text-decoration-color: #008080; font-weight: bold\">10</span>,                <span style=\"color: #7f7f7f; text-decoration-color: #7f7f7f\">             </span>\n",
       "<span style=\"color: #7fbfbf; text-decoration-color: #7fbfbf\">                    </span>         <span style=\"color: #008000; text-decoration-color: #008000\">'random_state'</span>: <span style=\"color: #008080; text-decoration-color: #008080; font-weight: bold\">42</span><span style=\"font-weight: bold\">}</span>, <span style=\"color: #008000; text-decoration-color: #008000\">'wavelet_parameters'</span>: <span style=\"font-weight: bold\">{</span><span style=\"color: #008000; text-decoration-color: #008000\">'wavelet'</span>: <span style=\"color: #008000; text-decoration-color: #008000\">'db1'</span>, <span style=\"color: #008000; text-decoration-color: #008000\">'level'</span>:   <span style=\"color: #7f7f7f; text-decoration-color: #7f7f7f\">             </span>\n",
       "<span style=\"color: #7fbfbf; text-decoration-color: #7fbfbf\">                    </span>         <span style=\"color: #008080; text-decoration-color: #008080; font-weight: bold\">1</span><span style=\"font-weight: bold\">}</span>, <span style=\"color: #008000; text-decoration-color: #008000\">'n_components'</span>: <span style=\"color: #008080; text-decoration-color: #008080; font-weight: bold\">10</span><span style=\"font-weight: bold\">}</span>                                                  <span style=\"color: #7f7f7f; text-decoration-color: #7f7f7f\">             </span>\n",
       "</pre>\n"
      ],
      "text/plain": [
       "\u001b[2;36m                   \u001b[0m\u001b[2;36m \u001b[0m\u001b[34mINFO    \u001b[0m Embedding pipeline kwargs: \u001b[1m{\u001b[0m\u001b[32m'model_options'\u001b[0m: \u001b[1m{\u001b[0m\u001b[32m'embed_dim'\u001b[0m: \u001b[1;36m10\u001b[0m,           \u001b]8;id=650471;file:///Users/RoverHofman/Desktop/School/thesis/embedding-forecasting/src/embedding_forecasting/pipelines/pca_embedding/pipeline.py\u001b\\\u001b[2mpipeline.py\u001b[0m\u001b]8;;\u001b\\\u001b[2m:\u001b[0m\u001b]8;id=247140;file:///Users/RoverHofman/Desktop/School/thesis/embedding-forecasting/src/embedding_forecasting/pipelines/pca_embedding/pipeline.py#8\u001b\\\u001b[2m8\u001b[0m\u001b]8;;\u001b\\\n",
       "\u001b[2;36m                    \u001b[0m         \u001b[32m'window_size'\u001b[0m: \u001b[1;36m90\u001b[0m, \u001b[32m'random_state'\u001b[0m: \u001b[1;36m1\u001b[0m, \u001b[32m'epochs'\u001b[0m: \u001b[1;36m50\u001b[0m, \u001b[32m'batch_size'\u001b[0m: \u001b[1;36m32\u001b[0m\u001b[1m}\u001b[0m,   \u001b[2m             \u001b[0m\n",
       "\u001b[2;36m                    \u001b[0m         \u001b[32m'window_size'\u001b[0m: \u001b[1;36m90\u001b[0m, \u001b[32m'validation_fraction'\u001b[0m: \u001b[1;36m0.1\u001b[0m, \u001b[32m'test_fraction'\u001b[0m: \u001b[1;36m0.1\u001b[0m,     \u001b[2m             \u001b[0m\n",
       "\u001b[2;36m                    \u001b[0m         \u001b[32m'lle_parameters'\u001b[0m: \u001b[1m{\u001b[0m\u001b[32m'n_neighbors'\u001b[0m: \u001b[1;36m10\u001b[0m, \u001b[32m'n_components'\u001b[0m: \u001b[1;36m10\u001b[0m,                \u001b[2m             \u001b[0m\n",
       "\u001b[2;36m                    \u001b[0m         \u001b[32m'random_state'\u001b[0m: \u001b[1;36m42\u001b[0m\u001b[1m}\u001b[0m, \u001b[32m'wavelet_parameters'\u001b[0m: \u001b[1m{\u001b[0m\u001b[32m'wavelet'\u001b[0m: \u001b[32m'db1'\u001b[0m, \u001b[32m'level'\u001b[0m:   \u001b[2m             \u001b[0m\n",
       "\u001b[2;36m                    \u001b[0m         \u001b[1;36m1\u001b[0m\u001b[1m}\u001b[0m, \u001b[32m'n_components'\u001b[0m: \u001b[1;36m10\u001b[0m\u001b[1m}\u001b[0m                                                  \u001b[2m             \u001b[0m\n"
      ]
     },
     "metadata": {},
     "output_type": "display_data"
    },
    {
     "data": {
      "text/html": [
       "<pre style=\"white-space:pre;overflow-x:auto;line-height:normal;font-family:Menlo,'DejaVu Sans Mono',consolas,'Courier New',monospace\"><span style=\"color: #7fbfbf; text-decoration-color: #7fbfbf\">                    </span><span style=\"color: #000080; text-decoration-color: #000080\">INFO    </span> LLE pipeline kwargs: <span style=\"font-weight: bold\">{</span><span style=\"color: #008000; text-decoration-color: #008000\">'model_options'</span>: <span style=\"font-weight: bold\">{</span><span style=\"color: #008000; text-decoration-color: #008000\">'embed_dim'</span>: <span style=\"color: #008080; text-decoration-color: #008080; font-weight: bold\">10</span>, <span style=\"color: #008000; text-decoration-color: #008000\">'window_size'</span>: <a href=\"file:///Users/RoverHofman/Desktop/School/thesis/embedding-forecasting/src/embedding_forecasting/pipelines/lle_embedding/pipeline.py\" target=\"_blank\"><span style=\"color: #7f7f7f; text-decoration-color: #7f7f7f\">pipeline.py</span></a><span style=\"color: #7f7f7f; text-decoration-color: #7f7f7f\">:</span><a href=\"file:///Users/RoverHofman/Desktop/School/thesis/embedding-forecasting/src/embedding_forecasting/pipelines/lle_embedding/pipeline.py#20\" target=\"_blank\"><span style=\"color: #7f7f7f; text-decoration-color: #7f7f7f\">20</span></a>\n",
       "<span style=\"color: #7fbfbf; text-decoration-color: #7fbfbf\">                    </span>         <span style=\"color: #008080; text-decoration-color: #008080; font-weight: bold\">90</span>, <span style=\"color: #008000; text-decoration-color: #008000\">'random_state'</span>: <span style=\"color: #008080; text-decoration-color: #008080; font-weight: bold\">1</span>, <span style=\"color: #008000; text-decoration-color: #008000\">'epochs'</span>: <span style=\"color: #008080; text-decoration-color: #008080; font-weight: bold\">50</span>, <span style=\"color: #008000; text-decoration-color: #008000\">'batch_size'</span>: <span style=\"color: #008080; text-decoration-color: #008080; font-weight: bold\">32</span><span style=\"font-weight: bold\">}</span>, <span style=\"color: #008000; text-decoration-color: #008000\">'window_size'</span>:  <span style=\"color: #7f7f7f; text-decoration-color: #7f7f7f\">              </span>\n",
       "<span style=\"color: #7fbfbf; text-decoration-color: #7fbfbf\">                    </span>         <span style=\"color: #008080; text-decoration-color: #008080; font-weight: bold\">90</span>, <span style=\"color: #008000; text-decoration-color: #008000\">'validation_fraction'</span>: <span style=\"color: #008080; text-decoration-color: #008080; font-weight: bold\">0.1</span>, <span style=\"color: #008000; text-decoration-color: #008000\">'test_fraction'</span>: <span style=\"color: #008080; text-decoration-color: #008080; font-weight: bold\">0.1</span>, <span style=\"color: #008000; text-decoration-color: #008000\">'lle_parameters'</span>: <span style=\"color: #7f7f7f; text-decoration-color: #7f7f7f\">              </span>\n",
       "<span style=\"color: #7fbfbf; text-decoration-color: #7fbfbf\">                    </span>         <span style=\"font-weight: bold\">{</span><span style=\"color: #008000; text-decoration-color: #008000\">'n_neighbors'</span>: <span style=\"color: #008080; text-decoration-color: #008080; font-weight: bold\">10</span>, <span style=\"color: #008000; text-decoration-color: #008000\">'n_components'</span>: <span style=\"color: #008080; text-decoration-color: #008080; font-weight: bold\">10</span>, <span style=\"color: #008000; text-decoration-color: #008000\">'random_state'</span>: <span style=\"color: #008080; text-decoration-color: #008080; font-weight: bold\">42</span><span style=\"font-weight: bold\">}</span>,            <span style=\"color: #7f7f7f; text-decoration-color: #7f7f7f\">              </span>\n",
       "<span style=\"color: #7fbfbf; text-decoration-color: #7fbfbf\">                    </span>         <span style=\"color: #008000; text-decoration-color: #008000\">'wavelet_parameters'</span>: <span style=\"font-weight: bold\">{</span><span style=\"color: #008000; text-decoration-color: #008000\">'wavelet'</span>: <span style=\"color: #008000; text-decoration-color: #008000\">'db1'</span>, <span style=\"color: #008000; text-decoration-color: #008000\">'level'</span>: <span style=\"color: #008080; text-decoration-color: #008080; font-weight: bold\">1</span><span style=\"font-weight: bold\">}</span>, <span style=\"color: #008000; text-decoration-color: #008000\">'n_components'</span>:   <span style=\"color: #7f7f7f; text-decoration-color: #7f7f7f\">              </span>\n",
       "<span style=\"color: #7fbfbf; text-decoration-color: #7fbfbf\">                    </span>         <span style=\"color: #008080; text-decoration-color: #008080; font-weight: bold\">10</span><span style=\"font-weight: bold\">}</span>                                                                     <span style=\"color: #7f7f7f; text-decoration-color: #7f7f7f\">              </span>\n",
       "</pre>\n"
      ],
      "text/plain": [
       "\u001b[2;36m                   \u001b[0m\u001b[2;36m \u001b[0m\u001b[34mINFO    \u001b[0m LLE pipeline kwargs: \u001b[1m{\u001b[0m\u001b[32m'model_options'\u001b[0m: \u001b[1m{\u001b[0m\u001b[32m'embed_dim'\u001b[0m: \u001b[1;36m10\u001b[0m, \u001b[32m'window_size'\u001b[0m: \u001b]8;id=20177;file:///Users/RoverHofman/Desktop/School/thesis/embedding-forecasting/src/embedding_forecasting/pipelines/lle_embedding/pipeline.py\u001b\\\u001b[2mpipeline.py\u001b[0m\u001b]8;;\u001b\\\u001b[2m:\u001b[0m\u001b]8;id=529929;file:///Users/RoverHofman/Desktop/School/thesis/embedding-forecasting/src/embedding_forecasting/pipelines/lle_embedding/pipeline.py#20\u001b\\\u001b[2m20\u001b[0m\u001b]8;;\u001b\\\n",
       "\u001b[2;36m                    \u001b[0m         \u001b[1;36m90\u001b[0m, \u001b[32m'random_state'\u001b[0m: \u001b[1;36m1\u001b[0m, \u001b[32m'epochs'\u001b[0m: \u001b[1;36m50\u001b[0m, \u001b[32m'batch_size'\u001b[0m: \u001b[1;36m32\u001b[0m\u001b[1m}\u001b[0m, \u001b[32m'window_size'\u001b[0m:  \u001b[2m              \u001b[0m\n",
       "\u001b[2;36m                    \u001b[0m         \u001b[1;36m90\u001b[0m, \u001b[32m'validation_fraction'\u001b[0m: \u001b[1;36m0.1\u001b[0m, \u001b[32m'test_fraction'\u001b[0m: \u001b[1;36m0.1\u001b[0m, \u001b[32m'lle_parameters'\u001b[0m: \u001b[2m              \u001b[0m\n",
       "\u001b[2;36m                    \u001b[0m         \u001b[1m{\u001b[0m\u001b[32m'n_neighbors'\u001b[0m: \u001b[1;36m10\u001b[0m, \u001b[32m'n_components'\u001b[0m: \u001b[1;36m10\u001b[0m, \u001b[32m'random_state'\u001b[0m: \u001b[1;36m42\u001b[0m\u001b[1m}\u001b[0m,            \u001b[2m              \u001b[0m\n",
       "\u001b[2;36m                    \u001b[0m         \u001b[32m'wavelet_parameters'\u001b[0m: \u001b[1m{\u001b[0m\u001b[32m'wavelet'\u001b[0m: \u001b[32m'db1'\u001b[0m, \u001b[32m'level'\u001b[0m: \u001b[1;36m1\u001b[0m\u001b[1m}\u001b[0m, \u001b[32m'n_components'\u001b[0m:   \u001b[2m              \u001b[0m\n",
       "\u001b[2;36m                    \u001b[0m         \u001b[1;36m10\u001b[0m\u001b[1m}\u001b[0m                                                                     \u001b[2m              \u001b[0m\n"
      ]
     },
     "metadata": {},
     "output_type": "display_data"
    },
    {
     "data": {
      "text/html": [
       "<pre style=\"white-space:pre;overflow-x:auto;line-height:normal;font-family:Menlo,'DejaVu Sans Mono',consolas,'Courier New',monospace\"><span style=\"color: #7fbfbf; text-decoration-color: #7fbfbf\">                    </span><span style=\"color: #000080; text-decoration-color: #000080\">INFO    </span> UMAP pipeline kwargs: <span style=\"font-weight: bold\">{</span><span style=\"color: #008000; text-decoration-color: #008000\">'model_options'</span>: <span style=\"font-weight: bold\">{</span><span style=\"color: #008000; text-decoration-color: #008000\">'embed_dim'</span>: <span style=\"color: #008080; text-decoration-color: #008080; font-weight: bold\">10</span>,               <a href=\"file:///Users/RoverHofman/Desktop/School/thesis/embedding-forecasting/src/embedding_forecasting/pipelines/umap_embedding/pipeline.py\" target=\"_blank\"><span style=\"color: #7f7f7f; text-decoration-color: #7f7f7f\">pipeline.py</span></a><span style=\"color: #7f7f7f; text-decoration-color: #7f7f7f\">:</span><a href=\"file:///Users/RoverHofman/Desktop/School/thesis/embedding-forecasting/src/embedding_forecasting/pipelines/umap_embedding/pipeline.py#20\" target=\"_blank\"><span style=\"color: #7f7f7f; text-decoration-color: #7f7f7f\">20</span></a>\n",
       "<span style=\"color: #7fbfbf; text-decoration-color: #7fbfbf\">                    </span>         <span style=\"color: #008000; text-decoration-color: #008000\">'window_size'</span>: <span style=\"color: #008080; text-decoration-color: #008080; font-weight: bold\">90</span>, <span style=\"color: #008000; text-decoration-color: #008000\">'random_state'</span>: <span style=\"color: #008080; text-decoration-color: #008080; font-weight: bold\">1</span>, <span style=\"color: #008000; text-decoration-color: #008000\">'epochs'</span>: <span style=\"color: #008080; text-decoration-color: #008080; font-weight: bold\">50</span>, <span style=\"color: #008000; text-decoration-color: #008000\">'batch_size'</span>: <span style=\"color: #008080; text-decoration-color: #008080; font-weight: bold\">32</span><span style=\"font-weight: bold\">}</span>,  <span style=\"color: #7f7f7f; text-decoration-color: #7f7f7f\">              </span>\n",
       "<span style=\"color: #7fbfbf; text-decoration-color: #7fbfbf\">                    </span>         <span style=\"color: #008000; text-decoration-color: #008000\">'window_size'</span>: <span style=\"color: #008080; text-decoration-color: #008080; font-weight: bold\">90</span>, <span style=\"color: #008000; text-decoration-color: #008000\">'validation_fraction'</span>: <span style=\"color: #008080; text-decoration-color: #008080; font-weight: bold\">0.1</span>, <span style=\"color: #008000; text-decoration-color: #008000\">'test_fraction'</span>: <span style=\"color: #008080; text-decoration-color: #008080; font-weight: bold\">0.1</span>,    <span style=\"color: #7f7f7f; text-decoration-color: #7f7f7f\">              </span>\n",
       "<span style=\"color: #7fbfbf; text-decoration-color: #7fbfbf\">                    </span>         <span style=\"color: #008000; text-decoration-color: #008000\">'lle_parameters'</span>: <span style=\"font-weight: bold\">{</span><span style=\"color: #008000; text-decoration-color: #008000\">'n_neighbors'</span>: <span style=\"color: #008080; text-decoration-color: #008080; font-weight: bold\">10</span>, <span style=\"color: #008000; text-decoration-color: #008000\">'n_components'</span>: <span style=\"color: #008080; text-decoration-color: #008080; font-weight: bold\">10</span>,               <span style=\"color: #7f7f7f; text-decoration-color: #7f7f7f\">              </span>\n",
       "<span style=\"color: #7fbfbf; text-decoration-color: #7fbfbf\">                    </span>         <span style=\"color: #008000; text-decoration-color: #008000\">'random_state'</span>: <span style=\"color: #008080; text-decoration-color: #008080; font-weight: bold\">42</span><span style=\"font-weight: bold\">}</span>, <span style=\"color: #008000; text-decoration-color: #008000\">'wavelet_parameters'</span>: <span style=\"font-weight: bold\">{</span><span style=\"color: #008000; text-decoration-color: #008000\">'wavelet'</span>: <span style=\"color: #008000; text-decoration-color: #008000\">'db1'</span>, <span style=\"color: #008000; text-decoration-color: #008000\">'level'</span>:  <span style=\"color: #7f7f7f; text-decoration-color: #7f7f7f\">              </span>\n",
       "<span style=\"color: #7fbfbf; text-decoration-color: #7fbfbf\">                    </span>         <span style=\"color: #008080; text-decoration-color: #008080; font-weight: bold\">1</span><span style=\"font-weight: bold\">}</span>, <span style=\"color: #008000; text-decoration-color: #008000\">'n_components'</span>: <span style=\"color: #008080; text-decoration-color: #008080; font-weight: bold\">10</span><span style=\"font-weight: bold\">}</span>                                                 <span style=\"color: #7f7f7f; text-decoration-color: #7f7f7f\">              </span>\n",
       "</pre>\n"
      ],
      "text/plain": [
       "\u001b[2;36m                   \u001b[0m\u001b[2;36m \u001b[0m\u001b[34mINFO    \u001b[0m UMAP pipeline kwargs: \u001b[1m{\u001b[0m\u001b[32m'model_options'\u001b[0m: \u001b[1m{\u001b[0m\u001b[32m'embed_dim'\u001b[0m: \u001b[1;36m10\u001b[0m,               \u001b]8;id=821048;file:///Users/RoverHofman/Desktop/School/thesis/embedding-forecasting/src/embedding_forecasting/pipelines/umap_embedding/pipeline.py\u001b\\\u001b[2mpipeline.py\u001b[0m\u001b]8;;\u001b\\\u001b[2m:\u001b[0m\u001b]8;id=105727;file:///Users/RoverHofman/Desktop/School/thesis/embedding-forecasting/src/embedding_forecasting/pipelines/umap_embedding/pipeline.py#20\u001b\\\u001b[2m20\u001b[0m\u001b]8;;\u001b\\\n",
       "\u001b[2;36m                    \u001b[0m         \u001b[32m'window_size'\u001b[0m: \u001b[1;36m90\u001b[0m, \u001b[32m'random_state'\u001b[0m: \u001b[1;36m1\u001b[0m, \u001b[32m'epochs'\u001b[0m: \u001b[1;36m50\u001b[0m, \u001b[32m'batch_size'\u001b[0m: \u001b[1;36m32\u001b[0m\u001b[1m}\u001b[0m,  \u001b[2m              \u001b[0m\n",
       "\u001b[2;36m                    \u001b[0m         \u001b[32m'window_size'\u001b[0m: \u001b[1;36m90\u001b[0m, \u001b[32m'validation_fraction'\u001b[0m: \u001b[1;36m0.1\u001b[0m, \u001b[32m'test_fraction'\u001b[0m: \u001b[1;36m0.1\u001b[0m,    \u001b[2m              \u001b[0m\n",
       "\u001b[2;36m                    \u001b[0m         \u001b[32m'lle_parameters'\u001b[0m: \u001b[1m{\u001b[0m\u001b[32m'n_neighbors'\u001b[0m: \u001b[1;36m10\u001b[0m, \u001b[32m'n_components'\u001b[0m: \u001b[1;36m10\u001b[0m,               \u001b[2m              \u001b[0m\n",
       "\u001b[2;36m                    \u001b[0m         \u001b[32m'random_state'\u001b[0m: \u001b[1;36m42\u001b[0m\u001b[1m}\u001b[0m, \u001b[32m'wavelet_parameters'\u001b[0m: \u001b[1m{\u001b[0m\u001b[32m'wavelet'\u001b[0m: \u001b[32m'db1'\u001b[0m, \u001b[32m'level'\u001b[0m:  \u001b[2m              \u001b[0m\n",
       "\u001b[2;36m                    \u001b[0m         \u001b[1;36m1\u001b[0m\u001b[1m}\u001b[0m, \u001b[32m'n_components'\u001b[0m: \u001b[1;36m10\u001b[0m\u001b[1m}\u001b[0m                                                 \u001b[2m              \u001b[0m\n"
      ]
     },
     "metadata": {},
     "output_type": "display_data"
    },
    {
     "data": {
      "text/html": [
       "<pre style=\"white-space:pre;overflow-x:auto;line-height:normal;font-family:Menlo,'DejaVu Sans Mono',consolas,'Courier New',monospace\"><span style=\"color: #7fbfbf; text-decoration-color: #7fbfbf\">                    </span><span style=\"color: #000080; text-decoration-color: #000080\">INFO    </span> Wavelet pipeline kwargs: <span style=\"font-weight: bold\">{</span><span style=\"color: #008000; text-decoration-color: #008000\">'model_options'</span>: <span style=\"font-weight: bold\">{</span><span style=\"color: #008000; text-decoration-color: #008000\">'embed_dim'</span>: <span style=\"color: #008080; text-decoration-color: #008080; font-weight: bold\">10</span>,            <a href=\"file:///Users/RoverHofman/Desktop/School/thesis/embedding-forecasting/src/embedding_forecasting/pipelines/wavelet_embedding/pipeline.py\" target=\"_blank\"><span style=\"color: #7f7f7f; text-decoration-color: #7f7f7f\">pipeline.py</span></a><span style=\"color: #7f7f7f; text-decoration-color: #7f7f7f\">:</span><a href=\"file:///Users/RoverHofman/Desktop/School/thesis/embedding-forecasting/src/embedding_forecasting/pipelines/wavelet_embedding/pipeline.py#23\" target=\"_blank\"><span style=\"color: #7f7f7f; text-decoration-color: #7f7f7f\">23</span></a>\n",
       "<span style=\"color: #7fbfbf; text-decoration-color: #7fbfbf\">                    </span>         <span style=\"color: #008000; text-decoration-color: #008000\">'window_size'</span>: <span style=\"color: #008080; text-decoration-color: #008080; font-weight: bold\">90</span>, <span style=\"color: #008000; text-decoration-color: #008000\">'random_state'</span>: <span style=\"color: #008080; text-decoration-color: #008080; font-weight: bold\">1</span>, <span style=\"color: #008000; text-decoration-color: #008000\">'epochs'</span>: <span style=\"color: #008080; text-decoration-color: #008080; font-weight: bold\">50</span>, <span style=\"color: #008000; text-decoration-color: #008000\">'batch_size'</span>: <span style=\"color: #008080; text-decoration-color: #008080; font-weight: bold\">32</span><span style=\"font-weight: bold\">}</span>,  <span style=\"color: #7f7f7f; text-decoration-color: #7f7f7f\">              </span>\n",
       "<span style=\"color: #7fbfbf; text-decoration-color: #7fbfbf\">                    </span>         <span style=\"color: #008000; text-decoration-color: #008000\">'window_size'</span>: <span style=\"color: #008080; text-decoration-color: #008080; font-weight: bold\">90</span>, <span style=\"color: #008000; text-decoration-color: #008000\">'validation_fraction'</span>: <span style=\"color: #008080; text-decoration-color: #008080; font-weight: bold\">0.1</span>, <span style=\"color: #008000; text-decoration-color: #008000\">'test_fraction'</span>: <span style=\"color: #008080; text-decoration-color: #008080; font-weight: bold\">0.1</span>,    <span style=\"color: #7f7f7f; text-decoration-color: #7f7f7f\">              </span>\n",
       "<span style=\"color: #7fbfbf; text-decoration-color: #7fbfbf\">                    </span>         <span style=\"color: #008000; text-decoration-color: #008000\">'lle_parameters'</span>: <span style=\"font-weight: bold\">{</span><span style=\"color: #008000; text-decoration-color: #008000\">'n_neighbors'</span>: <span style=\"color: #008080; text-decoration-color: #008080; font-weight: bold\">10</span>, <span style=\"color: #008000; text-decoration-color: #008000\">'n_components'</span>: <span style=\"color: #008080; text-decoration-color: #008080; font-weight: bold\">10</span>,               <span style=\"color: #7f7f7f; text-decoration-color: #7f7f7f\">              </span>\n",
       "<span style=\"color: #7fbfbf; text-decoration-color: #7fbfbf\">                    </span>         <span style=\"color: #008000; text-decoration-color: #008000\">'random_state'</span>: <span style=\"color: #008080; text-decoration-color: #008080; font-weight: bold\">42</span><span style=\"font-weight: bold\">}</span>, <span style=\"color: #008000; text-decoration-color: #008000\">'wavelet_parameters'</span>: <span style=\"font-weight: bold\">{</span><span style=\"color: #008000; text-decoration-color: #008000\">'wavelet'</span>: <span style=\"color: #008000; text-decoration-color: #008000\">'db1'</span>, <span style=\"color: #008000; text-decoration-color: #008000\">'level'</span>:  <span style=\"color: #7f7f7f; text-decoration-color: #7f7f7f\">              </span>\n",
       "<span style=\"color: #7fbfbf; text-decoration-color: #7fbfbf\">                    </span>         <span style=\"color: #008080; text-decoration-color: #008080; font-weight: bold\">1</span><span style=\"font-weight: bold\">}</span>, <span style=\"color: #008000; text-decoration-color: #008000\">'n_components'</span>: <span style=\"color: #008080; text-decoration-color: #008080; font-weight: bold\">10</span><span style=\"font-weight: bold\">}</span>                                                 <span style=\"color: #7f7f7f; text-decoration-color: #7f7f7f\">              </span>\n",
       "</pre>\n"
      ],
      "text/plain": [
       "\u001b[2;36m                   \u001b[0m\u001b[2;36m \u001b[0m\u001b[34mINFO    \u001b[0m Wavelet pipeline kwargs: \u001b[1m{\u001b[0m\u001b[32m'model_options'\u001b[0m: \u001b[1m{\u001b[0m\u001b[32m'embed_dim'\u001b[0m: \u001b[1;36m10\u001b[0m,            \u001b]8;id=789718;file:///Users/RoverHofman/Desktop/School/thesis/embedding-forecasting/src/embedding_forecasting/pipelines/wavelet_embedding/pipeline.py\u001b\\\u001b[2mpipeline.py\u001b[0m\u001b]8;;\u001b\\\u001b[2m:\u001b[0m\u001b]8;id=234133;file:///Users/RoverHofman/Desktop/School/thesis/embedding-forecasting/src/embedding_forecasting/pipelines/wavelet_embedding/pipeline.py#23\u001b\\\u001b[2m23\u001b[0m\u001b]8;;\u001b\\\n",
       "\u001b[2;36m                    \u001b[0m         \u001b[32m'window_size'\u001b[0m: \u001b[1;36m90\u001b[0m, \u001b[32m'random_state'\u001b[0m: \u001b[1;36m1\u001b[0m, \u001b[32m'epochs'\u001b[0m: \u001b[1;36m50\u001b[0m, \u001b[32m'batch_size'\u001b[0m: \u001b[1;36m32\u001b[0m\u001b[1m}\u001b[0m,  \u001b[2m              \u001b[0m\n",
       "\u001b[2;36m                    \u001b[0m         \u001b[32m'window_size'\u001b[0m: \u001b[1;36m90\u001b[0m, \u001b[32m'validation_fraction'\u001b[0m: \u001b[1;36m0.1\u001b[0m, \u001b[32m'test_fraction'\u001b[0m: \u001b[1;36m0.1\u001b[0m,    \u001b[2m              \u001b[0m\n",
       "\u001b[2;36m                    \u001b[0m         \u001b[32m'lle_parameters'\u001b[0m: \u001b[1m{\u001b[0m\u001b[32m'n_neighbors'\u001b[0m: \u001b[1;36m10\u001b[0m, \u001b[32m'n_components'\u001b[0m: \u001b[1;36m10\u001b[0m,               \u001b[2m              \u001b[0m\n",
       "\u001b[2;36m                    \u001b[0m         \u001b[32m'random_state'\u001b[0m: \u001b[1;36m42\u001b[0m\u001b[1m}\u001b[0m, \u001b[32m'wavelet_parameters'\u001b[0m: \u001b[1m{\u001b[0m\u001b[32m'wavelet'\u001b[0m: \u001b[32m'db1'\u001b[0m, \u001b[32m'level'\u001b[0m:  \u001b[2m              \u001b[0m\n",
       "\u001b[2;36m                    \u001b[0m         \u001b[1;36m1\u001b[0m\u001b[1m}\u001b[0m, \u001b[32m'n_components'\u001b[0m: \u001b[1;36m10\u001b[0m\u001b[1m}\u001b[0m                                                 \u001b[2m              \u001b[0m\n"
      ]
     },
     "metadata": {},
     "output_type": "display_data"
    },
    {
     "data": {
      "text/html": [
       "<pre style=\"white-space:pre;overflow-x:auto;line-height:normal;font-family:Menlo,'DejaVu Sans Mono',consolas,'Courier New',monospace\"><span style=\"color: #7fbfbf; text-decoration-color: #7fbfbf\">                    </span><span style=\"color: #000080; text-decoration-color: #000080\">INFO    </span> FFT pipeline kwargs: <span style=\"font-weight: bold\">{</span><span style=\"color: #008000; text-decoration-color: #008000\">'model_options'</span>: <span style=\"font-weight: bold\">{</span><span style=\"color: #008000; text-decoration-color: #008000\">'embed_dim'</span>: <span style=\"color: #008080; text-decoration-color: #008080; font-weight: bold\">10</span>, <span style=\"color: #008000; text-decoration-color: #008000\">'window_size'</span>: <a href=\"file:///Users/RoverHofman/Desktop/School/thesis/embedding-forecasting/src/embedding_forecasting/pipelines/fft_embedding/pipeline.py\" target=\"_blank\"><span style=\"color: #7f7f7f; text-decoration-color: #7f7f7f\">pipeline.py</span></a><span style=\"color: #7f7f7f; text-decoration-color: #7f7f7f\">:</span><a href=\"file:///Users/RoverHofman/Desktop/School/thesis/embedding-forecasting/src/embedding_forecasting/pipelines/fft_embedding/pipeline.py#22\" target=\"_blank\"><span style=\"color: #7f7f7f; text-decoration-color: #7f7f7f\">22</span></a>\n",
       "<span style=\"color: #7fbfbf; text-decoration-color: #7fbfbf\">                    </span>         <span style=\"color: #008080; text-decoration-color: #008080; font-weight: bold\">90</span>, <span style=\"color: #008000; text-decoration-color: #008000\">'random_state'</span>: <span style=\"color: #008080; text-decoration-color: #008080; font-weight: bold\">1</span>, <span style=\"color: #008000; text-decoration-color: #008000\">'epochs'</span>: <span style=\"color: #008080; text-decoration-color: #008080; font-weight: bold\">50</span>, <span style=\"color: #008000; text-decoration-color: #008000\">'batch_size'</span>: <span style=\"color: #008080; text-decoration-color: #008080; font-weight: bold\">32</span><span style=\"font-weight: bold\">}</span>, <span style=\"color: #008000; text-decoration-color: #008000\">'window_size'</span>:  <span style=\"color: #7f7f7f; text-decoration-color: #7f7f7f\">              </span>\n",
       "<span style=\"color: #7fbfbf; text-decoration-color: #7fbfbf\">                    </span>         <span style=\"color: #008080; text-decoration-color: #008080; font-weight: bold\">90</span>, <span style=\"color: #008000; text-decoration-color: #008000\">'validation_fraction'</span>: <span style=\"color: #008080; text-decoration-color: #008080; font-weight: bold\">0.1</span>, <span style=\"color: #008000; text-decoration-color: #008000\">'test_fraction'</span>: <span style=\"color: #008080; text-decoration-color: #008080; font-weight: bold\">0.1</span>, <span style=\"color: #008000; text-decoration-color: #008000\">'lle_parameters'</span>: <span style=\"color: #7f7f7f; text-decoration-color: #7f7f7f\">              </span>\n",
       "<span style=\"color: #7fbfbf; text-decoration-color: #7fbfbf\">                    </span>         <span style=\"font-weight: bold\">{</span><span style=\"color: #008000; text-decoration-color: #008000\">'n_neighbors'</span>: <span style=\"color: #008080; text-decoration-color: #008080; font-weight: bold\">10</span>, <span style=\"color: #008000; text-decoration-color: #008000\">'n_components'</span>: <span style=\"color: #008080; text-decoration-color: #008080; font-weight: bold\">10</span>, <span style=\"color: #008000; text-decoration-color: #008000\">'random_state'</span>: <span style=\"color: #008080; text-decoration-color: #008080; font-weight: bold\">42</span><span style=\"font-weight: bold\">}</span>,            <span style=\"color: #7f7f7f; text-decoration-color: #7f7f7f\">              </span>\n",
       "<span style=\"color: #7fbfbf; text-decoration-color: #7fbfbf\">                    </span>         <span style=\"color: #008000; text-decoration-color: #008000\">'wavelet_parameters'</span>: <span style=\"font-weight: bold\">{</span><span style=\"color: #008000; text-decoration-color: #008000\">'wavelet'</span>: <span style=\"color: #008000; text-decoration-color: #008000\">'db1'</span>, <span style=\"color: #008000; text-decoration-color: #008000\">'level'</span>: <span style=\"color: #008080; text-decoration-color: #008080; font-weight: bold\">1</span><span style=\"font-weight: bold\">}</span>, <span style=\"color: #008000; text-decoration-color: #008000\">'n_components'</span>:   <span style=\"color: #7f7f7f; text-decoration-color: #7f7f7f\">              </span>\n",
       "<span style=\"color: #7fbfbf; text-decoration-color: #7fbfbf\">                    </span>         <span style=\"color: #008080; text-decoration-color: #008080; font-weight: bold\">10</span><span style=\"font-weight: bold\">}</span>                                                                     <span style=\"color: #7f7f7f; text-decoration-color: #7f7f7f\">              </span>\n",
       "</pre>\n"
      ],
      "text/plain": [
       "\u001b[2;36m                   \u001b[0m\u001b[2;36m \u001b[0m\u001b[34mINFO    \u001b[0m FFT pipeline kwargs: \u001b[1m{\u001b[0m\u001b[32m'model_options'\u001b[0m: \u001b[1m{\u001b[0m\u001b[32m'embed_dim'\u001b[0m: \u001b[1;36m10\u001b[0m, \u001b[32m'window_size'\u001b[0m: \u001b]8;id=796495;file:///Users/RoverHofman/Desktop/School/thesis/embedding-forecasting/src/embedding_forecasting/pipelines/fft_embedding/pipeline.py\u001b\\\u001b[2mpipeline.py\u001b[0m\u001b]8;;\u001b\\\u001b[2m:\u001b[0m\u001b]8;id=291;file:///Users/RoverHofman/Desktop/School/thesis/embedding-forecasting/src/embedding_forecasting/pipelines/fft_embedding/pipeline.py#22\u001b\\\u001b[2m22\u001b[0m\u001b]8;;\u001b\\\n",
       "\u001b[2;36m                    \u001b[0m         \u001b[1;36m90\u001b[0m, \u001b[32m'random_state'\u001b[0m: \u001b[1;36m1\u001b[0m, \u001b[32m'epochs'\u001b[0m: \u001b[1;36m50\u001b[0m, \u001b[32m'batch_size'\u001b[0m: \u001b[1;36m32\u001b[0m\u001b[1m}\u001b[0m, \u001b[32m'window_size'\u001b[0m:  \u001b[2m              \u001b[0m\n",
       "\u001b[2;36m                    \u001b[0m         \u001b[1;36m90\u001b[0m, \u001b[32m'validation_fraction'\u001b[0m: \u001b[1;36m0.1\u001b[0m, \u001b[32m'test_fraction'\u001b[0m: \u001b[1;36m0.1\u001b[0m, \u001b[32m'lle_parameters'\u001b[0m: \u001b[2m              \u001b[0m\n",
       "\u001b[2;36m                    \u001b[0m         \u001b[1m{\u001b[0m\u001b[32m'n_neighbors'\u001b[0m: \u001b[1;36m10\u001b[0m, \u001b[32m'n_components'\u001b[0m: \u001b[1;36m10\u001b[0m, \u001b[32m'random_state'\u001b[0m: \u001b[1;36m42\u001b[0m\u001b[1m}\u001b[0m,            \u001b[2m              \u001b[0m\n",
       "\u001b[2;36m                    \u001b[0m         \u001b[32m'wavelet_parameters'\u001b[0m: \u001b[1m{\u001b[0m\u001b[32m'wavelet'\u001b[0m: \u001b[32m'db1'\u001b[0m, \u001b[32m'level'\u001b[0m: \u001b[1;36m1\u001b[0m\u001b[1m}\u001b[0m, \u001b[32m'n_components'\u001b[0m:   \u001b[2m              \u001b[0m\n",
       "\u001b[2;36m                    \u001b[0m         \u001b[1;36m10\u001b[0m\u001b[1m}\u001b[0m                                                                     \u001b[2m              \u001b[0m\n"
      ]
     },
     "metadata": {},
     "output_type": "display_data"
    },
    {
     "data": {
      "text/html": [
       "<pre style=\"white-space:pre;overflow-x:auto;line-height:normal;font-family:Menlo,'DejaVu Sans Mono',consolas,'Courier New',monospace\"><span style=\"color: #7fbfbf; text-decoration-color: #7fbfbf\">                    </span><span style=\"color: #000080; text-decoration-color: #000080\">INFO    </span> Graph embedding pipeline kwargs: <span style=\"font-weight: bold\">{</span><span style=\"color: #008000; text-decoration-color: #008000\">'model_options'</span>: <span style=\"font-weight: bold\">{</span><span style=\"color: #008000; text-decoration-color: #008000\">'embed_dim'</span>: <span style=\"color: #008080; text-decoration-color: #008080; font-weight: bold\">10</span>,     <a href=\"file:///Users/RoverHofman/Desktop/School/thesis/embedding-forecasting/src/embedding_forecasting/pipelines/graph_embedding/pipeline.py\" target=\"_blank\"><span style=\"color: #7f7f7f; text-decoration-color: #7f7f7f\">pipeline.py</span></a><span style=\"color: #7f7f7f; text-decoration-color: #7f7f7f\">:</span><a href=\"file:///Users/RoverHofman/Desktop/School/thesis/embedding-forecasting/src/embedding_forecasting/pipelines/graph_embedding/pipeline.py#8\" target=\"_blank\"><span style=\"color: #7f7f7f; text-decoration-color: #7f7f7f\">8</span></a>\n",
       "<span style=\"color: #7fbfbf; text-decoration-color: #7fbfbf\">                    </span>         <span style=\"color: #008000; text-decoration-color: #008000\">'window_size'</span>: <span style=\"color: #008080; text-decoration-color: #008080; font-weight: bold\">90</span>, <span style=\"color: #008000; text-decoration-color: #008000\">'random_state'</span>: <span style=\"color: #008080; text-decoration-color: #008080; font-weight: bold\">1</span>, <span style=\"color: #008000; text-decoration-color: #008000\">'epochs'</span>: <span style=\"color: #008080; text-decoration-color: #008080; font-weight: bold\">50</span>, <span style=\"color: #008000; text-decoration-color: #008000\">'batch_size'</span>: <span style=\"color: #008080; text-decoration-color: #008080; font-weight: bold\">32</span><span style=\"font-weight: bold\">}</span>,   <span style=\"color: #7f7f7f; text-decoration-color: #7f7f7f\">             </span>\n",
       "<span style=\"color: #7fbfbf; text-decoration-color: #7fbfbf\">                    </span>         <span style=\"color: #008000; text-decoration-color: #008000\">'window_size'</span>: <span style=\"color: #008080; text-decoration-color: #008080; font-weight: bold\">90</span>, <span style=\"color: #008000; text-decoration-color: #008000\">'validation_fraction'</span>: <span style=\"color: #008080; text-decoration-color: #008080; font-weight: bold\">0.1</span>, <span style=\"color: #008000; text-decoration-color: #008000\">'test_fraction'</span>: <span style=\"color: #008080; text-decoration-color: #008080; font-weight: bold\">0.1</span>,     <span style=\"color: #7f7f7f; text-decoration-color: #7f7f7f\">             </span>\n",
       "<span style=\"color: #7fbfbf; text-decoration-color: #7fbfbf\">                    </span>         <span style=\"color: #008000; text-decoration-color: #008000\">'lle_parameters'</span>: <span style=\"font-weight: bold\">{</span><span style=\"color: #008000; text-decoration-color: #008000\">'n_neighbors'</span>: <span style=\"color: #008080; text-decoration-color: #008080; font-weight: bold\">10</span>, <span style=\"color: #008000; text-decoration-color: #008000\">'n_components'</span>: <span style=\"color: #008080; text-decoration-color: #008080; font-weight: bold\">10</span>,                <span style=\"color: #7f7f7f; text-decoration-color: #7f7f7f\">             </span>\n",
       "<span style=\"color: #7fbfbf; text-decoration-color: #7fbfbf\">                    </span>         <span style=\"color: #008000; text-decoration-color: #008000\">'random_state'</span>: <span style=\"color: #008080; text-decoration-color: #008080; font-weight: bold\">42</span><span style=\"font-weight: bold\">}</span>, <span style=\"color: #008000; text-decoration-color: #008000\">'wavelet_parameters'</span>: <span style=\"font-weight: bold\">{</span><span style=\"color: #008000; text-decoration-color: #008000\">'wavelet'</span>: <span style=\"color: #008000; text-decoration-color: #008000\">'db1'</span>, <span style=\"color: #008000; text-decoration-color: #008000\">'level'</span>:   <span style=\"color: #7f7f7f; text-decoration-color: #7f7f7f\">             </span>\n",
       "<span style=\"color: #7fbfbf; text-decoration-color: #7fbfbf\">                    </span>         <span style=\"color: #008080; text-decoration-color: #008080; font-weight: bold\">1</span><span style=\"font-weight: bold\">}</span>, <span style=\"color: #008000; text-decoration-color: #008000\">'n_components'</span>: <span style=\"color: #008080; text-decoration-color: #008080; font-weight: bold\">10</span><span style=\"font-weight: bold\">}</span>                                                  <span style=\"color: #7f7f7f; text-decoration-color: #7f7f7f\">             </span>\n",
       "</pre>\n"
      ],
      "text/plain": [
       "\u001b[2;36m                   \u001b[0m\u001b[2;36m \u001b[0m\u001b[34mINFO    \u001b[0m Graph embedding pipeline kwargs: \u001b[1m{\u001b[0m\u001b[32m'model_options'\u001b[0m: \u001b[1m{\u001b[0m\u001b[32m'embed_dim'\u001b[0m: \u001b[1;36m10\u001b[0m,     \u001b]8;id=253972;file:///Users/RoverHofman/Desktop/School/thesis/embedding-forecasting/src/embedding_forecasting/pipelines/graph_embedding/pipeline.py\u001b\\\u001b[2mpipeline.py\u001b[0m\u001b]8;;\u001b\\\u001b[2m:\u001b[0m\u001b]8;id=155357;file:///Users/RoverHofman/Desktop/School/thesis/embedding-forecasting/src/embedding_forecasting/pipelines/graph_embedding/pipeline.py#8\u001b\\\u001b[2m8\u001b[0m\u001b]8;;\u001b\\\n",
       "\u001b[2;36m                    \u001b[0m         \u001b[32m'window_size'\u001b[0m: \u001b[1;36m90\u001b[0m, \u001b[32m'random_state'\u001b[0m: \u001b[1;36m1\u001b[0m, \u001b[32m'epochs'\u001b[0m: \u001b[1;36m50\u001b[0m, \u001b[32m'batch_size'\u001b[0m: \u001b[1;36m32\u001b[0m\u001b[1m}\u001b[0m,   \u001b[2m             \u001b[0m\n",
       "\u001b[2;36m                    \u001b[0m         \u001b[32m'window_size'\u001b[0m: \u001b[1;36m90\u001b[0m, \u001b[32m'validation_fraction'\u001b[0m: \u001b[1;36m0.1\u001b[0m, \u001b[32m'test_fraction'\u001b[0m: \u001b[1;36m0.1\u001b[0m,     \u001b[2m             \u001b[0m\n",
       "\u001b[2;36m                    \u001b[0m         \u001b[32m'lle_parameters'\u001b[0m: \u001b[1m{\u001b[0m\u001b[32m'n_neighbors'\u001b[0m: \u001b[1;36m10\u001b[0m, \u001b[32m'n_components'\u001b[0m: \u001b[1;36m10\u001b[0m,                \u001b[2m             \u001b[0m\n",
       "\u001b[2;36m                    \u001b[0m         \u001b[32m'random_state'\u001b[0m: \u001b[1;36m42\u001b[0m\u001b[1m}\u001b[0m, \u001b[32m'wavelet_parameters'\u001b[0m: \u001b[1m{\u001b[0m\u001b[32m'wavelet'\u001b[0m: \u001b[32m'db1'\u001b[0m, \u001b[32m'level'\u001b[0m:   \u001b[2m             \u001b[0m\n",
       "\u001b[2;36m                    \u001b[0m         \u001b[1;36m1\u001b[0m\u001b[1m}\u001b[0m, \u001b[32m'n_components'\u001b[0m: \u001b[1;36m10\u001b[0m\u001b[1m}\u001b[0m                                                  \u001b[2m             \u001b[0m\n"
      ]
     },
     "metadata": {},
     "output_type": "display_data"
    },
    {
     "data": {
      "text/html": [
       "<pre style=\"white-space:pre;overflow-x:auto;line-height:normal;font-family:Menlo,'DejaVu Sans Mono',consolas,'Courier New',monospace\"><span style=\"color: #7fbfbf; text-decoration-color: #7fbfbf\">                    </span><span style=\"color: #000080; text-decoration-color: #000080\">INFO    </span> TDA embedding pipeline kwargs: <span style=\"font-weight: bold\">{</span><span style=\"color: #008000; text-decoration-color: #008000\">'model_options'</span>: <span style=\"font-weight: bold\">{</span><span style=\"color: #008000; text-decoration-color: #008000\">'embed_dim'</span>: <span style=\"color: #008080; text-decoration-color: #008080; font-weight: bold\">10</span>,       <a href=\"file:///Users/RoverHofman/Desktop/School/thesis/embedding-forecasting/src/embedding_forecasting/pipelines/tda_embedding/pipeline.py\" target=\"_blank\"><span style=\"color: #7f7f7f; text-decoration-color: #7f7f7f\">pipeline.py</span></a><span style=\"color: #7f7f7f; text-decoration-color: #7f7f7f\">:</span><a href=\"file:///Users/RoverHofman/Desktop/School/thesis/embedding-forecasting/src/embedding_forecasting/pipelines/tda_embedding/pipeline.py#9\" target=\"_blank\"><span style=\"color: #7f7f7f; text-decoration-color: #7f7f7f\">9</span></a>\n",
       "<span style=\"color: #7fbfbf; text-decoration-color: #7fbfbf\">                    </span>         <span style=\"color: #008000; text-decoration-color: #008000\">'window_size'</span>: <span style=\"color: #008080; text-decoration-color: #008080; font-weight: bold\">90</span>, <span style=\"color: #008000; text-decoration-color: #008000\">'random_state'</span>: <span style=\"color: #008080; text-decoration-color: #008080; font-weight: bold\">1</span>, <span style=\"color: #008000; text-decoration-color: #008000\">'epochs'</span>: <span style=\"color: #008080; text-decoration-color: #008080; font-weight: bold\">50</span>, <span style=\"color: #008000; text-decoration-color: #008000\">'batch_size'</span>: <span style=\"color: #008080; text-decoration-color: #008080; font-weight: bold\">32</span><span style=\"font-weight: bold\">}</span>,   <span style=\"color: #7f7f7f; text-decoration-color: #7f7f7f\">             </span>\n",
       "<span style=\"color: #7fbfbf; text-decoration-color: #7fbfbf\">                    </span>         <span style=\"color: #008000; text-decoration-color: #008000\">'window_size'</span>: <span style=\"color: #008080; text-decoration-color: #008080; font-weight: bold\">90</span>, <span style=\"color: #008000; text-decoration-color: #008000\">'validation_fraction'</span>: <span style=\"color: #008080; text-decoration-color: #008080; font-weight: bold\">0.1</span>, <span style=\"color: #008000; text-decoration-color: #008000\">'test_fraction'</span>: <span style=\"color: #008080; text-decoration-color: #008080; font-weight: bold\">0.1</span>,     <span style=\"color: #7f7f7f; text-decoration-color: #7f7f7f\">             </span>\n",
       "<span style=\"color: #7fbfbf; text-decoration-color: #7fbfbf\">                    </span>         <span style=\"color: #008000; text-decoration-color: #008000\">'lle_parameters'</span>: <span style=\"font-weight: bold\">{</span><span style=\"color: #008000; text-decoration-color: #008000\">'n_neighbors'</span>: <span style=\"color: #008080; text-decoration-color: #008080; font-weight: bold\">10</span>, <span style=\"color: #008000; text-decoration-color: #008000\">'n_components'</span>: <span style=\"color: #008080; text-decoration-color: #008080; font-weight: bold\">10</span>,                <span style=\"color: #7f7f7f; text-decoration-color: #7f7f7f\">             </span>\n",
       "<span style=\"color: #7fbfbf; text-decoration-color: #7fbfbf\">                    </span>         <span style=\"color: #008000; text-decoration-color: #008000\">'random_state'</span>: <span style=\"color: #008080; text-decoration-color: #008080; font-weight: bold\">42</span><span style=\"font-weight: bold\">}</span>, <span style=\"color: #008000; text-decoration-color: #008000\">'wavelet_parameters'</span>: <span style=\"font-weight: bold\">{</span><span style=\"color: #008000; text-decoration-color: #008000\">'wavelet'</span>: <span style=\"color: #008000; text-decoration-color: #008000\">'db1'</span>, <span style=\"color: #008000; text-decoration-color: #008000\">'level'</span>:   <span style=\"color: #7f7f7f; text-decoration-color: #7f7f7f\">             </span>\n",
       "<span style=\"color: #7fbfbf; text-decoration-color: #7fbfbf\">                    </span>         <span style=\"color: #008080; text-decoration-color: #008080; font-weight: bold\">1</span><span style=\"font-weight: bold\">}</span>, <span style=\"color: #008000; text-decoration-color: #008000\">'n_components'</span>: <span style=\"color: #008080; text-decoration-color: #008080; font-weight: bold\">10</span><span style=\"font-weight: bold\">}</span>                                                  <span style=\"color: #7f7f7f; text-decoration-color: #7f7f7f\">             </span>\n",
       "</pre>\n"
      ],
      "text/plain": [
       "\u001b[2;36m                   \u001b[0m\u001b[2;36m \u001b[0m\u001b[34mINFO    \u001b[0m TDA embedding pipeline kwargs: \u001b[1m{\u001b[0m\u001b[32m'model_options'\u001b[0m: \u001b[1m{\u001b[0m\u001b[32m'embed_dim'\u001b[0m: \u001b[1;36m10\u001b[0m,       \u001b]8;id=145691;file:///Users/RoverHofman/Desktop/School/thesis/embedding-forecasting/src/embedding_forecasting/pipelines/tda_embedding/pipeline.py\u001b\\\u001b[2mpipeline.py\u001b[0m\u001b]8;;\u001b\\\u001b[2m:\u001b[0m\u001b]8;id=624408;file:///Users/RoverHofman/Desktop/School/thesis/embedding-forecasting/src/embedding_forecasting/pipelines/tda_embedding/pipeline.py#9\u001b\\\u001b[2m9\u001b[0m\u001b]8;;\u001b\\\n",
       "\u001b[2;36m                    \u001b[0m         \u001b[32m'window_size'\u001b[0m: \u001b[1;36m90\u001b[0m, \u001b[32m'random_state'\u001b[0m: \u001b[1;36m1\u001b[0m, \u001b[32m'epochs'\u001b[0m: \u001b[1;36m50\u001b[0m, \u001b[32m'batch_size'\u001b[0m: \u001b[1;36m32\u001b[0m\u001b[1m}\u001b[0m,   \u001b[2m             \u001b[0m\n",
       "\u001b[2;36m                    \u001b[0m         \u001b[32m'window_size'\u001b[0m: \u001b[1;36m90\u001b[0m, \u001b[32m'validation_fraction'\u001b[0m: \u001b[1;36m0.1\u001b[0m, \u001b[32m'test_fraction'\u001b[0m: \u001b[1;36m0.1\u001b[0m,     \u001b[2m             \u001b[0m\n",
       "\u001b[2;36m                    \u001b[0m         \u001b[32m'lle_parameters'\u001b[0m: \u001b[1m{\u001b[0m\u001b[32m'n_neighbors'\u001b[0m: \u001b[1;36m10\u001b[0m, \u001b[32m'n_components'\u001b[0m: \u001b[1;36m10\u001b[0m,                \u001b[2m             \u001b[0m\n",
       "\u001b[2;36m                    \u001b[0m         \u001b[32m'random_state'\u001b[0m: \u001b[1;36m42\u001b[0m\u001b[1m}\u001b[0m, \u001b[32m'wavelet_parameters'\u001b[0m: \u001b[1m{\u001b[0m\u001b[32m'wavelet'\u001b[0m: \u001b[32m'db1'\u001b[0m, \u001b[32m'level'\u001b[0m:   \u001b[2m             \u001b[0m\n",
       "\u001b[2;36m                    \u001b[0m         \u001b[1;36m1\u001b[0m\u001b[1m}\u001b[0m, \u001b[32m'n_components'\u001b[0m: \u001b[1;36m10\u001b[0m\u001b[1m}\u001b[0m                                                  \u001b[2m             \u001b[0m\n"
      ]
     },
     "metadata": {},
     "output_type": "display_data"
    },
    {
     "data": {
      "text/html": [
       "<pre style=\"white-space:pre;overflow-x:auto;line-height:normal;font-family:Menlo,'DejaVu Sans Mono',consolas,'Courier New',monospace\"><span style=\"color: #7fbfbf; text-decoration-color: #7fbfbf\">                    </span><span style=\"color: #000080; text-decoration-color: #000080\">INFO    </span> Creating GAF‐image pipeline with kwargs: <span style=\"font-weight: bold\">{</span><span style=\"color: #008000; text-decoration-color: #008000\">'model_options'</span>:              <a href=\"file:///Users/RoverHofman/Desktop/School/thesis/embedding-forecasting/src/embedding_forecasting/pipelines/gaf_imaging/pipeline.py\" target=\"_blank\"><span style=\"color: #7f7f7f; text-decoration-color: #7f7f7f\">pipeline.py</span></a><span style=\"color: #7f7f7f; text-decoration-color: #7f7f7f\">:</span><a href=\"file:///Users/RoverHofman/Desktop/School/thesis/embedding-forecasting/src/embedding_forecasting/pipelines/gaf_imaging/pipeline.py#11\" target=\"_blank\"><span style=\"color: #7f7f7f; text-decoration-color: #7f7f7f\">11</span></a>\n",
       "<span style=\"color: #7fbfbf; text-decoration-color: #7fbfbf\">                    </span>         <span style=\"font-weight: bold\">{</span><span style=\"color: #008000; text-decoration-color: #008000\">'embed_dim'</span>: <span style=\"color: #008080; text-decoration-color: #008080; font-weight: bold\">10</span>, <span style=\"color: #008000; text-decoration-color: #008000\">'window_size'</span>: <span style=\"color: #008080; text-decoration-color: #008080; font-weight: bold\">90</span>, <span style=\"color: #008000; text-decoration-color: #008000\">'random_state'</span>: <span style=\"color: #008080; text-decoration-color: #008080; font-weight: bold\">1</span>, <span style=\"color: #008000; text-decoration-color: #008000\">'epochs'</span>: <span style=\"color: #008080; text-decoration-color: #008080; font-weight: bold\">50</span>,   <span style=\"color: #7f7f7f; text-decoration-color: #7f7f7f\">              </span>\n",
       "<span style=\"color: #7fbfbf; text-decoration-color: #7fbfbf\">                    </span>         <span style=\"color: #008000; text-decoration-color: #008000\">'batch_size'</span>: <span style=\"color: #008080; text-decoration-color: #008080; font-weight: bold\">32</span><span style=\"font-weight: bold\">}</span>, <span style=\"color: #008000; text-decoration-color: #008000\">'window_size'</span>: <span style=\"color: #008080; text-decoration-color: #008080; font-weight: bold\">90</span>, <span style=\"color: #008000; text-decoration-color: #008000\">'validation_fraction'</span>: <span style=\"color: #008080; text-decoration-color: #008080; font-weight: bold\">0.1</span>,       <span style=\"color: #7f7f7f; text-decoration-color: #7f7f7f\">              </span>\n",
       "<span style=\"color: #7fbfbf; text-decoration-color: #7fbfbf\">                    </span>         <span style=\"color: #008000; text-decoration-color: #008000\">'test_fraction'</span>: <span style=\"color: #008080; text-decoration-color: #008080; font-weight: bold\">0.1</span>, <span style=\"color: #008000; text-decoration-color: #008000\">'lle_parameters'</span>: <span style=\"font-weight: bold\">{</span><span style=\"color: #008000; text-decoration-color: #008000\">'n_neighbors'</span>: <span style=\"color: #008080; text-decoration-color: #008080; font-weight: bold\">10</span>,             <span style=\"color: #7f7f7f; text-decoration-color: #7f7f7f\">              </span>\n",
       "<span style=\"color: #7fbfbf; text-decoration-color: #7fbfbf\">                    </span>         <span style=\"color: #008000; text-decoration-color: #008000\">'n_components'</span>: <span style=\"color: #008080; text-decoration-color: #008080; font-weight: bold\">10</span>, <span style=\"color: #008000; text-decoration-color: #008000\">'random_state'</span>: <span style=\"color: #008080; text-decoration-color: #008080; font-weight: bold\">42</span><span style=\"font-weight: bold\">}</span>, <span style=\"color: #008000; text-decoration-color: #008000\">'wavelet_parameters'</span>:          <span style=\"color: #7f7f7f; text-decoration-color: #7f7f7f\">              </span>\n",
       "<span style=\"color: #7fbfbf; text-decoration-color: #7fbfbf\">                    </span>         <span style=\"font-weight: bold\">{</span><span style=\"color: #008000; text-decoration-color: #008000\">'wavelet'</span>: <span style=\"color: #008000; text-decoration-color: #008000\">'db1'</span>, <span style=\"color: #008000; text-decoration-color: #008000\">'level'</span>: <span style=\"color: #008080; text-decoration-color: #008080; font-weight: bold\">1</span><span style=\"font-weight: bold\">}</span>, <span style=\"color: #008000; text-decoration-color: #008000\">'n_components'</span>: <span style=\"color: #008080; text-decoration-color: #008080; font-weight: bold\">10</span><span style=\"font-weight: bold\">}</span>                     <span style=\"color: #7f7f7f; text-decoration-color: #7f7f7f\">              </span>\n",
       "</pre>\n"
      ],
      "text/plain": [
       "\u001b[2;36m                   \u001b[0m\u001b[2;36m \u001b[0m\u001b[34mINFO    \u001b[0m Creating GAF‐image pipeline with kwargs: \u001b[1m{\u001b[0m\u001b[32m'model_options'\u001b[0m:              \u001b]8;id=479426;file:///Users/RoverHofman/Desktop/School/thesis/embedding-forecasting/src/embedding_forecasting/pipelines/gaf_imaging/pipeline.py\u001b\\\u001b[2mpipeline.py\u001b[0m\u001b]8;;\u001b\\\u001b[2m:\u001b[0m\u001b]8;id=265751;file:///Users/RoverHofman/Desktop/School/thesis/embedding-forecasting/src/embedding_forecasting/pipelines/gaf_imaging/pipeline.py#11\u001b\\\u001b[2m11\u001b[0m\u001b]8;;\u001b\\\n",
       "\u001b[2;36m                    \u001b[0m         \u001b[1m{\u001b[0m\u001b[32m'embed_dim'\u001b[0m: \u001b[1;36m10\u001b[0m, \u001b[32m'window_size'\u001b[0m: \u001b[1;36m90\u001b[0m, \u001b[32m'random_state'\u001b[0m: \u001b[1;36m1\u001b[0m, \u001b[32m'epochs'\u001b[0m: \u001b[1;36m50\u001b[0m,   \u001b[2m              \u001b[0m\n",
       "\u001b[2;36m                    \u001b[0m         \u001b[32m'batch_size'\u001b[0m: \u001b[1;36m32\u001b[0m\u001b[1m}\u001b[0m, \u001b[32m'window_size'\u001b[0m: \u001b[1;36m90\u001b[0m, \u001b[32m'validation_fraction'\u001b[0m: \u001b[1;36m0.1\u001b[0m,       \u001b[2m              \u001b[0m\n",
       "\u001b[2;36m                    \u001b[0m         \u001b[32m'test_fraction'\u001b[0m: \u001b[1;36m0.1\u001b[0m, \u001b[32m'lle_parameters'\u001b[0m: \u001b[1m{\u001b[0m\u001b[32m'n_neighbors'\u001b[0m: \u001b[1;36m10\u001b[0m,             \u001b[2m              \u001b[0m\n",
       "\u001b[2;36m                    \u001b[0m         \u001b[32m'n_components'\u001b[0m: \u001b[1;36m10\u001b[0m, \u001b[32m'random_state'\u001b[0m: \u001b[1;36m42\u001b[0m\u001b[1m}\u001b[0m, \u001b[32m'wavelet_parameters'\u001b[0m:          \u001b[2m              \u001b[0m\n",
       "\u001b[2;36m                    \u001b[0m         \u001b[1m{\u001b[0m\u001b[32m'wavelet'\u001b[0m: \u001b[32m'db1'\u001b[0m, \u001b[32m'level'\u001b[0m: \u001b[1;36m1\u001b[0m\u001b[1m}\u001b[0m, \u001b[32m'n_components'\u001b[0m: \u001b[1;36m10\u001b[0m\u001b[1m}\u001b[0m                     \u001b[2m              \u001b[0m\n"
      ]
     },
     "metadata": {},
     "output_type": "display_data"
    },
    {
     "data": {
      "text/html": [
       "<pre style=\"white-space:pre;overflow-x:auto;line-height:normal;font-family:Menlo,'DejaVu Sans Mono',consolas,'Courier New',monospace\"><span style=\"color: #7fbfbf; text-decoration-color: #7fbfbf\">                    </span><span style=\"color: #000080; text-decoration-color: #000080\">INFO    </span> MTF pipeline <span style=\"font-weight: bold\">(</span><span style=\"color: #808000; text-decoration-color: #808000\">window</span>=<span style=\"color: #008080; text-decoration-color: #008080; font-weight: bold\">90</span><span style=\"font-weight: bold\">)</span>                                                <a href=\"file:///Users/RoverHofman/Desktop/School/thesis/embedding-forecasting/src/embedding_forecasting/pipelines/mtf_imaging/pipeline.py\" target=\"_blank\"><span style=\"color: #7f7f7f; text-decoration-color: #7f7f7f\">pipeline.py</span></a><span style=\"color: #7f7f7f; text-decoration-color: #7f7f7f\">:</span><a href=\"file:///Users/RoverHofman/Desktop/School/thesis/embedding-forecasting/src/embedding_forecasting/pipelines/mtf_imaging/pipeline.py#10\" target=\"_blank\"><span style=\"color: #7f7f7f; text-decoration-color: #7f7f7f\">10</span></a>\n",
       "</pre>\n"
      ],
      "text/plain": [
       "\u001b[2;36m                   \u001b[0m\u001b[2;36m \u001b[0m\u001b[34mINFO    \u001b[0m MTF pipeline \u001b[1m(\u001b[0m\u001b[33mwindow\u001b[0m=\u001b[1;36m90\u001b[0m\u001b[1m)\u001b[0m                                                \u001b]8;id=721618;file:///Users/RoverHofman/Desktop/School/thesis/embedding-forecasting/src/embedding_forecasting/pipelines/mtf_imaging/pipeline.py\u001b\\\u001b[2mpipeline.py\u001b[0m\u001b]8;;\u001b\\\u001b[2m:\u001b[0m\u001b]8;id=711869;file:///Users/RoverHofman/Desktop/School/thesis/embedding-forecasting/src/embedding_forecasting/pipelines/mtf_imaging/pipeline.py#10\u001b\\\u001b[2m10\u001b[0m\u001b]8;;\u001b\\\n"
      ]
     },
     "metadata": {},
     "output_type": "display_data"
    },
    {
     "data": {
      "text/html": [
       "<pre style=\"white-space:pre;overflow-x:auto;line-height:normal;font-family:Menlo,'DejaVu Sans Mono',consolas,'Courier New',monospace\"><span style=\"color: #7fbfbf; text-decoration-color: #7fbfbf\">                    </span><span style=\"color: #000080; text-decoration-color: #000080\">INFO    </span> RP pipeline <span style=\"font-weight: bold\">(</span><span style=\"color: #808000; text-decoration-color: #808000\">window</span>=<span style=\"color: #008080; text-decoration-color: #008080; font-weight: bold\">90</span><span style=\"font-weight: bold\">)</span>                                                 <a href=\"file:///Users/RoverHofman/Desktop/School/thesis/embedding-forecasting/src/embedding_forecasting/pipelines/rp_imaging/pipeline.py\" target=\"_blank\"><span style=\"color: #7f7f7f; text-decoration-color: #7f7f7f\">pipeline.py</span></a><span style=\"color: #7f7f7f; text-decoration-color: #7f7f7f\">:</span><a href=\"file:///Users/RoverHofman/Desktop/School/thesis/embedding-forecasting/src/embedding_forecasting/pipelines/rp_imaging/pipeline.py#10\" target=\"_blank\"><span style=\"color: #7f7f7f; text-decoration-color: #7f7f7f\">10</span></a>\n",
       "</pre>\n"
      ],
      "text/plain": [
       "\u001b[2;36m                   \u001b[0m\u001b[2;36m \u001b[0m\u001b[34mINFO    \u001b[0m RP pipeline \u001b[1m(\u001b[0m\u001b[33mwindow\u001b[0m=\u001b[1;36m90\u001b[0m\u001b[1m)\u001b[0m                                                 \u001b]8;id=330589;file:///Users/RoverHofman/Desktop/School/thesis/embedding-forecasting/src/embedding_forecasting/pipelines/rp_imaging/pipeline.py\u001b\\\u001b[2mpipeline.py\u001b[0m\u001b]8;;\u001b\\\u001b[2m:\u001b[0m\u001b]8;id=323211;file:///Users/RoverHofman/Desktop/School/thesis/embedding-forecasting/src/embedding_forecasting/pipelines/rp_imaging/pipeline.py#10\u001b\\\u001b[2m10\u001b[0m\u001b]8;;\u001b\\\n"
      ]
     },
     "metadata": {},
     "output_type": "display_data"
    },
    {
     "data": {
      "text/html": [
       "<pre style=\"white-space:pre;overflow-x:auto;line-height:normal;font-family:Menlo,'DejaVu Sans Mono',consolas,'Courier New',monospace\"><span style=\"color: #7fbfbf; text-decoration-color: #7fbfbf\">                    </span><span style=\"color: #000080; text-decoration-color: #000080\">INFO    </span> Creating CLIP embedding pipeline                                         <a href=\"file:///Users/RoverHofman/Desktop/School/thesis/embedding-forecasting/src/embedding_forecasting/pipelines/clip_embedding/pipeline.py\" target=\"_blank\"><span style=\"color: #7f7f7f; text-decoration-color: #7f7f7f\">pipeline.py</span></a><span style=\"color: #7f7f7f; text-decoration-color: #7f7f7f\">:</span><a href=\"file:///Users/RoverHofman/Desktop/School/thesis/embedding-forecasting/src/embedding_forecasting/pipelines/clip_embedding/pipeline.py#6\" target=\"_blank\"><span style=\"color: #7f7f7f; text-decoration-color: #7f7f7f\">6</span></a>\n",
       "</pre>\n"
      ],
      "text/plain": [
       "\u001b[2;36m                   \u001b[0m\u001b[2;36m \u001b[0m\u001b[34mINFO    \u001b[0m Creating CLIP embedding pipeline                                         \u001b]8;id=108726;file:///Users/RoverHofman/Desktop/School/thesis/embedding-forecasting/src/embedding_forecasting/pipelines/clip_embedding/pipeline.py\u001b\\\u001b[2mpipeline.py\u001b[0m\u001b]8;;\u001b\\\u001b[2m:\u001b[0m\u001b]8;id=150453;file:///Users/RoverHofman/Desktop/School/thesis/embedding-forecasting/src/embedding_forecasting/pipelines/clip_embedding/pipeline.py#6\u001b\\\u001b[2m6\u001b[0m\u001b]8;;\u001b\\\n"
      ]
     },
     "metadata": {},
     "output_type": "display_data"
    },
    {
     "data": {
      "text/html": [
       "<pre style=\"white-space:pre;overflow-x:auto;line-height:normal;font-family:Menlo,'DejaVu Sans Mono',consolas,'Courier New',monospace\"><span style=\"color: #7fbfbf; text-decoration-color: #7fbfbf\">                    </span><span style=\"color: #000080; text-decoration-color: #000080\">INFO    </span> Creating DINOv2 embedding pipeline                                       <a href=\"file:///Users/RoverHofman/Desktop/School/thesis/embedding-forecasting/src/embedding_forecasting/pipelines/dino_embedding/pipeline.py\" target=\"_blank\"><span style=\"color: #7f7f7f; text-decoration-color: #7f7f7f\">pipeline.py</span></a><span style=\"color: #7f7f7f; text-decoration-color: #7f7f7f\">:</span><a href=\"file:///Users/RoverHofman/Desktop/School/thesis/embedding-forecasting/src/embedding_forecasting/pipelines/dino_embedding/pipeline.py#6\" target=\"_blank\"><span style=\"color: #7f7f7f; text-decoration-color: #7f7f7f\">6</span></a>\n",
       "</pre>\n"
      ],
      "text/plain": [
       "\u001b[2;36m                   \u001b[0m\u001b[2;36m \u001b[0m\u001b[34mINFO    \u001b[0m Creating DINOv2 embedding pipeline                                       \u001b]8;id=172025;file:///Users/RoverHofman/Desktop/School/thesis/embedding-forecasting/src/embedding_forecasting/pipelines/dino_embedding/pipeline.py\u001b\\\u001b[2mpipeline.py\u001b[0m\u001b]8;;\u001b\\\u001b[2m:\u001b[0m\u001b]8;id=170070;file:///Users/RoverHofman/Desktop/School/thesis/embedding-forecasting/src/embedding_forecasting/pipelines/dino_embedding/pipeline.py#6\u001b\\\u001b[2m6\u001b[0m\u001b]8;;\u001b\\\n"
      ]
     },
     "metadata": {},
     "output_type": "display_data"
    },
    {
     "data": {
      "text/html": [
       "<pre style=\"white-space:pre;overflow-x:auto;line-height:normal;font-family:Menlo,'DejaVu Sans Mono',consolas,'Courier New',monospace\"><span style=\"color: #7fbfbf; text-decoration-color: #7fbfbf\">                    </span><span style=\"color: #000080; text-decoration-color: #000080\">INFO    </span> Creating ResNet50 embedding pipeline                                     <a href=\"file:///Users/RoverHofman/Desktop/School/thesis/embedding-forecasting/src/embedding_forecasting/pipelines/resnet_embedding/pipeline.py\" target=\"_blank\"><span style=\"color: #7f7f7f; text-decoration-color: #7f7f7f\">pipeline.py</span></a><span style=\"color: #7f7f7f; text-decoration-color: #7f7f7f\">:</span><a href=\"file:///Users/RoverHofman/Desktop/School/thesis/embedding-forecasting/src/embedding_forecasting/pipelines/resnet_embedding/pipeline.py#6\" target=\"_blank\"><span style=\"color: #7f7f7f; text-decoration-color: #7f7f7f\">6</span></a>\n",
       "</pre>\n"
      ],
      "text/plain": [
       "\u001b[2;36m                   \u001b[0m\u001b[2;36m \u001b[0m\u001b[34mINFO    \u001b[0m Creating ResNet50 embedding pipeline                                     \u001b]8;id=821888;file:///Users/RoverHofman/Desktop/School/thesis/embedding-forecasting/src/embedding_forecasting/pipelines/resnet_embedding/pipeline.py\u001b\\\u001b[2mpipeline.py\u001b[0m\u001b]8;;\u001b\\\u001b[2m:\u001b[0m\u001b]8;id=715215;file:///Users/RoverHofman/Desktop/School/thesis/embedding-forecasting/src/embedding_forecasting/pipelines/resnet_embedding/pipeline.py#6\u001b\\\u001b[2m6\u001b[0m\u001b]8;;\u001b\\\n"
      ]
     },
     "metadata": {},
     "output_type": "display_data"
    },
    {
     "data": {
      "text/html": [
       "<pre style=\"white-space:pre;overflow-x:auto;line-height:normal;font-family:Menlo,'DejaVu Sans Mono',consolas,'Courier New',monospace\"><span style=\"color: #7fbfbf; text-decoration-color: #7fbfbf\">                    </span><span style=\"color: #000080; text-decoration-color: #000080\">INFO    </span> Kedro is sending anonymous usage data with the sole purpose of improving <a href=\"file:///Users/RoverHofman/Desktop/School/thesis/embedding-forecasting/.venv/lib/python3.11/site-packages/kedro_telemetry/plugin.py\" target=\"_blank\"><span style=\"color: #7f7f7f; text-decoration-color: #7f7f7f\">plugin.py</span></a><span style=\"color: #7f7f7f; text-decoration-color: #7f7f7f\">:</span><a href=\"file:///Users/RoverHofman/Desktop/School/thesis/embedding-forecasting/.venv/lib/python3.11/site-packages/kedro_telemetry/plugin.py#233\" target=\"_blank\"><span style=\"color: #7f7f7f; text-decoration-color: #7f7f7f\">233</span></a>\n",
       "<span style=\"color: #7fbfbf; text-decoration-color: #7fbfbf\">                    </span>         the product. No personal data or IP addresses are stored on our side. If <span style=\"color: #7f7f7f; text-decoration-color: #7f7f7f\">             </span>\n",
       "<span style=\"color: #7fbfbf; text-decoration-color: #7fbfbf\">                    </span>         you want to opt out, set the `KEDRO_DISABLE_TELEMETRY` or `DO_NOT_TRACK` <span style=\"color: #7f7f7f; text-decoration-color: #7f7f7f\">             </span>\n",
       "<span style=\"color: #7fbfbf; text-decoration-color: #7fbfbf\">                    </span>         environment variables, or create a `.telemetry` file in the current      <span style=\"color: #7f7f7f; text-decoration-color: #7f7f7f\">             </span>\n",
       "<span style=\"color: #7fbfbf; text-decoration-color: #7fbfbf\">                    </span>         working directory with the contents `consent: false`. Read more at       <span style=\"color: #7f7f7f; text-decoration-color: #7f7f7f\">             </span>\n",
       "<span style=\"color: #7fbfbf; text-decoration-color: #7fbfbf\">                    </span>         <span style=\"color: #0000ff; text-decoration-color: #0000ff; text-decoration: underline\">https://docs.kedro.org/en/stable/configuration/telemetry.html</span>            <span style=\"color: #7f7f7f; text-decoration-color: #7f7f7f\">             </span>\n",
       "</pre>\n"
      ],
      "text/plain": [
       "\u001b[2;36m                   \u001b[0m\u001b[2;36m \u001b[0m\u001b[34mINFO    \u001b[0m Kedro is sending anonymous usage data with the sole purpose of improving \u001b]8;id=324047;file:///Users/RoverHofman/Desktop/School/thesis/embedding-forecasting/.venv/lib/python3.11/site-packages/kedro_telemetry/plugin.py\u001b\\\u001b[2mplugin.py\u001b[0m\u001b]8;;\u001b\\\u001b[2m:\u001b[0m\u001b]8;id=344939;file:///Users/RoverHofman/Desktop/School/thesis/embedding-forecasting/.venv/lib/python3.11/site-packages/kedro_telemetry/plugin.py#233\u001b\\\u001b[2m233\u001b[0m\u001b]8;;\u001b\\\n",
       "\u001b[2;36m                    \u001b[0m         the product. No personal data or IP addresses are stored on our side. If \u001b[2m             \u001b[0m\n",
       "\u001b[2;36m                    \u001b[0m         you want to opt out, set the `KEDRO_DISABLE_TELEMETRY` or `DO_NOT_TRACK` \u001b[2m             \u001b[0m\n",
       "\u001b[2;36m                    \u001b[0m         environment variables, or create a `.telemetry` file in the current      \u001b[2m             \u001b[0m\n",
       "\u001b[2;36m                    \u001b[0m         working directory with the contents `consent: false`. Read more at       \u001b[2m             \u001b[0m\n",
       "\u001b[2;36m                    \u001b[0m         \u001b[4;94mhttps://docs.kedro.org/en/stable/configuration/telemetry.html\u001b[0m            \u001b[2m             \u001b[0m\n"
      ]
     },
     "metadata": {},
     "output_type": "display_data"
    },
    {
     "data": {
      "text/html": [
       "<pre style=\"white-space:pre;overflow-x:auto;line-height:normal;font-family:Menlo,'DejaVu Sans Mono',consolas,'Courier New',monospace\"><span style=\"color: #7fbfbf; text-decoration-color: #7fbfbf\">[05/29/25 10:56:31] </span><span style=\"color: #000080; text-decoration-color: #000080\">INFO    </span> Kedro project embedding_forecasting                                    <a href=\"file:///Users/RoverHofman/Desktop/School/thesis/embedding-forecasting/.venv/lib/python3.11/site-packages/kedro/ipython/__init__.py\" target=\"_blank\"><span style=\"color: #7f7f7f; text-decoration-color: #7f7f7f\">__init__.py</span></a><span style=\"color: #7f7f7f; text-decoration-color: #7f7f7f\">:</span><a href=\"file:///Users/RoverHofman/Desktop/School/thesis/embedding-forecasting/.venv/lib/python3.11/site-packages/kedro/ipython/__init__.py#146\" target=\"_blank\"><span style=\"color: #7f7f7f; text-decoration-color: #7f7f7f\">146</span></a>\n",
       "</pre>\n"
      ],
      "text/plain": [
       "\u001b[2;36m[05/29/25 10:56:31]\u001b[0m\u001b[2;36m \u001b[0m\u001b[34mINFO    \u001b[0m Kedro project embedding_forecasting                                    \u001b]8;id=599848;file:///Users/RoverHofman/Desktop/School/thesis/embedding-forecasting/.venv/lib/python3.11/site-packages/kedro/ipython/__init__.py\u001b\\\u001b[2m__init__.py\u001b[0m\u001b]8;;\u001b\\\u001b[2m:\u001b[0m\u001b]8;id=92396;file:///Users/RoverHofman/Desktop/School/thesis/embedding-forecasting/.venv/lib/python3.11/site-packages/kedro/ipython/__init__.py#146\u001b\\\u001b[2m146\u001b[0m\u001b]8;;\u001b\\\n"
      ]
     },
     "metadata": {},
     "output_type": "display_data"
    },
    {
     "data": {
      "text/html": [
       "<pre style=\"white-space:pre;overflow-x:auto;line-height:normal;font-family:Menlo,'DejaVu Sans Mono',consolas,'Courier New',monospace\"><span style=\"color: #7fbfbf; text-decoration-color: #7fbfbf\">                    </span><span style=\"color: #000080; text-decoration-color: #000080\">INFO    </span> Defined global variable <span style=\"color: #008000; text-decoration-color: #008000\">'context'</span>, <span style=\"color: #008000; text-decoration-color: #008000\">'session'</span>, <span style=\"color: #008000; text-decoration-color: #008000\">'catalog'</span> and            <a href=\"file:///Users/RoverHofman/Desktop/School/thesis/embedding-forecasting/.venv/lib/python3.11/site-packages/kedro/ipython/__init__.py\" target=\"_blank\"><span style=\"color: #7f7f7f; text-decoration-color: #7f7f7f\">__init__.py</span></a><span style=\"color: #7f7f7f; text-decoration-color: #7f7f7f\">:</span><a href=\"file:///Users/RoverHofman/Desktop/School/thesis/embedding-forecasting/.venv/lib/python3.11/site-packages/kedro/ipython/__init__.py#147\" target=\"_blank\"><span style=\"color: #7f7f7f; text-decoration-color: #7f7f7f\">147</span></a>\n",
       "<span style=\"color: #7fbfbf; text-decoration-color: #7fbfbf\">                    </span>         <span style=\"color: #008000; text-decoration-color: #008000\">'pipelines'</span>                                                            <span style=\"color: #7f7f7f; text-decoration-color: #7f7f7f\">               </span>\n",
       "</pre>\n"
      ],
      "text/plain": [
       "\u001b[2;36m                   \u001b[0m\u001b[2;36m \u001b[0m\u001b[34mINFO    \u001b[0m Defined global variable \u001b[32m'context'\u001b[0m, \u001b[32m'session'\u001b[0m, \u001b[32m'catalog'\u001b[0m and            \u001b]8;id=137643;file:///Users/RoverHofman/Desktop/School/thesis/embedding-forecasting/.venv/lib/python3.11/site-packages/kedro/ipython/__init__.py\u001b\\\u001b[2m__init__.py\u001b[0m\u001b]8;;\u001b\\\u001b[2m:\u001b[0m\u001b]8;id=828499;file:///Users/RoverHofman/Desktop/School/thesis/embedding-forecasting/.venv/lib/python3.11/site-packages/kedro/ipython/__init__.py#147\u001b\\\u001b[2m147\u001b[0m\u001b]8;;\u001b\\\n",
       "\u001b[2;36m                    \u001b[0m         \u001b[32m'pipelines'\u001b[0m                                                            \u001b[2m               \u001b[0m\n"
      ]
     },
     "metadata": {},
     "output_type": "display_data"
    },
    {
     "data": {
      "text/html": [
       "<pre style=\"white-space:pre;overflow-x:auto;line-height:normal;font-family:Menlo,'DejaVu Sans Mono',consolas,'Courier New',monospace\"><span style=\"color: #7fbfbf; text-decoration-color: #7fbfbf\">                    </span><span style=\"color: #000080; text-decoration-color: #000080\">INFO    </span> Registered line magic <span style=\"color: #008000; text-decoration-color: #008000\">'run_viz'</span>                                        <a href=\"file:///Users/RoverHofman/Desktop/School/thesis/embedding-forecasting/.venv/lib/python3.11/site-packages/kedro/ipython/__init__.py\" target=\"_blank\"><span style=\"color: #7f7f7f; text-decoration-color: #7f7f7f\">__init__.py</span></a><span style=\"color: #7f7f7f; text-decoration-color: #7f7f7f\">:</span><a href=\"file:///Users/RoverHofman/Desktop/School/thesis/embedding-forecasting/.venv/lib/python3.11/site-packages/kedro/ipython/__init__.py#153\" target=\"_blank\"><span style=\"color: #7f7f7f; text-decoration-color: #7f7f7f\">153</span></a>\n",
       "</pre>\n"
      ],
      "text/plain": [
       "\u001b[2;36m                   \u001b[0m\u001b[2;36m \u001b[0m\u001b[34mINFO    \u001b[0m Registered line magic \u001b[32m'run_viz'\u001b[0m                                        \u001b]8;id=497449;file:///Users/RoverHofman/Desktop/School/thesis/embedding-forecasting/.venv/lib/python3.11/site-packages/kedro/ipython/__init__.py\u001b\\\u001b[2m__init__.py\u001b[0m\u001b]8;;\u001b\\\u001b[2m:\u001b[0m\u001b]8;id=320545;file:///Users/RoverHofman/Desktop/School/thesis/embedding-forecasting/.venv/lib/python3.11/site-packages/kedro/ipython/__init__.py#153\u001b\\\u001b[2m153\u001b[0m\u001b]8;;\u001b\\\n"
      ]
     },
     "metadata": {},
     "output_type": "display_data"
    }
   ],
   "source": [
    "%reload_ext kedro.ipython"
   ]
  },
  {
   "cell_type": "code",
   "execution_count": 6,
   "id": "0098fc48-893b-4545-a3e2-45a3aac1007a",
   "metadata": {},
   "outputs": [
    {
     "data": {
      "text/html": [
       "<pre style=\"white-space:pre;overflow-x:auto;line-height:normal;font-family:Menlo,'DejaVu Sans Mono',consolas,'Courier New',monospace\"></pre>\n"
      ],
      "text/plain": []
     },
     "metadata": {},
     "output_type": "display_data"
    },
    {
     "data": {
      "text/plain": [
       "\n",
       "\u001b[1m[\u001b[0m\n",
       "    \u001b[32m'closing_prices'\u001b[0m,\n",
       "    \u001b[32m'train_prices'\u001b[0m,\n",
       "    \u001b[32m'val_prices'\u001b[0m,\n",
       "    \u001b[32m'test_prices'\u001b[0m,\n",
       "    \u001b[32m'windows_90_train'\u001b[0m,\n",
       "    \u001b[32m'windows_90_val'\u001b[0m,\n",
       "    \u001b[32m'windows_90_test'\u001b[0m,\n",
       "    \u001b[32m'autoencoder_train'\u001b[0m,\n",
       "    \u001b[32m'autoencoder_val'\u001b[0m,\n",
       "    \u001b[32m'autoencoder_test'\u001b[0m,\n",
       "    \u001b[32m'autoencoder_plots'\u001b[0m,\n",
       "    \u001b[32m'pca_train'\u001b[0m,\n",
       "    \u001b[32m'pca_val'\u001b[0m,\n",
       "    \u001b[32m'pca_test'\u001b[0m,\n",
       "    \u001b[32m'lle_train'\u001b[0m,\n",
       "    \u001b[32m'lle_val'\u001b[0m,\n",
       "    \u001b[32m'lle_test'\u001b[0m,\n",
       "    \u001b[32m'umap_train'\u001b[0m,\n",
       "    \u001b[32m'umap_val'\u001b[0m,\n",
       "    \u001b[32m'umap_test'\u001b[0m,\n",
       "    \u001b[32m'wavelet_train'\u001b[0m,\n",
       "    \u001b[32m'wavelet_val'\u001b[0m,\n",
       "    \u001b[32m'wavelet_test'\u001b[0m,\n",
       "    \u001b[32m'fft_train'\u001b[0m,\n",
       "    \u001b[32m'fft_val'\u001b[0m,\n",
       "    \u001b[32m'fft_test'\u001b[0m,\n",
       "    \u001b[32m'graph_train'\u001b[0m,\n",
       "    \u001b[32m'graph_val'\u001b[0m,\n",
       "    \u001b[32m'graph_test'\u001b[0m,\n",
       "    \u001b[32m'tda_train'\u001b[0m,\n",
       "    \u001b[32m'tda_val'\u001b[0m,\n",
       "    \u001b[32m'tda_test'\u001b[0m,\n",
       "    \u001b[32m'gaf_train'\u001b[0m,\n",
       "    \u001b[32m'gaf_val'\u001b[0m,\n",
       "    \u001b[32m'gaf_test'\u001b[0m,\n",
       "    \u001b[32m'mtf_train'\u001b[0m,\n",
       "    \u001b[32m'mtf_val'\u001b[0m,\n",
       "    \u001b[32m'mtf_test'\u001b[0m,\n",
       "    \u001b[32m'rp_train'\u001b[0m,\n",
       "    \u001b[32m'rp_val'\u001b[0m,\n",
       "    \u001b[32m'rp_test'\u001b[0m,\n",
       "    \u001b[32m'gaf_clip_train'\u001b[0m,\n",
       "    \u001b[32m'gaf_clip_val'\u001b[0m,\n",
       "    \u001b[32m'gaf_clip_test'\u001b[0m,\n",
       "    \u001b[32m'mtf_clip_train'\u001b[0m,\n",
       "    \u001b[32m'mtf_clip_val'\u001b[0m,\n",
       "    \u001b[32m'mtf_clip_test'\u001b[0m,\n",
       "    \u001b[32m'rp_clip_train'\u001b[0m,\n",
       "    \u001b[32m'rp_clip_val'\u001b[0m,\n",
       "    \u001b[32m'rp_clip_test'\u001b[0m,\n",
       "    \u001b[32m'gaf_dino_train'\u001b[0m,\n",
       "    \u001b[32m'gaf_dino_val'\u001b[0m,\n",
       "    \u001b[32m'gaf_dino_test'\u001b[0m,\n",
       "    \u001b[32m'mtf_dino_train'\u001b[0m,\n",
       "    \u001b[32m'mtf_dino_val'\u001b[0m,\n",
       "    \u001b[32m'mtf_dino_test'\u001b[0m,\n",
       "    \u001b[32m'rp_dino_train'\u001b[0m,\n",
       "    \u001b[32m'rp_dino_val'\u001b[0m,\n",
       "    \u001b[32m'rp_dino_test'\u001b[0m,\n",
       "    \u001b[32m'gaf_resnet_train'\u001b[0m,\n",
       "    \u001b[32m'gaf_resnet_val'\u001b[0m,\n",
       "    \u001b[32m'gaf_resnet_test'\u001b[0m,\n",
       "    \u001b[32m'mtf_resnet_train'\u001b[0m,\n",
       "    \u001b[32m'mtf_resnet_val'\u001b[0m,\n",
       "    \u001b[32m'mtf_resnet_test'\u001b[0m,\n",
       "    \u001b[32m'rp_resnet_train'\u001b[0m,\n",
       "    \u001b[32m'rp_resnet_val'\u001b[0m,\n",
       "    \u001b[32m'rp_resnet_test'\u001b[0m,\n",
       "    \u001b[32m'vol_embeddings_scores'\u001b[0m,\n",
       "    \u001b[32m'fusion_vol_embeddings_scores'\u001b[0m,\n",
       "    \u001b[32m'parameters'\u001b[0m,\n",
       "    \u001b[32m'params:model_options'\u001b[0m,\n",
       "    \u001b[32m'params:model_options.embed_dim'\u001b[0m,\n",
       "    \u001b[32m'params:model_options.window_size'\u001b[0m,\n",
       "    \u001b[32m'params:model_options.random_state'\u001b[0m,\n",
       "    \u001b[32m'params:model_options.epochs'\u001b[0m,\n",
       "    \u001b[32m'params:model_options.batch_size'\u001b[0m,\n",
       "    \u001b[32m'params:window_size'\u001b[0m,\n",
       "    \u001b[32m'params:validation_fraction'\u001b[0m,\n",
       "    \u001b[32m'params:test_fraction'\u001b[0m,\n",
       "    \u001b[32m'params:lle_parameters'\u001b[0m,\n",
       "    \u001b[32m'params:lle_parameters.n_neighbors'\u001b[0m,\n",
       "    \u001b[32m'params:lle_parameters.n_components'\u001b[0m,\n",
       "    \u001b[32m'params:lle_parameters.random_state'\u001b[0m,\n",
       "    \u001b[32m'params:wavelet_parameters'\u001b[0m,\n",
       "    \u001b[32m'params:wavelet_parameters.wavelet'\u001b[0m,\n",
       "    \u001b[32m'params:wavelet_parameters.level'\u001b[0m,\n",
       "    \u001b[32m'params:n_components'\u001b[0m\n",
       "\u001b[1m]\u001b[0m"
      ]
     },
     "execution_count": 6,
     "metadata": {},
     "output_type": "execute_result"
    }
   ],
   "source": [
    "catalog.list()"
   ]
  },
  {
   "cell_type": "code",
   "execution_count": 7,
   "id": "929c2147-6a7e-437a-a085-f11ce403f46f",
   "metadata": {},
   "outputs": [
    {
     "data": {
      "text/html": [
       "<pre style=\"white-space:pre;overflow-x:auto;line-height:normal;font-family:Menlo,'DejaVu Sans Mono',consolas,'Courier New',monospace\"><span style=\"color: #7fbfbf; text-decoration-color: #7fbfbf\">[05/29/25 10:57:03] </span><span style=\"color: #000080; text-decoration-color: #000080\">INFO    </span> Loading data from <span style=\"color: #ff8700; text-decoration-color: #ff8700\">vol_embeddings_scores</span> <span style=\"font-weight: bold\">(</span>PickleDataset<span style=\"font-weight: bold\">)</span><span style=\"color: #808000; text-decoration-color: #808000\">...</span>         <a href=\"file:///Users/RoverHofman/Desktop/School/thesis/embedding-forecasting/.venv/lib/python3.11/site-packages/kedro/io/data_catalog.py\" target=\"_blank\"><span style=\"color: #7f7f7f; text-decoration-color: #7f7f7f\">data_catalog.py</span></a><span style=\"color: #7f7f7f; text-decoration-color: #7f7f7f\">:</span><a href=\"file:///Users/RoverHofman/Desktop/School/thesis/embedding-forecasting/.venv/lib/python3.11/site-packages/kedro/io/data_catalog.py#401\" target=\"_blank\"><span style=\"color: #7f7f7f; text-decoration-color: #7f7f7f\">401</span></a>\n",
       "</pre>\n"
      ],
      "text/plain": [
       "\u001b[2;36m[05/29/25 10:57:03]\u001b[0m\u001b[2;36m \u001b[0m\u001b[34mINFO    \u001b[0m Loading data from \u001b[38;5;208mvol_embeddings_scores\u001b[0m \u001b[1m(\u001b[0mPickleDataset\u001b[1m)\u001b[0m\u001b[33m...\u001b[0m         \u001b]8;id=22073;file:///Users/RoverHofman/Desktop/School/thesis/embedding-forecasting/.venv/lib/python3.11/site-packages/kedro/io/data_catalog.py\u001b\\\u001b[2mdata_catalog.py\u001b[0m\u001b]8;;\u001b\\\u001b[2m:\u001b[0m\u001b]8;id=201854;file:///Users/RoverHofman/Desktop/School/thesis/embedding-forecasting/.venv/lib/python3.11/site-packages/kedro/io/data_catalog.py#401\u001b\\\u001b[2m401\u001b[0m\u001b]8;;\u001b\\\n"
      ]
     },
     "metadata": {},
     "output_type": "display_data"
    },
    {
     "data": {
      "text/html": [
       "<pre style=\"white-space:pre;overflow-x:auto;line-height:normal;font-family:Menlo,'DejaVu Sans Mono',consolas,'Courier New',monospace\"></pre>\n"
      ],
      "text/plain": []
     },
     "metadata": {},
     "output_type": "display_data"
    },
    {
     "data": {
      "text/plain": [
       "\n",
       "\u001b[1m{\u001b[0m\n",
       "    \u001b[32m'autoencoder'\u001b[0m: \u001b[1m{\u001b[0m\n",
       "        \u001b[32m'binary'\u001b[0m: \u001b[1m{\u001b[0m\n",
       "            \u001b[32m'LogisticRegression'\u001b[0m: \u001b[1;36m0.44771740093626167\u001b[0m,\n",
       "            \u001b[32m'RandomForest'\u001b[0m: \u001b[1;36m0.5115465756412673\u001b[0m,\n",
       "            \u001b[32m'GradientBoosting'\u001b[0m: \u001b[1;36m0.4861544979320344\u001b[0m,\n",
       "            \u001b[32m'SVM \u001b[0m\u001b[32m(\u001b[0m\u001b[32mRBF kernel\u001b[0m\u001b[32m)\u001b[0m\u001b[32m'\u001b[0m: \u001b[1;36m0.5151520921182821\u001b[0m,\n",
       "            \u001b[32m'K-Nearest Neighbors'\u001b[0m: \u001b[1;36m0.6245153375349203\u001b[0m\n",
       "        \u001b[1m}\u001b[0m,\n",
       "        \u001b[32m'multi'\u001b[0m: \u001b[1m{\u001b[0m\n",
       "            \u001b[32m'LogisticRegression'\u001b[0m: \u001b[1;36m0.4115757344971507\u001b[0m,\n",
       "            \u001b[32m'RandomForest'\u001b[0m: \u001b[1;36m0.44934774337624833\u001b[0m,\n",
       "            \u001b[32m'GradientBoosting'\u001b[0m: \u001b[1;36m0.42639766412341606\u001b[0m,\n",
       "            \u001b[32m'SVM \u001b[0m\u001b[32m(\u001b[0m\u001b[32mRBF kernel\u001b[0m\u001b[32m)\u001b[0m\u001b[32m'\u001b[0m: \u001b[1;36m0.42446308843613123\u001b[0m,\n",
       "            \u001b[32m'K-Nearest Neighbors'\u001b[0m: \u001b[1;36m0.44259163179070526\u001b[0m\n",
       "        \u001b[1m}\u001b[0m\n",
       "    \u001b[1m}\u001b[0m,\n",
       "    \u001b[32m'fft'\u001b[0m: \u001b[1m{\u001b[0m\n",
       "        \u001b[32m'binary'\u001b[0m: \u001b[1m{\u001b[0m\n",
       "            \u001b[32m'LogisticRegression'\u001b[0m: \u001b[1;36m0.521849934331724\u001b[0m,\n",
       "            \u001b[32m'RandomForest'\u001b[0m: \u001b[1;36m0.4947511683351411\u001b[0m,\n",
       "            \u001b[32m'GradientBoosting'\u001b[0m: \u001b[1;36m0.5335630620631917\u001b[0m,\n",
       "            \u001b[32m'SVM \u001b[0m\u001b[32m(\u001b[0m\u001b[32mRBF kernel\u001b[0m\u001b[32m)\u001b[0m\u001b[32m'\u001b[0m: \u001b[1;36m0.44771740093626167\u001b[0m,\n",
       "            \u001b[32m'K-Nearest Neighbors'\u001b[0m: \u001b[1;36m0.4944756534949077\u001b[0m\n",
       "        \u001b[1m}\u001b[0m,\n",
       "        \u001b[32m'multi'\u001b[0m: \u001b[1m{\u001b[0m\n",
       "            \u001b[32m'LogisticRegression'\u001b[0m: \u001b[1;36m0.37217824828680324\u001b[0m,\n",
       "            \u001b[32m'RandomForest'\u001b[0m: \u001b[1;36m0.4577871357949842\u001b[0m,\n",
       "            \u001b[32m'GradientBoosting'\u001b[0m: \u001b[1;36m0.4605621782403203\u001b[0m,\n",
       "            \u001b[32m'SVM \u001b[0m\u001b[32m(\u001b[0m\u001b[32mRBF kernel\u001b[0m\u001b[32m)\u001b[0m\u001b[32m'\u001b[0m: \u001b[1;36m0.40568641864406607\u001b[0m,\n",
       "            \u001b[32m'K-Nearest Neighbors'\u001b[0m: \u001b[1;36m0.2540643879783899\u001b[0m\n",
       "        \u001b[1m}\u001b[0m\n",
       "    \u001b[1m}\u001b[0m,\n",
       "    \u001b[32m'gaf_clip'\u001b[0m: \u001b[1m{\u001b[0m\n",
       "        \u001b[32m'binary'\u001b[0m: \u001b[1m{\u001b[0m\n",
       "            \u001b[32m'LogisticRegression'\u001b[0m: \u001b[1;36m0.6672287727057311\u001b[0m,\n",
       "            \u001b[32m'RandomForest'\u001b[0m: \u001b[1;36m0.5438505306472347\u001b[0m,\n",
       "            \u001b[32m'GradientBoosting'\u001b[0m: \u001b[1;36m0.6013725313414394\u001b[0m,\n",
       "            \u001b[32m'SVM \u001b[0m\u001b[32m(\u001b[0m\u001b[32mRBF kernel\u001b[0m\u001b[32m)\u001b[0m\u001b[32m'\u001b[0m: \u001b[1;36m0.4671818427989435\u001b[0m,\n",
       "            \u001b[32m'K-Nearest Neighbors'\u001b[0m: \u001b[1;36m0.5711525846789104\u001b[0m\n",
       "        \u001b[1m}\u001b[0m,\n",
       "        \u001b[32m'multi'\u001b[0m: \u001b[1m{\u001b[0m\n",
       "            \u001b[32m'LogisticRegression'\u001b[0m: \u001b[1;36m0.5115958928492879\u001b[0m,\n",
       "            \u001b[32m'RandomForest'\u001b[0m: \u001b[1;36m0.5103352668278681\u001b[0m,\n",
       "            \u001b[32m'GradientBoosting'\u001b[0m: \u001b[1;36m0.5044322211057294\u001b[0m,\n",
       "            \u001b[32m'SVM \u001b[0m\u001b[32m(\u001b[0m\u001b[32mRBF kernel\u001b[0m\u001b[32m)\u001b[0m\u001b[32m'\u001b[0m: \u001b[1;36m0.5270133055481554\u001b[0m,\n",
       "            \u001b[32m'K-Nearest Neighbors'\u001b[0m: \u001b[1;36m0.41031708278633405\u001b[0m\n",
       "        \u001b[1m}\u001b[0m\n",
       "    \u001b[1m}\u001b[0m,\n",
       "    \u001b[32m'gaf_dino'\u001b[0m: \u001b[1m{\u001b[0m\n",
       "        \u001b[32m'binary'\u001b[0m: \u001b[1m{\u001b[0m\n",
       "            \u001b[32m'LogisticRegression'\u001b[0m: \u001b[1;36m0.5656830273786786\u001b[0m,\n",
       "            \u001b[32m'RandomForest'\u001b[0m: \u001b[1;36m0.48458541079277734\u001b[0m,\n",
       "            \u001b[32m'GradientBoosting'\u001b[0m: \u001b[1;36m0.5700084952799187\u001b[0m,\n",
       "            \u001b[32m'SVM \u001b[0m\u001b[32m(\u001b[0m\u001b[32mRBF kernel\u001b[0m\u001b[32m)\u001b[0m\u001b[32m'\u001b[0m: \u001b[1;36m0.5419482398599417\u001b[0m,\n",
       "            \u001b[32m'K-Nearest Neighbors'\u001b[0m: \u001b[1;36m0.5287453928971068\u001b[0m\n",
       "        \u001b[1m}\u001b[0m,\n",
       "        \u001b[32m'multi'\u001b[0m: \u001b[1m{\u001b[0m\n",
       "            \u001b[32m'LogisticRegression'\u001b[0m: \u001b[1;36m0.4933940971246062\u001b[0m,\n",
       "            \u001b[32m'RandomForest'\u001b[0m: \u001b[1;36m0.47151846276367704\u001b[0m,\n",
       "            \u001b[32m'GradientBoosting'\u001b[0m: \u001b[1;36m0.4900666257817863\u001b[0m,\n",
       "            \u001b[32m'SVM \u001b[0m\u001b[32m(\u001b[0m\u001b[32mRBF kernel\u001b[0m\u001b[32m)\u001b[0m\u001b[32m'\u001b[0m: \u001b[1;36m0.49550746500540155\u001b[0m,\n",
       "            \u001b[32m'K-Nearest Neighbors'\u001b[0m: \u001b[1;36m0.41799655203457414\u001b[0m\n",
       "        \u001b[1m}\u001b[0m\n",
       "    \u001b[1m}\u001b[0m,\n",
       "    \u001b[32m'gaf_resnet'\u001b[0m: \u001b[1m{\u001b[0m\n",
       "        \u001b[32m'binary'\u001b[0m: \u001b[1m{\u001b[0m\n",
       "            \u001b[32m'LogisticRegression'\u001b[0m: \u001b[1;36m0.6385068464586805\u001b[0m,\n",
       "            \u001b[32m'RandomForest'\u001b[0m: \u001b[1;36m0.47236040562531706\u001b[0m,\n",
       "            \u001b[32m'GradientBoosting'\u001b[0m: \u001b[1;36m0.5565575850661505\u001b[0m,\n",
       "            \u001b[32m'SVM \u001b[0m\u001b[32m(\u001b[0m\u001b[32mRBF kernel\u001b[0m\u001b[32m)\u001b[0m\u001b[32m'\u001b[0m: \u001b[1;36m0.636379188366648\u001b[0m,\n",
       "            \u001b[32m'K-Nearest Neighbors'\u001b[0m: \u001b[1;36m0.5562166499077077\u001b[0m\n",
       "        \u001b[1m}\u001b[0m,\n",
       "        \u001b[32m'multi'\u001b[0m: \u001b[1m{\u001b[0m\n",
       "            \u001b[32m'LogisticRegression'\u001b[0m: \u001b[1;36m0.504240283625451\u001b[0m,\n",
       "            \u001b[32m'RandomForest'\u001b[0m: \u001b[1;36m0.4350035901789907\u001b[0m,\n",
       "            \u001b[32m'GradientBoosting'\u001b[0m: \u001b[1;36m0.46327893755730626\u001b[0m,\n",
       "            \u001b[32m'SVM \u001b[0m\u001b[32m(\u001b[0m\u001b[32mRBF kernel\u001b[0m\u001b[32m)\u001b[0m\u001b[32m'\u001b[0m: \u001b[1;36m0.5050665686474731\u001b[0m,\n",
       "            \u001b[32m'K-Nearest Neighbors'\u001b[0m: \u001b[1;36m0.41225317895358254\u001b[0m\n",
       "        \u001b[1m}\u001b[0m\n",
       "    \u001b[1m}\u001b[0m,\n",
       "    \u001b[32m'graph'\u001b[0m: \u001b[1m{\u001b[0m\n",
       "        \u001b[32m'binary'\u001b[0m: \u001b[1m{\u001b[0m\n",
       "            \u001b[32m'LogisticRegression'\u001b[0m: \u001b[1;36m0.5351963069387293\u001b[0m,\n",
       "            \u001b[32m'RandomForest'\u001b[0m: \u001b[1;36m0.49620026897117836\u001b[0m,\n",
       "            \u001b[32m'GradientBoosting'\u001b[0m: \u001b[1;36m0.4897206656773397\u001b[0m,\n",
       "            \u001b[32m'SVM \u001b[0m\u001b[32m(\u001b[0m\u001b[32mRBF kernel\u001b[0m\u001b[32m)\u001b[0m\u001b[32m'\u001b[0m: \u001b[1;36m0.44771740093626167\u001b[0m,\n",
       "            \u001b[32m'K-Nearest Neighbors'\u001b[0m: \u001b[1;36m0.4494158126319879\u001b[0m\n",
       "        \u001b[1m}\u001b[0m,\n",
       "        \u001b[32m'multi'\u001b[0m: \u001b[1m{\u001b[0m\n",
       "            \u001b[32m'LogisticRegression'\u001b[0m: \u001b[1;36m0.4669830780324216\u001b[0m,\n",
       "            \u001b[32m'RandomForest'\u001b[0m: \u001b[1;36m0.4552893828686001\u001b[0m,\n",
       "            \u001b[32m'GradientBoosting'\u001b[0m: \u001b[1;36m0.4931758501886153\u001b[0m,\n",
       "            \u001b[32m'SVM \u001b[0m\u001b[32m(\u001b[0m\u001b[32mRBF kernel\u001b[0m\u001b[32m)\u001b[0m\u001b[32m'\u001b[0m: \u001b[1;36m0.4557889191171987\u001b[0m,\n",
       "            \u001b[32m'K-Nearest Neighbors'\u001b[0m: \u001b[1;36m0.4028426539789571\u001b[0m\n",
       "        \u001b[1m}\u001b[0m\n",
       "    \u001b[1m}\u001b[0m,\n",
       "    \u001b[32m'lle'\u001b[0m: \u001b[1m{\u001b[0m\n",
       "        \u001b[32m'binary'\u001b[0m: \u001b[1m{\u001b[0m\n",
       "            \u001b[32m'LogisticRegression'\u001b[0m: \u001b[1;36m0.44771740093626167\u001b[0m,\n",
       "            \u001b[32m'RandomForest'\u001b[0m: \u001b[1;36m0.5938193236009087\u001b[0m,\n",
       "            \u001b[32m'GradientBoosting'\u001b[0m: \u001b[1;36m0.5046855531269085\u001b[0m,\n",
       "            \u001b[32m'SVM \u001b[0m\u001b[32m(\u001b[0m\u001b[32mRBF kernel\u001b[0m\u001b[32m)\u001b[0m\u001b[32m'\u001b[0m: \u001b[1;36m0.47944790260807346\u001b[0m,\n",
       "            \u001b[32m'K-Nearest Neighbors'\u001b[0m: \u001b[1;36m0.5848249274273963\u001b[0m\n",
       "        \u001b[1m}\u001b[0m,\n",
       "        \u001b[32m'multi'\u001b[0m: \u001b[1m{\u001b[0m\n",
       "            \u001b[32m'LogisticRegression'\u001b[0m: \u001b[1;36m0.34331399740450025\u001b[0m,\n",
       "            \u001b[32m'RandomForest'\u001b[0m: \u001b[1;36m0.447180372054861\u001b[0m,\n",
       "            \u001b[32m'GradientBoosting'\u001b[0m: \u001b[1;36m0.42433379515078246\u001b[0m,\n",
       "            \u001b[32m'SVM \u001b[0m\u001b[32m(\u001b[0m\u001b[32mRBF kernel\u001b[0m\u001b[32m)\u001b[0m\u001b[32m'\u001b[0m: \u001b[1;36m0.3101634802153594\u001b[0m,\n",
       "            \u001b[32m'K-Nearest Neighbors'\u001b[0m: \u001b[1;36m0.4099139002055318\u001b[0m\n",
       "        \u001b[1m}\u001b[0m\n",
       "    \u001b[1m}\u001b[0m,\n",
       "    \u001b[32m'mtf_clip'\u001b[0m: \u001b[1m{\u001b[0m\n",
       "        \u001b[32m'binary'\u001b[0m: \u001b[1m{\u001b[0m\n",
       "            \u001b[32m'LogisticRegression'\u001b[0m: \u001b[1;36m0.5328863057375324\u001b[0m,\n",
       "            \u001b[32m'RandomForest'\u001b[0m: \u001b[1;36m0.4625931727694662\u001b[0m,\n",
       "            \u001b[32m'GradientBoosting'\u001b[0m: \u001b[1;36m0.4793945369005872\u001b[0m,\n",
       "            \u001b[32m'SVM \u001b[0m\u001b[32m(\u001b[0m\u001b[32mRBF kernel\u001b[0m\u001b[32m)\u001b[0m\u001b[32m'\u001b[0m: \u001b[1;36m0.44771740093626167\u001b[0m,\n",
       "            \u001b[32m'K-Nearest Neighbors'\u001b[0m: \u001b[1;36m0.5041155524954597\u001b[0m\n",
       "        \u001b[1m}\u001b[0m,\n",
       "        \u001b[32m'multi'\u001b[0m: \u001b[1m{\u001b[0m\n",
       "            \u001b[32m'LogisticRegression'\u001b[0m: \u001b[1;36m0.4347989597332092\u001b[0m,\n",
       "            \u001b[32m'RandomForest'\u001b[0m: \u001b[1;36m0.4237340398016498\u001b[0m,\n",
       "            \u001b[32m'GradientBoosting'\u001b[0m: \u001b[1;36m0.4354064462100853\u001b[0m,\n",
       "            \u001b[32m'SVM \u001b[0m\u001b[32m(\u001b[0m\u001b[32mRBF kernel\u001b[0m\u001b[32m)\u001b[0m\u001b[32m'\u001b[0m: \u001b[1;36m0.44335261875853016\u001b[0m,\n",
       "            \u001b[32m'K-Nearest Neighbors'\u001b[0m: \u001b[1;36m0.3485541621216767\u001b[0m\n",
       "        \u001b[1m}\u001b[0m\n",
       "    \u001b[1m}\u001b[0m,\n",
       "    \u001b[32m'mtf_dino'\u001b[0m: \u001b[1m{\u001b[0m\n",
       "        \u001b[32m'binary'\u001b[0m: \u001b[1m{\u001b[0m\n",
       "            \u001b[32m'LogisticRegression'\u001b[0m: \u001b[1;36m0.5941710520069071\u001b[0m,\n",
       "            \u001b[32m'RandomForest'\u001b[0m: \u001b[1;36m0.4971394873905176\u001b[0m,\n",
       "            \u001b[32m'GradientBoosting'\u001b[0m: \u001b[1;36m0.49566439344300206\u001b[0m,\n",
       "            \u001b[32m'SVM \u001b[0m\u001b[32m(\u001b[0m\u001b[32mRBF kernel\u001b[0m\u001b[32m)\u001b[0m\u001b[32m'\u001b[0m: \u001b[1;36m0.45343405327020325\u001b[0m,\n",
       "            \u001b[32m'K-Nearest Neighbors'\u001b[0m: \u001b[1;36m0.5359121581433776\u001b[0m\n",
       "        \u001b[1m}\u001b[0m,\n",
       "        \u001b[32m'multi'\u001b[0m: \u001b[1m{\u001b[0m\n",
       "            \u001b[32m'LogisticRegression'\u001b[0m: \u001b[1;36m0.4420907867319888\u001b[0m,\n",
       "            \u001b[32m'RandomForest'\u001b[0m: \u001b[1;36m0.4730523116271508\u001b[0m,\n",
       "            \u001b[32m'GradientBoosting'\u001b[0m: \u001b[1;36m0.46249118394766175\u001b[0m,\n",
       "            \u001b[32m'SVM \u001b[0m\u001b[32m(\u001b[0m\u001b[32mRBF kernel\u001b[0m\u001b[32m)\u001b[0m\u001b[32m'\u001b[0m: \u001b[1;36m0.4712220693264695\u001b[0m,\n",
       "            \u001b[32m'K-Nearest Neighbors'\u001b[0m: \u001b[1;36m0.37574110355741525\u001b[0m\n",
       "        \u001b[1m}\u001b[0m\n",
       "    \u001b[1m}\u001b[0m,\n",
       "    \u001b[32m'mtf_resnet'\u001b[0m: \u001b[1m{\u001b[0m\n",
       "        \u001b[32m'binary'\u001b[0m: \u001b[1m{\u001b[0m\n",
       "            \u001b[32m'LogisticRegression'\u001b[0m: \u001b[1;36m0.5718293819992444\u001b[0m,\n",
       "            \u001b[32m'RandomForest'\u001b[0m: \u001b[1;36m0.44337401858252634\u001b[0m,\n",
       "            \u001b[32m'GradientBoosting'\u001b[0m: \u001b[1;36m0.4924736089160084\u001b[0m,\n",
       "            \u001b[32m'SVM \u001b[0m\u001b[32m(\u001b[0m\u001b[32mRBF kernel\u001b[0m\u001b[32m)\u001b[0m\u001b[32m'\u001b[0m: \u001b[1;36m0.45160307776164693\u001b[0m,\n",
       "            \u001b[32m'K-Nearest Neighbors'\u001b[0m: \u001b[1;36m0.508901777882685\u001b[0m\n",
       "        \u001b[1m}\u001b[0m,\n",
       "        \u001b[32m'multi'\u001b[0m: \u001b[1m{\u001b[0m\n",
       "            \u001b[32m'LogisticRegression'\u001b[0m: \u001b[1;36m0.43655015137637065\u001b[0m,\n",
       "            \u001b[32m'RandomForest'\u001b[0m: \u001b[1;36m0.41569552637683266\u001b[0m,\n",
       "            \u001b[32m'GradientBoosting'\u001b[0m: \u001b[1;36m0.44479257775360265\u001b[0m,\n",
       "            \u001b[32m'SVM \u001b[0m\u001b[32m(\u001b[0m\u001b[32mRBF kernel\u001b[0m\u001b[32m)\u001b[0m\u001b[32m'\u001b[0m: \u001b[1;36m0.42360803955476584\u001b[0m,\n",
       "            \u001b[32m'K-Nearest Neighbors'\u001b[0m: \u001b[1;36m0.36788355097774444\u001b[0m\n",
       "        \u001b[1m}\u001b[0m\n",
       "    \u001b[1m}\u001b[0m,\n",
       "    \u001b[32m'pca'\u001b[0m: \u001b[1m{\u001b[0m\n",
       "        \u001b[32m'binary'\u001b[0m: \u001b[1m{\u001b[0m\n",
       "            \u001b[32m'LogisticRegression'\u001b[0m: \u001b[1;36m0.44771740093626167\u001b[0m,\n",
       "            \u001b[32m'RandomForest'\u001b[0m: \u001b[1;36m0.5044039038335127\u001b[0m,\n",
       "            \u001b[32m'GradientBoosting'\u001b[0m: \u001b[1;36m0.4632693826608044\u001b[0m,\n",
       "            \u001b[32m'SVM \u001b[0m\u001b[32m(\u001b[0m\u001b[32mRBF kernel\u001b[0m\u001b[32m)\u001b[0m\u001b[32m'\u001b[0m: \u001b[1;36m0.48332199148103316\u001b[0m,\n",
       "            \u001b[32m'K-Nearest Neighbors'\u001b[0m: \u001b[1;36m0.6300843368878151\u001b[0m\n",
       "        \u001b[1m}\u001b[0m,\n",
       "        \u001b[32m'multi'\u001b[0m: \u001b[1m{\u001b[0m\n",
       "            \u001b[32m'LogisticRegression'\u001b[0m: \u001b[1;36m0.41227143937037275\u001b[0m,\n",
       "            \u001b[32m'RandomForest'\u001b[0m: \u001b[1;36m0.3929339090239183\u001b[0m,\n",
       "            \u001b[32m'GradientBoosting'\u001b[0m: \u001b[1;36m0.45443700688406613\u001b[0m,\n",
       "            \u001b[32m'SVM \u001b[0m\u001b[32m(\u001b[0m\u001b[32mRBF kernel\u001b[0m\u001b[32m)\u001b[0m\u001b[32m'\u001b[0m: \u001b[1;36m0.42536659361013285\u001b[0m,\n",
       "            \u001b[32m'K-Nearest Neighbors'\u001b[0m: \u001b[1;36m0.434671899351898\u001b[0m\n",
       "        \u001b[1m}\u001b[0m\n",
       "    \u001b[1m}\u001b[0m,\n",
       "    \u001b[32m'rp_clip'\u001b[0m: \u001b[1m{\u001b[0m\n",
       "        \u001b[32m'binary'\u001b[0m: \u001b[1m{\u001b[0m\n",
       "            \u001b[32m'LogisticRegression'\u001b[0m: \u001b[1;36m0.6289380043447325\u001b[0m,\n",
       "            \u001b[32m'RandomForest'\u001b[0m: \u001b[1;36m0.5180304543567462\u001b[0m,\n",
       "            \u001b[32m'GradientBoosting'\u001b[0m: \u001b[1;36m0.5753657686978706\u001b[0m,\n",
       "            \u001b[32m'SVM \u001b[0m\u001b[32m(\u001b[0m\u001b[32mRBF kernel\u001b[0m\u001b[32m)\u001b[0m\u001b[32m'\u001b[0m: \u001b[1;36m0.5407166489780016\u001b[0m,\n",
       "            \u001b[32m'K-Nearest Neighbors'\u001b[0m: \u001b[1;36m0.5136149125818721\u001b[0m\n",
       "        \u001b[1m}\u001b[0m,\n",
       "        \u001b[32m'multi'\u001b[0m: \u001b[1m{\u001b[0m\n",
       "            \u001b[32m'LogisticRegression'\u001b[0m: \u001b[1;36m0.5291145860589764\u001b[0m,\n",
       "            \u001b[32m'RandomForest'\u001b[0m: \u001b[1;36m0.5160473233298106\u001b[0m,\n",
       "            \u001b[32m'GradientBoosting'\u001b[0m: \u001b[1;36m0.5373874161585805\u001b[0m,\n",
       "            \u001b[32m'SVM \u001b[0m\u001b[32m(\u001b[0m\u001b[32mRBF kernel\u001b[0m\u001b[32m)\u001b[0m\u001b[32m'\u001b[0m: \u001b[1;36m0.4746868167524259\u001b[0m,\n",
       "            \u001b[32m'K-Nearest Neighbors'\u001b[0m: \u001b[1;36m0.40884208267956157\u001b[0m\n",
       "        \u001b[1m}\u001b[0m\n",
       "    \u001b[1m}\u001b[0m,\n",
       "    \u001b[32m'rp_dino'\u001b[0m: \u001b[1m{\u001b[0m\n",
       "        \u001b[32m'binary'\u001b[0m: \u001b[1m{\u001b[0m\n",
       "            \u001b[32m'LogisticRegression'\u001b[0m: \u001b[1;36m0.6198892480608164\u001b[0m,\n",
       "            \u001b[32m'RandomForest'\u001b[0m: \u001b[1;36m0.5160151500746349\u001b[0m,\n",
       "            \u001b[32m'GradientBoosting'\u001b[0m: \u001b[1;36m0.5516213007069392\u001b[0m,\n",
       "            \u001b[32m'SVM \u001b[0m\u001b[32m(\u001b[0m\u001b[32mRBF kernel\u001b[0m\u001b[32m)\u001b[0m\u001b[32m'\u001b[0m: \u001b[1;36m0.5839101293408018\u001b[0m,\n",
       "            \u001b[32m'K-Nearest Neighbors'\u001b[0m: \u001b[1;36m0.48173357771354414\u001b[0m\n",
       "        \u001b[1m}\u001b[0m,\n",
       "        \u001b[32m'multi'\u001b[0m: \u001b[1m{\u001b[0m\n",
       "            \u001b[32m'LogisticRegression'\u001b[0m: \u001b[1;36m0.5090743348300197\u001b[0m,\n",
       "            \u001b[32m'RandomForest'\u001b[0m: \u001b[1;36m0.4427393583107474\u001b[0m,\n",
       "            \u001b[32m'GradientBoosting'\u001b[0m: \u001b[1;36m0.47759123546873317\u001b[0m,\n",
       "            \u001b[32m'SVM \u001b[0m\u001b[32m(\u001b[0m\u001b[32mRBF kernel\u001b[0m\u001b[32m)\u001b[0m\u001b[32m'\u001b[0m: \u001b[1;36m0.4716689418800831\u001b[0m,\n",
       "            \u001b[32m'K-Nearest Neighbors'\u001b[0m: \u001b[1;36m0.3737996200258666\u001b[0m\n",
       "        \u001b[1m}\u001b[0m\n",
       "    \u001b[1m}\u001b[0m,\n",
       "    \u001b[32m'rp_resnet'\u001b[0m: \u001b[1m{\u001b[0m\n",
       "        \u001b[32m'binary'\u001b[0m: \u001b[1m{\u001b[0m\n",
       "            \u001b[32m'LogisticRegression'\u001b[0m: \u001b[1;36m0.6220425176780893\u001b[0m,\n",
       "            \u001b[32m'RandomForest'\u001b[0m: \u001b[1;36m0.5000480654164664\u001b[0m,\n",
       "            \u001b[32m'GradientBoosting'\u001b[0m: \u001b[1;36m0.583142317696647\u001b[0m,\n",
       "            \u001b[32m'SVM \u001b[0m\u001b[32m(\u001b[0m\u001b[32mRBF kernel\u001b[0m\u001b[32m)\u001b[0m\u001b[32m'\u001b[0m: \u001b[1;36m0.6189650578291597\u001b[0m,\n",
       "            \u001b[32m'K-Nearest Neighbors'\u001b[0m: \u001b[1;36m0.5372037185290502\u001b[0m\n",
       "        \u001b[1m}\u001b[0m,\n",
       "        \u001b[32m'multi'\u001b[0m: \u001b[1m{\u001b[0m\n",
       "            \u001b[32m'LogisticRegression'\u001b[0m: \u001b[1;36m0.4830717443165727\u001b[0m,\n",
       "            \u001b[32m'RandomForest'\u001b[0m: \u001b[1;36m0.4590376405726003\u001b[0m,\n",
       "            \u001b[32m'GradientBoosting'\u001b[0m: \u001b[1;36m0.4840158749775127\u001b[0m,\n",
       "            \u001b[32m'SVM \u001b[0m\u001b[32m(\u001b[0m\u001b[32mRBF kernel\u001b[0m\u001b[32m)\u001b[0m\u001b[32m'\u001b[0m: \u001b[1;36m0.4984251007696872\u001b[0m,\n",
       "            \u001b[32m'K-Nearest Neighbors'\u001b[0m: \u001b[1;36m0.36771008179390274\u001b[0m\n",
       "        \u001b[1m}\u001b[0m\n",
       "    \u001b[1m}\u001b[0m,\n",
       "    \u001b[32m'tda'\u001b[0m: \u001b[1m{\u001b[0m\n",
       "        \u001b[32m'binary'\u001b[0m: \u001b[1m{\u001b[0m\n",
       "            \u001b[32m'LogisticRegression'\u001b[0m: \u001b[1;36m0.5819987853461712\u001b[0m,\n",
       "            \u001b[32m'RandomForest'\u001b[0m: \u001b[1;36m0.48870252647751655\u001b[0m,\n",
       "            \u001b[32m'GradientBoosting'\u001b[0m: \u001b[1;36m0.4922257357768516\u001b[0m,\n",
       "            \u001b[32m'SVM \u001b[0m\u001b[32m(\u001b[0m\u001b[32mRBF kernel\u001b[0m\u001b[32m)\u001b[0m\u001b[32m'\u001b[0m: \u001b[1;36m0.44771740093626167\u001b[0m,\n",
       "            \u001b[32m'K-Nearest Neighbors'\u001b[0m: \u001b[1;36m0.4720658340395428\u001b[0m\n",
       "        \u001b[1m}\u001b[0m,\n",
       "        \u001b[32m'multi'\u001b[0m: \u001b[1m{\u001b[0m\n",
       "            \u001b[32m'LogisticRegression'\u001b[0m: \u001b[1;36m0.45997828348864356\u001b[0m,\n",
       "            \u001b[32m'RandomForest'\u001b[0m: \u001b[1;36m0.4600855466792816\u001b[0m,\n",
       "            \u001b[32m'GradientBoosting'\u001b[0m: \u001b[1;36m0.5309283294020554\u001b[0m,\n",
       "            \u001b[32m'SVM \u001b[0m\u001b[32m(\u001b[0m\u001b[32mRBF kernel\u001b[0m\u001b[32m)\u001b[0m\u001b[32m'\u001b[0m: \u001b[1;36m0.5302063590181102\u001b[0m,\n",
       "            \u001b[32m'K-Nearest Neighbors'\u001b[0m: \u001b[1;36m0.387852461457649\u001b[0m\n",
       "        \u001b[1m}\u001b[0m\n",
       "    \u001b[1m}\u001b[0m,\n",
       "    \u001b[32m'umap'\u001b[0m: \u001b[1m{\u001b[0m\n",
       "        \u001b[32m'binary'\u001b[0m: \u001b[1m{\u001b[0m\n",
       "            \u001b[32m'LogisticRegression'\u001b[0m: \u001b[1;36m0.44771740093626167\u001b[0m,\n",
       "            \u001b[32m'RandomForest'\u001b[0m: \u001b[1;36m0.5548321238113956\u001b[0m,\n",
       "            \u001b[32m'GradientBoosting'\u001b[0m: \u001b[1;36m0.4829194587454993\u001b[0m,\n",
       "            \u001b[32m'SVM \u001b[0m\u001b[32m(\u001b[0m\u001b[32mRBF kernel\u001b[0m\u001b[32m)\u001b[0m\u001b[32m'\u001b[0m: \u001b[1;36m0.4870703273808093\u001b[0m,\n",
       "            \u001b[32m'K-Nearest Neighbors'\u001b[0m: \u001b[1;36m0.5460743586195594\u001b[0m\n",
       "        \u001b[1m}\u001b[0m,\n",
       "        \u001b[32m'multi'\u001b[0m: \u001b[1m{\u001b[0m\n",
       "            \u001b[32m'LogisticRegression'\u001b[0m: \u001b[1;36m0.3919569324741117\u001b[0m,\n",
       "            \u001b[32m'RandomForest'\u001b[0m: \u001b[1;36m0.39546038708921466\u001b[0m,\n",
       "            \u001b[32m'GradientBoosting'\u001b[0m: \u001b[1;36m0.4031684412579837\u001b[0m,\n",
       "            \u001b[32m'SVM \u001b[0m\u001b[32m(\u001b[0m\u001b[32mRBF kernel\u001b[0m\u001b[32m)\u001b[0m\u001b[32m'\u001b[0m: \u001b[1;36m0.39423724136065097\u001b[0m,\n",
       "            \u001b[32m'K-Nearest Neighbors'\u001b[0m: \u001b[1;36m0.3386953593130673\u001b[0m\n",
       "        \u001b[1m}\u001b[0m\n",
       "    \u001b[1m}\u001b[0m,\n",
       "    \u001b[32m'wavelet'\u001b[0m: \u001b[1m{\u001b[0m\n",
       "        \u001b[32m'binary'\u001b[0m: \u001b[1m{\u001b[0m\n",
       "            \u001b[32m'LogisticRegression'\u001b[0m: \u001b[1;36m0.44771740093626167\u001b[0m,\n",
       "            \u001b[32m'RandomForest'\u001b[0m: \u001b[1;36m0.4947750713717095\u001b[0m,\n",
       "            \u001b[32m'GradientBoosting'\u001b[0m: \u001b[1;36m0.5013567182732129\u001b[0m,\n",
       "            \u001b[32m'SVM \u001b[0m\u001b[32m(\u001b[0m\u001b[32mRBF kernel\u001b[0m\u001b[32m)\u001b[0m\u001b[32m'\u001b[0m: \u001b[1;36m0.4658842537696266\u001b[0m,\n",
       "            \u001b[32m'K-Nearest Neighbors'\u001b[0m: \u001b[1;36m0.6436665788772044\u001b[0m\n",
       "        \u001b[1m}\u001b[0m,\n",
       "        \u001b[32m'multi'\u001b[0m: \u001b[1m{\u001b[0m\n",
       "            \u001b[32m'LogisticRegression'\u001b[0m: \u001b[1;36m0.40200170892709514\u001b[0m,\n",
       "            \u001b[32m'RandomForest'\u001b[0m: \u001b[1;36m0.4312112130314993\u001b[0m,\n",
       "            \u001b[32m'GradientBoosting'\u001b[0m: \u001b[1;36m0.42859461712506536\u001b[0m,\n",
       "            \u001b[32m'SVM \u001b[0m\u001b[32m(\u001b[0m\u001b[32mRBF kernel\u001b[0m\u001b[32m)\u001b[0m\u001b[32m'\u001b[0m: \u001b[1;36m0.42994537823261514\u001b[0m,\n",
       "            \u001b[32m'K-Nearest Neighbors'\u001b[0m: \u001b[1;36m0.3926646965714884\u001b[0m\n",
       "        \u001b[1m}\u001b[0m\n",
       "    \u001b[1m}\u001b[0m,\n",
       "    \u001b[32m'windows_90'\u001b[0m: \u001b[1m{\u001b[0m\n",
       "        \u001b[32m'binary'\u001b[0m: \u001b[1m{\u001b[0m\n",
       "            \u001b[32m'LogisticRegression'\u001b[0m: \u001b[1;36m0.44771740093626167\u001b[0m,\n",
       "            \u001b[32m'RandomForest'\u001b[0m: \u001b[1;36m0.49798259860738137\u001b[0m,\n",
       "            \u001b[32m'GradientBoosting'\u001b[0m: \u001b[1;36m0.4849324875434716\u001b[0m,\n",
       "            \u001b[32m'SVM \u001b[0m\u001b[32m(\u001b[0m\u001b[32mRBF kernel\u001b[0m\u001b[32m)\u001b[0m\u001b[32m'\u001b[0m: \u001b[1;36m0.4561882136921455\u001b[0m,\n",
       "            \u001b[32m'K-Nearest Neighbors'\u001b[0m: \u001b[1;36m0.6402317894917702\u001b[0m\n",
       "        \u001b[1m}\u001b[0m,\n",
       "        \u001b[32m'multi'\u001b[0m: \u001b[1m{\u001b[0m\n",
       "            \u001b[32m'LogisticRegression'\u001b[0m: \u001b[1;36m0.4030662665659488\u001b[0m,\n",
       "            \u001b[32m'RandomForest'\u001b[0m: \u001b[1;36m0.44749383182431707\u001b[0m,\n",
       "            \u001b[32m'GradientBoosting'\u001b[0m: \u001b[1;36m0.4453525563430192\u001b[0m,\n",
       "            \u001b[32m'SVM \u001b[0m\u001b[32m(\u001b[0m\u001b[32mRBF kernel\u001b[0m\u001b[32m)\u001b[0m\u001b[32m'\u001b[0m: \u001b[1;36m0.4278818327195367\u001b[0m,\n",
       "            \u001b[32m'K-Nearest Neighbors'\u001b[0m: \u001b[1;36m0.4093724326960243\u001b[0m\n",
       "        \u001b[1m}\u001b[0m\n",
       "    \u001b[1m}\u001b[0m\n",
       "\u001b[1m}\u001b[0m"
      ]
     },
     "execution_count": 7,
     "metadata": {},
     "output_type": "execute_result"
    }
   ],
   "source": [
    "catalog.load(\"vol_embeddings_scores\")"
   ]
  },
  {
   "cell_type": "code",
   "execution_count": null,
   "id": "75eef509-8dfa-4274-9b8a-5d9e306d9107",
   "metadata": {},
   "outputs": [],
   "source": []
  }
 ],
 "metadata": {
  "kernelspec": {
   "display_name": "Python 3 (ipykernel)",
   "language": "python",
   "name": "python3"
  },
  "language_info": {
   "codemirror_mode": {
    "name": "ipython",
    "version": 3
   },
   "file_extension": ".py",
   "mimetype": "text/x-python",
   "name": "python",
   "nbconvert_exporter": "python",
   "pygments_lexer": "ipython3",
   "version": "3.11.3"
  }
 },
 "nbformat": 4,
 "nbformat_minor": 5
}
