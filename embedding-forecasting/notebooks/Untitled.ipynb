{
 "cells": [
  {
   "cell_type": "code",
   "execution_count": 10,
   "id": "23111d33-6928-444c-a247-8dfc425f0e3d",
   "metadata": {},
   "outputs": [
    {
     "data": {
      "text/html": [
       "<pre style=\"white-space:pre;overflow-x:auto;line-height:normal;font-family:Menlo,'DejaVu Sans Mono',consolas,'Courier New',monospace\"><span style=\"color: #7fbfbf; text-decoration-color: #7fbfbf\">[05/07/25 16:56:46] </span><span style=\"color: #000080; text-decoration-color: #000080\">INFO    </span> Registered line magic <span style=\"color: #008000; text-decoration-color: #008000\">'%reload_kedro'</span>                                   <a href=\"file:///Users/RoverHofman/Desktop/School/thesis/.venv/lib/python3.11/site-packages/kedro/ipython/__init__.py\" target=\"_blank\"><span style=\"color: #7f7f7f; text-decoration-color: #7f7f7f\">__init__.py</span></a><span style=\"color: #7f7f7f; text-decoration-color: #7f7f7f\">:</span><a href=\"file:///Users/RoverHofman/Desktop/School/thesis/.venv/lib/python3.11/site-packages/kedro/ipython/__init__.py#63\" target=\"_blank\"><span style=\"color: #7f7f7f; text-decoration-color: #7f7f7f\">63</span></a>\n",
       "</pre>\n"
      ],
      "text/plain": [
       "\u001b[2;36m[05/07/25 16:56:46]\u001b[0m\u001b[2;36m \u001b[0m\u001b[34mINFO    \u001b[0m Registered line magic \u001b[32m'%reload_kedro'\u001b[0m                                   \u001b]8;id=135280;file:///Users/RoverHofman/Desktop/School/thesis/.venv/lib/python3.11/site-packages/kedro/ipython/__init__.py\u001b\\\u001b[2m__init__.py\u001b[0m\u001b]8;;\u001b\\\u001b[2m:\u001b[0m\u001b]8;id=973210;file:///Users/RoverHofman/Desktop/School/thesis/.venv/lib/python3.11/site-packages/kedro/ipython/__init__.py#63\u001b\\\u001b[2m63\u001b[0m\u001b]8;;\u001b\\\n"
      ]
     },
     "metadata": {},
     "output_type": "display_data"
    },
    {
     "data": {
      "text/html": [
       "<pre style=\"white-space:pre;overflow-x:auto;line-height:normal;font-family:Menlo,'DejaVu Sans Mono',consolas,'Courier New',monospace\"><span style=\"color: #7fbfbf; text-decoration-color: #7fbfbf\">                    </span><span style=\"color: #000080; text-decoration-color: #000080\">INFO    </span> Registered line magic <span style=\"color: #008000; text-decoration-color: #008000\">'%load_node'</span>                                      <a href=\"file:///Users/RoverHofman/Desktop/School/thesis/.venv/lib/python3.11/site-packages/kedro/ipython/__init__.py\" target=\"_blank\"><span style=\"color: #7f7f7f; text-decoration-color: #7f7f7f\">__init__.py</span></a><span style=\"color: #7f7f7f; text-decoration-color: #7f7f7f\">:</span><a href=\"file:///Users/RoverHofman/Desktop/School/thesis/.venv/lib/python3.11/site-packages/kedro/ipython/__init__.py#65\" target=\"_blank\"><span style=\"color: #7f7f7f; text-decoration-color: #7f7f7f\">65</span></a>\n",
       "</pre>\n"
      ],
      "text/plain": [
       "\u001b[2;36m                   \u001b[0m\u001b[2;36m \u001b[0m\u001b[34mINFO    \u001b[0m Registered line magic \u001b[32m'%load_node'\u001b[0m                                      \u001b]8;id=191815;file:///Users/RoverHofman/Desktop/School/thesis/.venv/lib/python3.11/site-packages/kedro/ipython/__init__.py\u001b\\\u001b[2m__init__.py\u001b[0m\u001b]8;;\u001b\\\u001b[2m:\u001b[0m\u001b]8;id=480749;file:///Users/RoverHofman/Desktop/School/thesis/.venv/lib/python3.11/site-packages/kedro/ipython/__init__.py#65\u001b\\\u001b[2m65\u001b[0m\u001b]8;;\u001b\\\n"
      ]
     },
     "metadata": {},
     "output_type": "display_data"
    },
    {
     "data": {
      "text/html": [
       "<pre style=\"white-space:pre;overflow-x:auto;line-height:normal;font-family:Menlo,'DejaVu Sans Mono',consolas,'Courier New',monospace\"><span style=\"color: #7fbfbf; text-decoration-color: #7fbfbf\">                    </span><span style=\"color: #000080; text-decoration-color: #000080\">INFO    </span> Resolved project path as:                                              <a href=\"file:///Users/RoverHofman/Desktop/School/thesis/.venv/lib/python3.11/site-packages/kedro/ipython/__init__.py\" target=\"_blank\"><span style=\"color: #7f7f7f; text-decoration-color: #7f7f7f\">__init__.py</span></a><span style=\"color: #7f7f7f; text-decoration-color: #7f7f7f\">:</span><a href=\"file:///Users/RoverHofman/Desktop/School/thesis/.venv/lib/python3.11/site-packages/kedro/ipython/__init__.py#180\" target=\"_blank\"><span style=\"color: #7f7f7f; text-decoration-color: #7f7f7f\">180</span></a>\n",
       "<span style=\"color: #7fbfbf; text-decoration-color: #7fbfbf\">                    </span>         <span style=\"color: #800080; text-decoration-color: #800080\">/Users/RoverHofman/Desktop/School/thesis/</span><span style=\"color: #ff00ff; text-decoration-color: #ff00ff\">embedding-forecasting.</span>        <span style=\"color: #7f7f7f; text-decoration-color: #7f7f7f\">               </span>\n",
       "<span style=\"color: #7fbfbf; text-decoration-color: #7fbfbf\">                    </span>         To set a different path, run <span style=\"color: #008000; text-decoration-color: #008000\">'%reload_kedro &lt;project_root&gt;'</span>            <span style=\"color: #7f7f7f; text-decoration-color: #7f7f7f\">               </span>\n",
       "</pre>\n"
      ],
      "text/plain": [
       "\u001b[2;36m                   \u001b[0m\u001b[2;36m \u001b[0m\u001b[34mINFO    \u001b[0m Resolved project path as:                                              \u001b]8;id=46180;file:///Users/RoverHofman/Desktop/School/thesis/.venv/lib/python3.11/site-packages/kedro/ipython/__init__.py\u001b\\\u001b[2m__init__.py\u001b[0m\u001b]8;;\u001b\\\u001b[2m:\u001b[0m\u001b]8;id=476307;file:///Users/RoverHofman/Desktop/School/thesis/.venv/lib/python3.11/site-packages/kedro/ipython/__init__.py#180\u001b\\\u001b[2m180\u001b[0m\u001b]8;;\u001b\\\n",
       "\u001b[2;36m                    \u001b[0m         \u001b[35m/Users/RoverHofman/Desktop/School/thesis/\u001b[0m\u001b[95membedding-forecasting.\u001b[0m        \u001b[2m               \u001b[0m\n",
       "\u001b[2;36m                    \u001b[0m         To set a different path, run \u001b[32m'%reload_kedro \u001b[0m\u001b[32m<\u001b[0m\u001b[32mproject_root\u001b[0m\u001b[32m>\u001b[0m\u001b[32m'\u001b[0m            \u001b[2m               \u001b[0m\n"
      ]
     },
     "metadata": {},
     "output_type": "display_data"
    },
    {
     "data": {
      "text/html": [
       "<pre style=\"white-space:pre;overflow-x:auto;line-height:normal;font-family:Menlo,'DejaVu Sans Mono',consolas,'Courier New',monospace\"><span style=\"color: #7fbfbf; text-decoration-color: #7fbfbf\">[05/07/25 16:56:47] </span><span style=\"color: #808000; text-decoration-color: #808000\">WARNING </span> <span style=\"color: #800080; text-decoration-color: #800080\">/Users/RoverHofman/Desktop/School/thesis/.venv/lib/python3.11/site-pac</span> <a href=\"file:///Library/Frameworks/Python.framework/Versions/3.11/lib/python3.11/warnings.py\" target=\"_blank\"><span style=\"color: #7f7f7f; text-decoration-color: #7f7f7f\">warnings.py</span></a><span style=\"color: #7f7f7f; text-decoration-color: #7f7f7f\">:</span><a href=\"file:///Library/Frameworks/Python.framework/Versions/3.11/lib/python3.11/warnings.py#109\" target=\"_blank\"><span style=\"color: #7f7f7f; text-decoration-color: #7f7f7f\">109</span></a>\n",
       "<span style=\"color: #7fbfbf; text-decoration-color: #7fbfbf\">                    </span>         <span style=\"color: #800080; text-decoration-color: #800080\">kages/kedro/io/</span><span style=\"color: #ff00ff; text-decoration-color: #ff00ff\">data_catalog.py</span>:<span style=\"color: #008080; text-decoration-color: #008080; font-weight: bold\">165</span>: KedroDeprecationWarning:           <span style=\"color: #7f7f7f; text-decoration-color: #7f7f7f\">               </span>\n",
       "<span style=\"color: #7fbfbf; text-decoration-color: #7fbfbf\">                    </span>         `DataCatalog` has been deprecated and will be replaced by              <span style=\"color: #7f7f7f; text-decoration-color: #7f7f7f\">               </span>\n",
       "<span style=\"color: #7fbfbf; text-decoration-color: #7fbfbf\">                    </span>         `KedroDataCatalog`, in Kedro <span style=\"color: #008080; text-decoration-color: #008080; font-weight: bold\">1.0</span>.<span style=\"color: #008080; text-decoration-color: #008080; font-weight: bold\">0.</span>Currently some `KedroDataCatalog`   <span style=\"color: #7f7f7f; text-decoration-color: #7f7f7f\">               </span>\n",
       "<span style=\"color: #7fbfbf; text-decoration-color: #7fbfbf\">                    </span>         APIs have been retained for compatibility with `DataCatalog`,          <span style=\"color: #7f7f7f; text-decoration-color: #7f7f7f\">               </span>\n",
       "<span style=\"color: #7fbfbf; text-decoration-color: #7fbfbf\">                    </span>         including the `datasets` property and the `get_datasets`,              <span style=\"color: #7f7f7f; text-decoration-color: #7f7f7f\">               </span>\n",
       "<span style=\"color: #7fbfbf; text-decoration-color: #7fbfbf\">                    </span>         `_get_datasets`, `add`,` list`, `add_feed_dict`, and `shallow_copy`    <span style=\"color: #7f7f7f; text-decoration-color: #7f7f7f\">               </span>\n",
       "<span style=\"color: #7fbfbf; text-decoration-color: #7fbfbf\">                    </span>         methods. These will be removed or replaced with updated alternatives   <span style=\"color: #7f7f7f; text-decoration-color: #7f7f7f\">               </span>\n",
       "<span style=\"color: #7fbfbf; text-decoration-color: #7fbfbf\">                    </span>         in Kedro <span style=\"color: #008080; text-decoration-color: #008080; font-weight: bold\">1.0</span>.<span style=\"color: #008080; text-decoration-color: #008080; font-weight: bold\">0</span>. For more details, refer to the documentation:          <span style=\"color: #7f7f7f; text-decoration-color: #7f7f7f\">               </span>\n",
       "<span style=\"color: #7fbfbf; text-decoration-color: #7fbfbf\">                    </span>         <span style=\"color: #0000ff; text-decoration-color: #0000ff; text-decoration: underline\">https://docs.kedro.org/en/stable/data/index.html#kedrodatacatalog-expe</span> <span style=\"color: #7f7f7f; text-decoration-color: #7f7f7f\">               </span>\n",
       "<span style=\"color: #7fbfbf; text-decoration-color: #7fbfbf\">                    </span>         <span style=\"color: #0000ff; text-decoration-color: #0000ff; text-decoration: underline\">rimental-feature</span>                                                       <span style=\"color: #7f7f7f; text-decoration-color: #7f7f7f\">               </span>\n",
       "<span style=\"color: #7fbfbf; text-decoration-color: #7fbfbf\">                    </span>           <span style=\"color: #800080; text-decoration-color: #800080; font-weight: bold\">warnings.warn</span><span style=\"font-weight: bold\">(</span>                                                       <span style=\"color: #7f7f7f; text-decoration-color: #7f7f7f\">               </span>\n",
       "<span style=\"color: #7fbfbf; text-decoration-color: #7fbfbf\">                    </span>                                                                                <span style=\"color: #7f7f7f; text-decoration-color: #7f7f7f\">               </span>\n",
       "</pre>\n"
      ],
      "text/plain": [
       "\u001b[2;36m[05/07/25 16:56:47]\u001b[0m\u001b[2;36m \u001b[0m\u001b[33mWARNING \u001b[0m \u001b[35m/Users/RoverHofman/Desktop/School/thesis/.venv/lib/python3.11/site-pac\u001b[0m \u001b]8;id=270478;file:///Library/Frameworks/Python.framework/Versions/3.11/lib/python3.11/warnings.py\u001b\\\u001b[2mwarnings.py\u001b[0m\u001b]8;;\u001b\\\u001b[2m:\u001b[0m\u001b]8;id=615590;file:///Library/Frameworks/Python.framework/Versions/3.11/lib/python3.11/warnings.py#109\u001b\\\u001b[2m109\u001b[0m\u001b]8;;\u001b\\\n",
       "\u001b[2;36m                    \u001b[0m         \u001b[35mkages/kedro/io/\u001b[0m\u001b[95mdata_catalog.py\u001b[0m:\u001b[1;36m165\u001b[0m: KedroDeprecationWarning:           \u001b[2m               \u001b[0m\n",
       "\u001b[2;36m                    \u001b[0m         `DataCatalog` has been deprecated and will be replaced by              \u001b[2m               \u001b[0m\n",
       "\u001b[2;36m                    \u001b[0m         `KedroDataCatalog`, in Kedro \u001b[1;36m1.0\u001b[0m.\u001b[1;36m0.\u001b[0mCurrently some `KedroDataCatalog`   \u001b[2m               \u001b[0m\n",
       "\u001b[2;36m                    \u001b[0m         APIs have been retained for compatibility with `DataCatalog`,          \u001b[2m               \u001b[0m\n",
       "\u001b[2;36m                    \u001b[0m         including the `datasets` property and the `get_datasets`,              \u001b[2m               \u001b[0m\n",
       "\u001b[2;36m                    \u001b[0m         `_get_datasets`, `add`,` list`, `add_feed_dict`, and `shallow_copy`    \u001b[2m               \u001b[0m\n",
       "\u001b[2;36m                    \u001b[0m         methods. These will be removed or replaced with updated alternatives   \u001b[2m               \u001b[0m\n",
       "\u001b[2;36m                    \u001b[0m         in Kedro \u001b[1;36m1.0\u001b[0m.\u001b[1;36m0\u001b[0m. For more details, refer to the documentation:          \u001b[2m               \u001b[0m\n",
       "\u001b[2;36m                    \u001b[0m         \u001b[4;94mhttps://docs.kedro.org/en/stable/data/index.html#kedrodatacatalog-expe\u001b[0m \u001b[2m               \u001b[0m\n",
       "\u001b[2;36m                    \u001b[0m         \u001b[4;94mrimental-feature\u001b[0m                                                       \u001b[2m               \u001b[0m\n",
       "\u001b[2;36m                    \u001b[0m           \u001b[1;35mwarnings.warn\u001b[0m\u001b[1m(\u001b[0m                                                       \u001b[2m               \u001b[0m\n",
       "\u001b[2;36m                    \u001b[0m                                                                                \u001b[2m               \u001b[0m\n"
      ]
     },
     "metadata": {},
     "output_type": "display_data"
    },
    {
     "data": {
      "text/html": [
       "<pre style=\"white-space:pre;overflow-x:auto;line-height:normal;font-family:Menlo,'DejaVu Sans Mono',consolas,'Courier New',monospace\"><span style=\"color: #7fbfbf; text-decoration-color: #7fbfbf\">                    </span><span style=\"color: #808000; text-decoration-color: #808000\">WARNING </span> <span style=\"color: #800080; text-decoration-color: #800080\">/Users/RoverHofman/Desktop/School/thesis/.venv/lib/python3.11/site-pac</span> <a href=\"file:///Library/Frameworks/Python.framework/Versions/3.11/lib/python3.11/warnings.py\" target=\"_blank\"><span style=\"color: #7f7f7f; text-decoration-color: #7f7f7f\">warnings.py</span></a><span style=\"color: #7f7f7f; text-decoration-color: #7f7f7f\">:</span><a href=\"file:///Library/Frameworks/Python.framework/Versions/3.11/lib/python3.11/warnings.py#109\" target=\"_blank\"><span style=\"color: #7f7f7f; text-decoration-color: #7f7f7f\">109</span></a>\n",
       "<span style=\"color: #7fbfbf; text-decoration-color: #7fbfbf\">                    </span>         <span style=\"color: #800080; text-decoration-color: #800080\">kages/kedro/io/</span><span style=\"color: #ff00ff; text-decoration-color: #ff00ff\">data_catalog.py</span>:<span style=\"color: #008080; text-decoration-color: #008080; font-weight: bold\">165</span>: KedroDeprecationWarning:           <span style=\"color: #7f7f7f; text-decoration-color: #7f7f7f\">               </span>\n",
       "<span style=\"color: #7fbfbf; text-decoration-color: #7fbfbf\">                    </span>         `DataCatalog` has been deprecated and will be replaced by              <span style=\"color: #7f7f7f; text-decoration-color: #7f7f7f\">               </span>\n",
       "<span style=\"color: #7fbfbf; text-decoration-color: #7fbfbf\">                    </span>         `KedroDataCatalog`, in Kedro <span style=\"color: #008080; text-decoration-color: #008080; font-weight: bold\">1.0</span>.<span style=\"color: #008080; text-decoration-color: #008080; font-weight: bold\">0.</span>Currently some `KedroDataCatalog`   <span style=\"color: #7f7f7f; text-decoration-color: #7f7f7f\">               </span>\n",
       "<span style=\"color: #7fbfbf; text-decoration-color: #7fbfbf\">                    </span>         APIs have been retained for compatibility with `DataCatalog`,          <span style=\"color: #7f7f7f; text-decoration-color: #7f7f7f\">               </span>\n",
       "<span style=\"color: #7fbfbf; text-decoration-color: #7fbfbf\">                    </span>         including the `datasets` property and the `get_datasets`,              <span style=\"color: #7f7f7f; text-decoration-color: #7f7f7f\">               </span>\n",
       "<span style=\"color: #7fbfbf; text-decoration-color: #7fbfbf\">                    </span>         `_get_datasets`, `add`,` list`, `add_feed_dict`, and `shallow_copy`    <span style=\"color: #7f7f7f; text-decoration-color: #7f7f7f\">               </span>\n",
       "<span style=\"color: #7fbfbf; text-decoration-color: #7fbfbf\">                    </span>         methods. These will be removed or replaced with updated alternatives   <span style=\"color: #7f7f7f; text-decoration-color: #7f7f7f\">               </span>\n",
       "<span style=\"color: #7fbfbf; text-decoration-color: #7fbfbf\">                    </span>         in Kedro <span style=\"color: #008080; text-decoration-color: #008080; font-weight: bold\">1.0</span>.<span style=\"color: #008080; text-decoration-color: #008080; font-weight: bold\">0</span>. For more details, refer to the documentation:          <span style=\"color: #7f7f7f; text-decoration-color: #7f7f7f\">               </span>\n",
       "<span style=\"color: #7fbfbf; text-decoration-color: #7fbfbf\">                    </span>         <span style=\"color: #0000ff; text-decoration-color: #0000ff; text-decoration: underline\">https://docs.kedro.org/en/stable/data/index.html#kedrodatacatalog-expe</span> <span style=\"color: #7f7f7f; text-decoration-color: #7f7f7f\">               </span>\n",
       "<span style=\"color: #7fbfbf; text-decoration-color: #7fbfbf\">                    </span>         <span style=\"color: #0000ff; text-decoration-color: #0000ff; text-decoration: underline\">rimental-feature</span>                                                       <span style=\"color: #7f7f7f; text-decoration-color: #7f7f7f\">               </span>\n",
       "<span style=\"color: #7fbfbf; text-decoration-color: #7fbfbf\">                    </span>           <span style=\"color: #800080; text-decoration-color: #800080; font-weight: bold\">warnings.warn</span><span style=\"font-weight: bold\">(</span>                                                       <span style=\"color: #7f7f7f; text-decoration-color: #7f7f7f\">               </span>\n",
       "<span style=\"color: #7fbfbf; text-decoration-color: #7fbfbf\">                    </span>                                                                                <span style=\"color: #7f7f7f; text-decoration-color: #7f7f7f\">               </span>\n",
       "</pre>\n"
      ],
      "text/plain": [
       "\u001b[2;36m                   \u001b[0m\u001b[2;36m \u001b[0m\u001b[33mWARNING \u001b[0m \u001b[35m/Users/RoverHofman/Desktop/School/thesis/.venv/lib/python3.11/site-pac\u001b[0m \u001b]8;id=59434;file:///Library/Frameworks/Python.framework/Versions/3.11/lib/python3.11/warnings.py\u001b\\\u001b[2mwarnings.py\u001b[0m\u001b]8;;\u001b\\\u001b[2m:\u001b[0m\u001b]8;id=627669;file:///Library/Frameworks/Python.framework/Versions/3.11/lib/python3.11/warnings.py#109\u001b\\\u001b[2m109\u001b[0m\u001b]8;;\u001b\\\n",
       "\u001b[2;36m                    \u001b[0m         \u001b[35mkages/kedro/io/\u001b[0m\u001b[95mdata_catalog.py\u001b[0m:\u001b[1;36m165\u001b[0m: KedroDeprecationWarning:           \u001b[2m               \u001b[0m\n",
       "\u001b[2;36m                    \u001b[0m         `DataCatalog` has been deprecated and will be replaced by              \u001b[2m               \u001b[0m\n",
       "\u001b[2;36m                    \u001b[0m         `KedroDataCatalog`, in Kedro \u001b[1;36m1.0\u001b[0m.\u001b[1;36m0.\u001b[0mCurrently some `KedroDataCatalog`   \u001b[2m               \u001b[0m\n",
       "\u001b[2;36m                    \u001b[0m         APIs have been retained for compatibility with `DataCatalog`,          \u001b[2m               \u001b[0m\n",
       "\u001b[2;36m                    \u001b[0m         including the `datasets` property and the `get_datasets`,              \u001b[2m               \u001b[0m\n",
       "\u001b[2;36m                    \u001b[0m         `_get_datasets`, `add`,` list`, `add_feed_dict`, and `shallow_copy`    \u001b[2m               \u001b[0m\n",
       "\u001b[2;36m                    \u001b[0m         methods. These will be removed or replaced with updated alternatives   \u001b[2m               \u001b[0m\n",
       "\u001b[2;36m                    \u001b[0m         in Kedro \u001b[1;36m1.0\u001b[0m.\u001b[1;36m0\u001b[0m. For more details, refer to the documentation:          \u001b[2m               \u001b[0m\n",
       "\u001b[2;36m                    \u001b[0m         \u001b[4;94mhttps://docs.kedro.org/en/stable/data/index.html#kedrodatacatalog-expe\u001b[0m \u001b[2m               \u001b[0m\n",
       "\u001b[2;36m                    \u001b[0m         \u001b[4;94mrimental-feature\u001b[0m                                                       \u001b[2m               \u001b[0m\n",
       "\u001b[2;36m                    \u001b[0m           \u001b[1;35mwarnings.warn\u001b[0m\u001b[1m(\u001b[0m                                                       \u001b[2m               \u001b[0m\n",
       "\u001b[2;36m                    \u001b[0m                                                                                \u001b[2m               \u001b[0m\n"
      ]
     },
     "metadata": {},
     "output_type": "display_data"
    },
    {
     "data": {
      "text/html": [
       "<pre style=\"white-space:pre;overflow-x:auto;line-height:normal;font-family:Menlo,'DejaVu Sans Mono',consolas,'Courier New',monospace\"><span style=\"color: #7fbfbf; text-decoration-color: #7fbfbf\">                    </span><span style=\"color: #000080; text-decoration-color: #000080\">INFO    </span> Kedro is sending anonymous usage data with the sole purpose of improving <a href=\"file:///Users/RoverHofman/Desktop/School/thesis/.venv/lib/python3.11/site-packages/kedro_telemetry/plugin.py\" target=\"_blank\"><span style=\"color: #7f7f7f; text-decoration-color: #7f7f7f\">plugin.py</span></a><span style=\"color: #7f7f7f; text-decoration-color: #7f7f7f\">:</span><a href=\"file:///Users/RoverHofman/Desktop/School/thesis/.venv/lib/python3.11/site-packages/kedro_telemetry/plugin.py#233\" target=\"_blank\"><span style=\"color: #7f7f7f; text-decoration-color: #7f7f7f\">233</span></a>\n",
       "<span style=\"color: #7fbfbf; text-decoration-color: #7fbfbf\">                    </span>         the product. No personal data or IP addresses are stored on our side. If <span style=\"color: #7f7f7f; text-decoration-color: #7f7f7f\">             </span>\n",
       "<span style=\"color: #7fbfbf; text-decoration-color: #7fbfbf\">                    </span>         you want to opt out, set the `KEDRO_DISABLE_TELEMETRY` or `DO_NOT_TRACK` <span style=\"color: #7f7f7f; text-decoration-color: #7f7f7f\">             </span>\n",
       "<span style=\"color: #7fbfbf; text-decoration-color: #7fbfbf\">                    </span>         environment variables, or create a `.telemetry` file in the current      <span style=\"color: #7f7f7f; text-decoration-color: #7f7f7f\">             </span>\n",
       "<span style=\"color: #7fbfbf; text-decoration-color: #7fbfbf\">                    </span>         working directory with the contents `consent: false`. Read more at       <span style=\"color: #7f7f7f; text-decoration-color: #7f7f7f\">             </span>\n",
       "<span style=\"color: #7fbfbf; text-decoration-color: #7fbfbf\">                    </span>         <span style=\"color: #0000ff; text-decoration-color: #0000ff; text-decoration: underline\">https://docs.kedro.org/en/stable/configuration/telemetry.html</span>            <span style=\"color: #7f7f7f; text-decoration-color: #7f7f7f\">             </span>\n",
       "</pre>\n"
      ],
      "text/plain": [
       "\u001b[2;36m                   \u001b[0m\u001b[2;36m \u001b[0m\u001b[34mINFO    \u001b[0m Kedro is sending anonymous usage data with the sole purpose of improving \u001b]8;id=660166;file:///Users/RoverHofman/Desktop/School/thesis/.venv/lib/python3.11/site-packages/kedro_telemetry/plugin.py\u001b\\\u001b[2mplugin.py\u001b[0m\u001b]8;;\u001b\\\u001b[2m:\u001b[0m\u001b]8;id=9255;file:///Users/RoverHofman/Desktop/School/thesis/.venv/lib/python3.11/site-packages/kedro_telemetry/plugin.py#233\u001b\\\u001b[2m233\u001b[0m\u001b]8;;\u001b\\\n",
       "\u001b[2;36m                    \u001b[0m         the product. No personal data or IP addresses are stored on our side. If \u001b[2m             \u001b[0m\n",
       "\u001b[2;36m                    \u001b[0m         you want to opt out, set the `KEDRO_DISABLE_TELEMETRY` or `DO_NOT_TRACK` \u001b[2m             \u001b[0m\n",
       "\u001b[2;36m                    \u001b[0m         environment variables, or create a `.telemetry` file in the current      \u001b[2m             \u001b[0m\n",
       "\u001b[2;36m                    \u001b[0m         working directory with the contents `consent: false`. Read more at       \u001b[2m             \u001b[0m\n",
       "\u001b[2;36m                    \u001b[0m         \u001b[4;94mhttps://docs.kedro.org/en/stable/configuration/telemetry.html\u001b[0m            \u001b[2m             \u001b[0m\n"
      ]
     },
     "metadata": {},
     "output_type": "display_data"
    },
    {
     "data": {
      "text/html": [
       "<pre style=\"white-space:pre;overflow-x:auto;line-height:normal;font-family:Menlo,'DejaVu Sans Mono',consolas,'Courier New',monospace\"><span style=\"color: #7fbfbf; text-decoration-color: #7fbfbf\">[05/07/25 16:56:48] </span><span style=\"color: #000080; text-decoration-color: #000080\">INFO    </span> Kedro project embedding_forecasting                                    <a href=\"file:///Users/RoverHofman/Desktop/School/thesis/.venv/lib/python3.11/site-packages/kedro/ipython/__init__.py\" target=\"_blank\"><span style=\"color: #7f7f7f; text-decoration-color: #7f7f7f\">__init__.py</span></a><span style=\"color: #7f7f7f; text-decoration-color: #7f7f7f\">:</span><a href=\"file:///Users/RoverHofman/Desktop/School/thesis/.venv/lib/python3.11/site-packages/kedro/ipython/__init__.py#146\" target=\"_blank\"><span style=\"color: #7f7f7f; text-decoration-color: #7f7f7f\">146</span></a>\n",
       "</pre>\n"
      ],
      "text/plain": [
       "\u001b[2;36m[05/07/25 16:56:48]\u001b[0m\u001b[2;36m \u001b[0m\u001b[34mINFO    \u001b[0m Kedro project embedding_forecasting                                    \u001b]8;id=198816;file:///Users/RoverHofman/Desktop/School/thesis/.venv/lib/python3.11/site-packages/kedro/ipython/__init__.py\u001b\\\u001b[2m__init__.py\u001b[0m\u001b]8;;\u001b\\\u001b[2m:\u001b[0m\u001b]8;id=57167;file:///Users/RoverHofman/Desktop/School/thesis/.venv/lib/python3.11/site-packages/kedro/ipython/__init__.py#146\u001b\\\u001b[2m146\u001b[0m\u001b]8;;\u001b\\\n"
      ]
     },
     "metadata": {},
     "output_type": "display_data"
    },
    {
     "data": {
      "text/html": [
       "<pre style=\"white-space:pre;overflow-x:auto;line-height:normal;font-family:Menlo,'DejaVu Sans Mono',consolas,'Courier New',monospace\"><span style=\"color: #7fbfbf; text-decoration-color: #7fbfbf\">                    </span><span style=\"color: #000080; text-decoration-color: #000080\">INFO    </span> Defined global variable <span style=\"color: #008000; text-decoration-color: #008000\">'context'</span>, <span style=\"color: #008000; text-decoration-color: #008000\">'session'</span>, <span style=\"color: #008000; text-decoration-color: #008000\">'catalog'</span> and            <a href=\"file:///Users/RoverHofman/Desktop/School/thesis/.venv/lib/python3.11/site-packages/kedro/ipython/__init__.py\" target=\"_blank\"><span style=\"color: #7f7f7f; text-decoration-color: #7f7f7f\">__init__.py</span></a><span style=\"color: #7f7f7f; text-decoration-color: #7f7f7f\">:</span><a href=\"file:///Users/RoverHofman/Desktop/School/thesis/.venv/lib/python3.11/site-packages/kedro/ipython/__init__.py#147\" target=\"_blank\"><span style=\"color: #7f7f7f; text-decoration-color: #7f7f7f\">147</span></a>\n",
       "<span style=\"color: #7fbfbf; text-decoration-color: #7fbfbf\">                    </span>         <span style=\"color: #008000; text-decoration-color: #008000\">'pipelines'</span>                                                            <span style=\"color: #7f7f7f; text-decoration-color: #7f7f7f\">               </span>\n",
       "</pre>\n"
      ],
      "text/plain": [
       "\u001b[2;36m                   \u001b[0m\u001b[2;36m \u001b[0m\u001b[34mINFO    \u001b[0m Defined global variable \u001b[32m'context'\u001b[0m, \u001b[32m'session'\u001b[0m, \u001b[32m'catalog'\u001b[0m and            \u001b]8;id=848003;file:///Users/RoverHofman/Desktop/School/thesis/.venv/lib/python3.11/site-packages/kedro/ipython/__init__.py\u001b\\\u001b[2m__init__.py\u001b[0m\u001b]8;;\u001b\\\u001b[2m:\u001b[0m\u001b]8;id=852211;file:///Users/RoverHofman/Desktop/School/thesis/.venv/lib/python3.11/site-packages/kedro/ipython/__init__.py#147\u001b\\\u001b[2m147\u001b[0m\u001b]8;;\u001b\\\n",
       "\u001b[2;36m                    \u001b[0m         \u001b[32m'pipelines'\u001b[0m                                                            \u001b[2m               \u001b[0m\n"
      ]
     },
     "metadata": {},
     "output_type": "display_data"
    }
   ],
   "source": [
    "%reload_ext kedro.ipython"
   ]
  },
  {
   "cell_type": "code",
   "execution_count": 11,
   "id": "408407c4-49fa-490d-8e19-a9fe5a5df5fd",
   "metadata": {},
   "outputs": [
    {
     "data": {
      "text/html": [
       "<pre style=\"white-space:pre;overflow-x:auto;line-height:normal;font-family:Menlo,'DejaVu Sans Mono',consolas,'Courier New',monospace\"></pre>\n"
      ],
      "text/plain": []
     },
     "metadata": {},
     "output_type": "display_data"
    },
    {
     "data": {
      "text/plain": [
       "\u001b[1m[\u001b[0m\u001b[32m'closing_prices'\u001b[0m, \u001b[32m'parameters'\u001b[0m\u001b[1m]\u001b[0m"
      ]
     },
     "execution_count": 11,
     "metadata": {},
     "output_type": "execute_result"
    }
   ],
   "source": [
    "catalog.list()\n",
    "\n"
   ]
  },
  {
   "cell_type": "code",
   "execution_count": 12,
   "id": "850a8b46-ee50-47b2-a9c9-34b06bd38a2b",
   "metadata": {},
   "outputs": [
    {
     "data": {
      "text/html": [
       "<pre style=\"white-space:pre;overflow-x:auto;line-height:normal;font-family:Menlo,'DejaVu Sans Mono',consolas,'Courier New',monospace\"><span style=\"color: #7fbfbf; text-decoration-color: #7fbfbf\">[05/07/25 16:56:53] </span><span style=\"color: #000080; text-decoration-color: #000080\">INFO    </span> Loading data from <span style=\"color: #ff8700; text-decoration-color: #ff8700\">closing_prices</span> <span style=\"font-weight: bold\">(</span>CSVDataset<span style=\"font-weight: bold\">)</span><span style=\"color: #808000; text-decoration-color: #808000\">...</span>                   <a href=\"file:///Users/RoverHofman/Desktop/School/thesis/.venv/lib/python3.11/site-packages/kedro/io/data_catalog.py\" target=\"_blank\"><span style=\"color: #7f7f7f; text-decoration-color: #7f7f7f\">data_catalog.py</span></a><span style=\"color: #7f7f7f; text-decoration-color: #7f7f7f\">:</span><a href=\"file:///Users/RoverHofman/Desktop/School/thesis/.venv/lib/python3.11/site-packages/kedro/io/data_catalog.py#401\" target=\"_blank\"><span style=\"color: #7f7f7f; text-decoration-color: #7f7f7f\">401</span></a>\n",
       "</pre>\n"
      ],
      "text/plain": [
       "\u001b[2;36m[05/07/25 16:56:53]\u001b[0m\u001b[2;36m \u001b[0m\u001b[34mINFO    \u001b[0m Loading data from \u001b[38;5;208mclosing_prices\u001b[0m \u001b[1m(\u001b[0mCSVDataset\u001b[1m)\u001b[0m\u001b[33m...\u001b[0m                   \u001b]8;id=532659;file:///Users/RoverHofman/Desktop/School/thesis/.venv/lib/python3.11/site-packages/kedro/io/data_catalog.py\u001b\\\u001b[2mdata_catalog.py\u001b[0m\u001b]8;;\u001b\\\u001b[2m:\u001b[0m\u001b]8;id=901468;file:///Users/RoverHofman/Desktop/School/thesis/.venv/lib/python3.11/site-packages/kedro/io/data_catalog.py#401\u001b\\\u001b[2m401\u001b[0m\u001b]8;;\u001b\\\n"
      ]
     },
     "metadata": {},
     "output_type": "display_data"
    },
    {
     "data": {
      "text/html": [
       "<pre style=\"white-space:pre;overflow-x:auto;line-height:normal;font-family:Menlo,'DejaVu Sans Mono',consolas,'Courier New',monospace\"></pre>\n"
      ],
      "text/plain": []
     },
     "metadata": {},
     "output_type": "display_data"
    },
    {
     "data": {
      "text/html": [
       "<div>\n",
       "<style scoped>\n",
       "    .dataframe tbody tr th:only-of-type {\n",
       "        vertical-align: middle;\n",
       "    }\n",
       "\n",
       "    .dataframe tbody tr th {\n",
       "        vertical-align: top;\n",
       "    }\n",
       "\n",
       "    .dataframe thead th {\n",
       "        text-align: right;\n",
       "    }\n",
       "</style>\n",
       "<table border=\"1\" class=\"dataframe\">\n",
       "  <thead>\n",
       "    <tr style=\"text-align: right;\">\n",
       "      <th></th>\n",
       "      <th>Date</th>\n",
       "      <th>price_close</th>\n",
       "    </tr>\n",
       "  </thead>\n",
       "  <tbody>\n",
       "    <tr>\n",
       "      <th>0</th>\n",
       "      <td>1950-01-03</td>\n",
       "      <td>16.66</td>\n",
       "    </tr>\n",
       "    <tr>\n",
       "      <th>1</th>\n",
       "      <td>1950-01-04</td>\n",
       "      <td>16.85</td>\n",
       "    </tr>\n",
       "    <tr>\n",
       "      <th>2</th>\n",
       "      <td>1950-01-05</td>\n",
       "      <td>16.93</td>\n",
       "    </tr>\n",
       "    <tr>\n",
       "      <th>3</th>\n",
       "      <td>1950-01-06</td>\n",
       "      <td>16.98</td>\n",
       "    </tr>\n",
       "    <tr>\n",
       "      <th>4</th>\n",
       "      <td>1950-01-07</td>\n",
       "      <td>17.09</td>\n",
       "    </tr>\n",
       "    <tr>\n",
       "      <th>...</th>\n",
       "      <td>...</td>\n",
       "      <td>...</td>\n",
       "    </tr>\n",
       "    <tr>\n",
       "      <th>19033</th>\n",
       "      <td>2025-04-23</td>\n",
       "      <td>5375.86</td>\n",
       "    </tr>\n",
       "    <tr>\n",
       "      <th>19034</th>\n",
       "      <td>2025-04-24</td>\n",
       "      <td>5484.77</td>\n",
       "    </tr>\n",
       "    <tr>\n",
       "      <th>19035</th>\n",
       "      <td>2025-04-25</td>\n",
       "      <td>5525.21</td>\n",
       "    </tr>\n",
       "    <tr>\n",
       "      <th>19036</th>\n",
       "      <td>2025-04-28</td>\n",
       "      <td>5528.75</td>\n",
       "    </tr>\n",
       "    <tr>\n",
       "      <th>19037</th>\n",
       "      <td>2025-04-29</td>\n",
       "      <td>5560.83</td>\n",
       "    </tr>\n",
       "  </tbody>\n",
       "</table>\n",
       "<p>19038 rows × 2 columns</p>\n",
       "</div>"
      ],
      "text/plain": [
       "\n",
       "             Date  price_close\n",
       "\u001b[1;36m0\u001b[0m      \u001b[1;36m1950\u001b[0m-\u001b[1;36m01\u001b[0m-\u001b[1;36m03\u001b[0m        \u001b[1;36m16.66\u001b[0m\n",
       "\u001b[1;36m1\u001b[0m      \u001b[1;36m1950\u001b[0m-\u001b[1;36m01\u001b[0m-\u001b[1;36m04\u001b[0m        \u001b[1;36m16.85\u001b[0m\n",
       "\u001b[1;36m2\u001b[0m      \u001b[1;36m1950\u001b[0m-\u001b[1;36m01\u001b[0m-\u001b[1;36m05\u001b[0m        \u001b[1;36m16.93\u001b[0m\n",
       "\u001b[1;36m3\u001b[0m      \u001b[1;36m1950\u001b[0m-\u001b[1;36m01\u001b[0m-\u001b[1;36m06\u001b[0m        \u001b[1;36m16.98\u001b[0m\n",
       "\u001b[1;36m4\u001b[0m      \u001b[1;36m1950\u001b[0m-\u001b[1;36m01\u001b[0m-\u001b[1;36m07\u001b[0m        \u001b[1;36m17.09\u001b[0m\n",
       "\u001b[33m...\u001b[0m           \u001b[33m...\u001b[0m          \u001b[33m...\u001b[0m\n",
       "\u001b[1;36m19033\u001b[0m  \u001b[1;36m2025\u001b[0m-\u001b[1;36m04\u001b[0m-\u001b[1;36m23\u001b[0m      \u001b[1;36m5375.86\u001b[0m\n",
       "\u001b[1;36m19034\u001b[0m  \u001b[1;36m2025\u001b[0m-\u001b[1;36m04\u001b[0m-\u001b[1;36m24\u001b[0m      \u001b[1;36m5484.77\u001b[0m\n",
       "\u001b[1;36m19035\u001b[0m  \u001b[1;36m2025\u001b[0m-\u001b[1;36m04\u001b[0m-\u001b[1;36m25\u001b[0m      \u001b[1;36m5525.21\u001b[0m\n",
       "\u001b[1;36m19036\u001b[0m  \u001b[1;36m2025\u001b[0m-\u001b[1;36m04\u001b[0m-\u001b[1;36m28\u001b[0m      \u001b[1;36m5528.75\u001b[0m\n",
       "\u001b[1;36m19037\u001b[0m  \u001b[1;36m2025\u001b[0m-\u001b[1;36m04\u001b[0m-\u001b[1;36m29\u001b[0m      \u001b[1;36m5560.83\u001b[0m\n",
       "\n",
       "\u001b[1m[\u001b[0m\u001b[1;36m19038\u001b[0m rows x \u001b[1;36m2\u001b[0m columns\u001b[1m]\u001b[0m"
      ]
     },
     "execution_count": 12,
     "metadata": {},
     "output_type": "execute_result"
    }
   ],
   "source": [
    "catalog.load(\"closing_prices\")"
   ]
  },
  {
   "cell_type": "code",
   "execution_count": null,
   "id": "68fc72b5-d767-4f3d-80d1-037bbb25640a",
   "metadata": {},
   "outputs": [],
   "source": []
  }
 ],
 "metadata": {
  "kernelspec": {
   "display_name": "Python 3 (ipykernel)",
   "language": "python",
   "name": "python3"
  },
  "language_info": {
   "codemirror_mode": {
    "name": "ipython",
    "version": 3
   },
   "file_extension": ".py",
   "mimetype": "text/x-python",
   "name": "python",
   "nbconvert_exporter": "python",
   "pygments_lexer": "ipython3",
   "version": "3.11.3"
  }
 },
 "nbformat": 4,
 "nbformat_minor": 5
}
